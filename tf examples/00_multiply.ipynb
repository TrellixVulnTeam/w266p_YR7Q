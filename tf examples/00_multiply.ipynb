{
 "cells": [
  {
   "cell_type": "code",
   "execution_count": 1,
   "metadata": {
    "collapsed": true
   },
   "outputs": [],
   "source": [
    "import tensorflow as tf"
   ]
  },
  {
   "cell_type": "code",
   "execution_count": 2,
   "metadata": {
    "collapsed": true
   },
   "outputs": [],
   "source": [
    "a = tf.placeholder(\"float\") # Create a symbolic variable 'a'\n",
    "b = tf.placeholder(\"float\") # Create a symbolic variable 'b'\n",
    "\n",
    "y = tf.mul(a, b) # multiply the symbolic variables"
   ]
  },
  {
   "cell_type": "code",
   "execution_count": 9,
   "metadata": {
    "collapsed": false
   },
   "outputs": [
    {
     "name": "stdout",
     "output_type": "stream",
     "text": [
      "should equal  [2, 3, 6, 3]  =  [ 8.  6.]\n"
     ]
    }
   ],
   "source": [
    "class m(object):\n",
    "    def __init__(self):\n",
    "        self.a = tf.placeholder(\"float\") # Create a symbolic variable 'a'\n",
    "        self.b = tf.placeholder(\"float\") # Create a symbolic variable 'b'\n",
    "\n",
    "    def plus(self, a, b):\n",
    "        r = tf.add(self.a, self.b)\n",
    "        with tf.Session() as sess: # create a session to evaluate the symbolic expressions\n",
    "            return sess.run(r, feed_dict={self.a: a, self.b: b})\n",
    "w = m();\n",
    "a = [2, 3]\n",
    "b = [6, 3]\n",
    "print \"should equal \", (a+b), \" = \", w.plus(a, b)\n"
   ]
  },
  {
   "cell_type": "code",
   "execution_count": null,
   "metadata": {
    "collapsed": true
   },
   "outputs": [],
   "source": []
  }
 ],
 "metadata": {
  "kernelspec": {
   "display_name": "Python 2",
   "language": "python",
   "name": "python2"
  },
  "language_info": {
   "codemirror_mode": {
    "name": "ipython",
    "version": 2
   },
   "file_extension": ".py",
   "mimetype": "text/x-python",
   "name": "python",
   "nbconvert_exporter": "python",
   "pygments_lexer": "ipython2",
   "version": "2.7.6"
  }
 },
 "nbformat": 4,
 "nbformat_minor": 1
}
