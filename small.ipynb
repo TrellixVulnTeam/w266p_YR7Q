{
 "cells": [
  {
   "cell_type": "code",
   "execution_count": 4,
   "metadata": {
    "collapsed": false
   },
   "outputs": [
    {
     "name": "stdout",
     "output_type": "stream",
     "text": [
      "Collecting sets\n",
      "  Using cached sets-0.3.2.tar.gz\n",
      "Requirement already up-to-date: numpy in /usr/local/lib/python2.7/dist-packages (from sets)\n",
      "Collecting requests (from sets)\n",
      "  Using cached requests-2.12.1-py2.py3-none-any.whl\n",
      "Requirement already up-to-date: nltk in /usr/local/lib/python2.7/dist-packages (from sets)\n",
      "Collecting lxml (from sets)\n",
      "  Using cached lxml-3.6.4-cp27-cp27mu-manylinux1_x86_64.whl\n",
      "Collecting definitions (from sets)\n",
      "  Using cached definitions-0.2.0.tar.gz\n",
      "Collecting PyYAML (from definitions->sets)\n",
      "/usr/local/lib/python2.7/dist-packages/pip/_vendor/requests/packages/urllib3/util/ssl_.py:318: SNIMissingWarning: An HTTPS request has been made, but the SNI (Subject Name Indication) extension to TLS is not available on this platform. This may cause the server to present an incorrect TLS certificate, which can cause validation failures. You can upgrade to a newer version of Python to solve this. For more information, see https://urllib3.readthedocs.io/en/latest/security.html#snimissingwarning.\n",
      "  SNIMissingWarning\n",
      "/usr/local/lib/python2.7/dist-packages/pip/_vendor/requests/packages/urllib3/util/ssl_.py:122: InsecurePlatformWarning: A true SSLContext object is not available. This prevents urllib3 from configuring SSL appropriately and may cause certain SSL connections to fail. You can upgrade to a newer version of Python to solve this. For more information, see https://urllib3.readthedocs.io/en/latest/security.html#insecureplatformwarning.\n",
      "  InsecurePlatformWarning\n",
      "  Downloading PyYAML-3.12.tar.gz (253kB)\n",
      "\u001b[K    100% |################################| 256kB 2.4MB/s \n",
      "\u001b[?25hBuilding wheels for collected packages: sets, definitions, PyYAML\n",
      "  Running setup.py bdist_wheel for sets ... \u001b[?25l-\b \bdone\n",
      "\u001b[?25h  Stored in directory: /root/.cache/pip/wheels/f4/bd/9d/c652a83cf8849e99128634ce5e01c3e5f129f9dbec31aa2a64\n",
      "  Running setup.py bdist_wheel for definitions ... \u001b[?25l-\b \bdone\n",
      "\u001b[?25h  Stored in directory: /root/.cache/pip/wheels/36/3f/51/d9bbdb39ab9d6feb97d18b7f83ec9ff23ed68dd6d59785294d\n",
      "  Running setup.py bdist_wheel for PyYAML ... \u001b[?25l-\b \b\\\b \bdone\n",
      "\u001b[?25h  Stored in directory: /root/.cache/pip/wheels/2c/f7/79/13f3a12cd723892437c0cfbde1230ab4d82947ff7b3839a4fc\n",
      "Successfully built sets definitions PyYAML\n",
      "Installing collected packages: requests, lxml, PyYAML, definitions, sets\n",
      "  Found existing installation: requests 2.2.1\n",
      "\u001b[31m    DEPRECATION: Uninstalling a distutils installed project (requests) has been deprecated and will be removed in a future version. This is due to the fact that uninstalling a distutils project will only partially uninstall the project.\u001b[0m\n",
      "    Uninstalling requests-2.2.1:\n",
      "      Successfully uninstalled requests-2.2.1\n",
      "Successfully installed PyYAML-3.12 definitions-0.2.0 lxml-3.6.4 requests-2.12.1 sets-0.3.2\n",
      "342\n"
     ]
    }
   ],
   "source": [
    "#!pip install --upgrade sets\n",
    "import os\n",
    "from sets import Set\n",
    "\n",
    "d = Set([])\n",
    "\n",
    "f = open(\"sporg.txt\", \"r\")\n",
    "for line in f:\n",
    "    d.add(line.split(',')[0])\n",
    "print len(d)"
   ]
  },
  {
   "cell_type": "code",
   "execution_count": 9,
   "metadata": {
    "collapsed": false
   },
   "outputs": [
    {
     "name": "stdout",
     "output_type": "stream",
     "text": [
      "Set(['344', '345', '346', '340', '341', '343', '298', '299', '296', '297', '294', '295', '292', '291', '199', '198', '195', '196', '191', '270', '272', '274', '275', '276', '278', '449', '442', '441', '440', '447', '445', '444', '108', '109', '102', '103', '100', '101', '104', '105', '39', '38', '33', '32', '31', '30', '35', '34', '438', '437', '434', '435', '433', '338', '335', '337', '336', '331', '332', '99', '98', '91', '92', '96', '239', '234', '236', '230', '231', '232', '233', '146', '145', '140', '141', '149', '133', '132', '130', '137', '499', '134', '494', '495', '139', '497', '490', '491', '492', '493', '26', '27', '20', '22', '23', '29', '406', '405', '403', '401', '408', '378', '371', '370', '373', '372', '375', '377', '376', '392', '391', '89', '397', '394', '83', '399', '84', '85', '7', '245', '244', '247', '241', '240', '243', '242', '249', '459', '450', '451', '454', '455', '457', '178', '177', '175', '174', '173', '171', '182', '180', '2', '186', '187', '184', '188', '189', '11', '10', '13', '15', '17', '16', '19', '18', '320', '327', '324', '325', '328', '329', '201', '203', '202', '205', '204', '207', '206', '209', '208', '77', '76', '75', '73', '72', '70', '78', '120', '122', '124', '125', '126', '127', '128', '414', '415', '416', '417', '410', '412', '413', '498', '418', '419', '319', '312', '310', '317', '315', '314', '496', '366', '367', '365', '363', '360', '383', '385', '387', '388', '389', '60', '61', '258', '259', '64', '65', '66', '67', '69', '250', '*12', '257', '254', '255', '504', '503', '501', '468', '465', '464', '467', '461', '460', '463', '462', '168', '164', '165', '166', '160', '161', '163', '9', '357', '355', '352', '351', '358', '216', '215', '213', '210', '211', '218', '289', '288', '4', '281', '283', '282', '285', '287', '263', '261', '267', '266', '265', '269', '59', '58', '54', '62', '53', '52', '115', '117', '116', '111', '110', '113', '112', '119', '118', '256', '429', '421', '420', '423', '425', '427', '308', '300', '301', '302', '305', '306', '307', '229', '228', '225', '224', '223', '222', '221', '220', '88', '151', '150', '153', '152', '155', '154', '157', '156', '159', '158', '48', '46', '47', '44', '45', '42', '43', '40', '41', '5', '489', '488', '486', '485', '483', '481', '480', '472', '473', '470', '476', '477', '474', '475', '478'])\n"
     ]
    }
   ],
   "source": [
    "print d\n"
   ]
  },
  {
   "cell_type": "code",
   "execution_count": 10,
   "metadata": {
    "collapsed": false
   },
   "outputs": [
    {
     "name": "stdout",
     "output_type": "stream",
     "text": [
      "['*12', '10', '100', '101', '102', '103', '104', '105', '108', '109', '11', '110', '111', '112', '113', '115', '116', '117', '118', '119', '120', '122', '124', '125', '126', '127', '128', '13', '130', '132', '133', '134', '137', '139', '140', '141', '145', '146', '149', '15', '150', '151', '152', '153', '154', '155', '156', '157', '158', '159', '16', '160', '161', '163', '164', '165', '166', '168', '17', '171', '173', '174', '175', '177', '178', '18', '180', '182', '184', '186', '187', '188', '189', '19', '191', '195', '196', '198', '199', '2', '20', '201', '202', '203', '204', '205', '206', '207', '208', '209', '210', '211', '213', '215', '216', '218', '22', '220', '221', '222', '223', '224', '225', '228', '229', '23', '230', '231', '232', '233', '234', '236', '239', '240', '241', '242', '243', '244', '245', '247', '249', '250', '254', '255', '256', '257', '258', '259', '26', '261', '263', '265', '266', '267', '269', '27', '270', '272', '274', '275', '276', '278', '281', '282', '283', '285', '287', '288', '289', '29', '291', '292', '294', '295', '296', '297', '298', '299', '30', '300', '301', '302', '305', '306', '307', '308', '31', '310', '312', '314', '315', '317', '319', '32', '320', '324', '325', '327', '328', '329', '33', '331', '332', '335', '336', '337', '338', '34', '340', '341', '343', '344', '345', '346', '35', '351', '352', '355', '357', '358', '360', '363', '365', '366', '367', '370', '371', '372', '373', '375', '376', '377', '378', '38', '383', '385', '387', '388', '389', '39', '391', '392', '394', '397', '399', '4', '40', '401', '403', '405', '406', '408', '41', '410', '412', '413', '414', '415', '416', '417', '418', '419', '42', '420', '421', '423', '425', '427', '429', '43', '433', '434', '435', '437', '438', '44', '440', '441', '442', '444', '445', '447', '449', '45', '450', '451', '454', '455', '457', '459', '46', '460', '461', '462', '463', '464', '465', '467', '468', '47', '470', '472', '473', '474', '475', '476', '477', '478', '48', '480', '481', '483', '485', '486', '488', '489', '490', '491', '492', '493', '494', '495', '496', '497', '498', '499', '5', '501', '503', '504', '52', '53', '54', '58', '59', '60', '61', '62', '64', '65', '66', '67', '69', '7', '70', '72', '73', '75', '76', '77', '78', '83', '84', '85', '88', '89', '9', '91', '92', '96', '98', '99']\n"
     ]
    }
   ],
   "source": [
    "t = list(d)\n",
    "t.sort()\n",
    "\n",
    "print t"
   ]
  }
 ],
 "metadata": {
  "kernelspec": {
   "display_name": "Python 2",
   "language": "python",
   "name": "python2"
  },
  "language_info": {
   "codemirror_mode": {
    "name": "ipython",
    "version": 2
   },
   "file_extension": ".py",
   "mimetype": "text/x-python",
   "name": "python",
   "nbconvert_exporter": "python",
   "pygments_lexer": "ipython2",
   "version": "2.7.6"
  }
 },
 "nbformat": 4,
 "nbformat_minor": 0
}
