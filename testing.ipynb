{
 "cells": [
  {
   "cell_type": "code",
   "execution_count": 2,
   "metadata": {
    "collapsed": false
   },
   "outputs": [
    {
     "name": "stdout",
     "output_type": "stream",
     "text": [
      "[[ 10.  10.  10.  10.  10.]\n",
      " [ 10.  10.  10.  10.  10.]] \n",
      "[[ 10.  10.]\n",
      " [ 10.  10.]\n",
      " [ 10.  10.]\n",
      " [ 10.  10.]\n",
      " [ 10.  10.]] \n",
      "100.0 \n",
      "5\n"
     ]
    }
   ],
   "source": [
    "import tensorflow as tf\n",
    "import numpy as np\n",
    "\n",
    "a = tf.constant(10.0,shape=[2,5])\n",
    "b = tf.reshape(a, [5,2])\n",
    "c = tf.reduce_sum(b)\n",
    "d = tf.constant(1.0, shape=[1,1])\n",
    "init_ = tf.initialize_all_variables()\n",
    "\n",
    "tf.Session().run(init_)\n",
    "la = tf.Session().run(a)\n",
    "lb = tf.Session().run(b)\n",
    "lc = tf.Session().run(c)\n",
    "ld = tf.Session().run(d)\n",
    "print la, '\\n', lb, '\\n', lc, '\\n', len(la[0])"
   ]
  },
  {
   "cell_type": "code",
   "execution_count": 1,
   "metadata": {
    "collapsed": false
   },
   "outputs": [
    {
     "name": "stdout",
     "output_type": "stream",
     "text": [
      "0.11.0rc2\r\n"
     ]
    }
   ],
   "source": [
    "!python -c 'import tensorflow as tf; print(tf.__version__)'  # for Python 2"
   ]
  },
  {
   "cell_type": "code",
   "execution_count": null,
   "metadata": {
    "collapsed": true
   },
   "outputs": [],
   "source": []
  },
  {
   "cell_type": "code",
   "execution_count": 8,
   "metadata": {
    "collapsed": false
   },
   "outputs": [
    {
     "name": "stdout",
     "output_type": "stream",
     "text": [
      "Tensor(\"Shape_3:0\", shape=(0,), dtype=int32) 10.0\n"
     ]
    }
   ],
   "source": [
    "a = tf.constant(10.0)\n",
    "\n",
    "print tf.shape(a), tf.Session().run(a)"
   ]
  },
  {
   "cell_type": "code",
   "execution_count": null,
   "metadata": {
    "collapsed": true
   },
   "outputs": [],
   "source": []
  }
 ],
 "metadata": {
  "kernelspec": {
   "display_name": "Python 2",
   "language": "python",
   "name": "python2"
  },
  "language_info": {
   "codemirror_mode": {
    "name": "ipython",
    "version": 2
   },
   "file_extension": ".py",
   "mimetype": "text/x-python",
   "name": "python",
   "nbconvert_exporter": "python",
   "pygments_lexer": "ipython2",
   "version": "2.7.6"
  }
 },
 "nbformat": 4,
 "nbformat_minor": 0
}
