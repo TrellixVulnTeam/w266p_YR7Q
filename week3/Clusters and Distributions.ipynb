{
 "cells": [
  {
   "cell_type": "markdown",
   "metadata": {},
   "source": [
    "## Week 3: Clusters and Distributions\n",
    "\n",
    "In this week's section, we'll explore word representations. Particularly, we'll focus on SVD-based embeddings; you'll have a chance to implement a more sophisticated technique and explore neural embeddings in Assignment 1."
   ]
  },
  {
   "cell_type": "code",
   "execution_count": 23,
   "metadata": {
    "collapsed": false
   },
   "outputs": [
    {
     "name": "stdout",
     "output_type": "stream",
     "text": [
      "Requirement already up-to-date: pandas in /usr/local/lib/python2.7/dist-packages\n",
      "Requirement already up-to-date: pytz>=2011k in /usr/local/lib/python2.7/dist-packages (from pandas)\n",
      "Requirement already up-to-date: python-dateutil in /usr/local/lib/python2.7/dist-packages (from pandas)\n",
      "Requirement already up-to-date: numpy>=1.7.0 in /usr/local/lib/python2.7/dist-packages (from pandas)\n",
      "Requirement already up-to-date: six>=1.5 in /usr/local/lib/python2.7/dist-packages (from python-dateutil->pandas)\n",
      "Collecting itertools\n",
      "/usr/local/lib/python2.7/dist-packages/pip/_vendor/requests/packages/urllib3/util/ssl_.py:318: SNIMissingWarning: An HTTPS request has been made, but the SNI (Subject Name Indication) extension to TLS is not available on this platform. This may cause the server to present an incorrect TLS certificate, which can cause validation failures. You can upgrade to a newer version of Python to solve this. For more information, see https://urllib3.readthedocs.org/en/latest/security.html#snimissingwarning.\n",
      "  SNIMissingWarning\n",
      "/usr/local/lib/python2.7/dist-packages/pip/_vendor/requests/packages/urllib3/util/ssl_.py:122: InsecurePlatformWarning: A true SSLContext object is not available. This prevents urllib3 from configuring SSL appropriately and may cause certain SSL connections to fail. You can upgrade to a newer version of Python to solve this. For more information, see https://urllib3.readthedocs.org/en/latest/security.html#insecureplatformwarning.\n",
      "  InsecurePlatformWarning\n",
      "\u001b[31m  Could not find a version that satisfies the requirement itertools (from versions: )\u001b[0m\n",
      "\u001b[31mNo matching distribution found for itertools\u001b[0m\n",
      "Collecting collections\n",
      "/usr/local/lib/python2.7/dist-packages/pip/_vendor/requests/packages/urllib3/util/ssl_.py:318: SNIMissingWarning: An HTTPS request has been made, but the SNI (Subject Name Indication) extension to TLS is not available on this platform. This may cause the server to present an incorrect TLS certificate, which can cause validation failures. You can upgrade to a newer version of Python to solve this. For more information, see https://urllib3.readthedocs.org/en/latest/security.html#snimissingwarning.\n",
      "  SNIMissingWarning\n",
      "/usr/local/lib/python2.7/dist-packages/pip/_vendor/requests/packages/urllib3/util/ssl_.py:122: InsecurePlatformWarning: A true SSLContext object is not available. This prevents urllib3 from configuring SSL appropriately and may cause certain SSL connections to fail. You can upgrade to a newer version of Python to solve this. For more information, see https://urllib3.readthedocs.org/en/latest/security.html#insecureplatformwarning.\n",
      "  InsecurePlatformWarning\n",
      "\u001b[31m  Could not find a version that satisfies the requirement collections (from versions: )\u001b[0m\n",
      "\u001b[31mNo matching distribution found for collections\u001b[0m\n",
      "/usr/local/lib/python2.7/dist-packages/pip/_vendor/requests/packages/urllib3/util/ssl_.py:318: SNIMissingWarning: An HTTPS request has been made, but the SNI (Subject Name Indication) extension to TLS is not available on this platform. This may cause the server to present an incorrect TLS certificate, which can cause validation failures. You can upgrade to a newer version of Python to solve this. For more information, see https://urllib3.readthedocs.org/en/latest/security.html#snimissingwarning.\n",
      "  SNIMissingWarning\n",
      "/usr/local/lib/python2.7/dist-packages/pip/_vendor/requests/packages/urllib3/util/ssl_.py:122: InsecurePlatformWarning: A true SSLContext object is not available. This prevents urllib3 from configuring SSL appropriately and may cause certain SSL connections to fail. You can upgrade to a newer version of Python to solve this. For more information, see https://urllib3.readthedocs.org/en/latest/security.html#insecureplatformwarning.\n",
      "  InsecurePlatformWarning\n",
      "Requirement already up-to-date: vocabulary in /usr/local/lib/python2.7/dist-packages\n",
      "Collecting requests==2.8.1 (from vocabulary)\n",
      "  Using cached requests-2.8.1-py2.py3-none-any.whl\n",
      "Installing collected packages: requests\n",
      "  Found existing installation: requests 2.11.1\n",
      "    Uninstalling requests-2.11.1:\n",
      "      Successfully uninstalled requests-2.11.1\n",
      "Successfully installed requests-2.8.1\n",
      "/usr/local/lib/python2.7/dist-packages/pip/_vendor/requests/packages/urllib3/util/ssl_.py:318: SNIMissingWarning: An HTTPS request has been made, but the SNI (Subject Name Indication) extension to TLS is not available on this platform. This may cause the server to present an incorrect TLS certificate, which can cause validation failures. You can upgrade to a newer version of Python to solve this. For more information, see https://urllib3.readthedocs.org/en/latest/security.html#snimissingwarning.\n",
      "  SNIMissingWarning\n",
      "/usr/local/lib/python2.7/dist-packages/pip/_vendor/requests/packages/urllib3/util/ssl_.py:122: InsecurePlatformWarning: A true SSLContext object is not available. This prevents urllib3 from configuring SSL appropriately and may cause certain SSL connections to fail. You can upgrade to a newer version of Python to solve this. For more information, see https://urllib3.readthedocs.org/en/latest/security.html#insecureplatformwarning.\n",
      "  InsecurePlatformWarning\n",
      "Requirement already up-to-date: scipy in /usr/local/lib/python2.7/dist-packages\n",
      "Requirement already up-to-date: pandas in /usr/local/lib/python2.7/dist-packages\n",
      "Requirement already up-to-date: pytz>=2011k in /usr/local/lib/python2.7/dist-packages (from pandas)\n",
      "Requirement already up-to-date: python-dateutil in /usr/local/lib/python2.7/dist-packages (from pandas)\n",
      "Requirement already up-to-date: numpy>=1.7.0 in /usr/local/lib/python2.7/dist-packages (from pandas)\n",
      "Requirement already up-to-date: six>=1.5 in /usr/local/lib/python2.7/dist-packages (from python-dateutil->pandas)\n",
      "Collecting plotting\n",
      "/usr/local/lib/python2.7/dist-packages/pip/_vendor/requests/packages/urllib3/util/ssl_.py:318: SNIMissingWarning: An HTTPS request has been made, but the SNI (Subject Name Indication) extension to TLS is not available on this platform. This may cause the server to present an incorrect TLS certificate, which can cause validation failures. You can upgrade to a newer version of Python to solve this. For more information, see https://urllib3.readthedocs.org/en/latest/security.html#snimissingwarning.\n",
      "  SNIMissingWarning\n",
      "/usr/local/lib/python2.7/dist-packages/pip/_vendor/requests/packages/urllib3/util/ssl_.py:122: InsecurePlatformWarning: A true SSLContext object is not available. This prevents urllib3 from configuring SSL appropriately and may cause certain SSL connections to fail. You can upgrade to a newer version of Python to solve this. For more information, see https://urllib3.readthedocs.org/en/latest/security.html#insecureplatformwarning.\n",
      "  InsecurePlatformWarning\n",
      "\u001b[31m  Could not find a version that satisfies the requirement plotting (from versions: )\u001b[0m\n",
      "\u001b[31mNo matching distribution found for plotting\u001b[0m\n",
      "Requirement already up-to-date: bokeh in /usr/local/lib/python2.7/dist-packages\n",
      "Requirement already up-to-date: python-dateutil>=2.1 in /usr/local/lib/python2.7/dist-packages (from bokeh)\n",
      "Requirement already up-to-date: tornado>=4.3 in /usr/local/lib/python2.7/dist-packages (from bokeh)\n",
      "Requirement already up-to-date: numpy>=1.7.1 in /usr/local/lib/python2.7/dist-packages (from bokeh)\n",
      "Requirement already up-to-date: PyYAML>=3.10 in /usr/local/lib/python2.7/dist-packages (from bokeh)\n",
      "Requirement already up-to-date: Jinja2>=2.7 in /usr/local/lib/python2.7/dist-packages (from bokeh)\n",
      "Collecting requests>=1.2.3 (from bokeh)\n",
      "  Using cached requests-2.11.1-py2.py3-none-any.whl\n",
      "Requirement already up-to-date: futures>=3.0.3 in /usr/local/lib/python2.7/dist-packages (from bokeh)\n",
      "Requirement already up-to-date: six>=1.5.2 in /usr/local/lib/python2.7/dist-packages (from bokeh)\n",
      "Requirement already up-to-date: singledispatch in /usr/local/lib/python2.7/dist-packages (from tornado>=4.3->bokeh)\n",
      "Requirement already up-to-date: certifi in /usr/local/lib/python2.7/dist-packages (from tornado>=4.3->bokeh)\n",
      "Requirement already up-to-date: backports-abc>=0.4 in /usr/local/lib/python2.7/dist-packages (from tornado>=4.3->bokeh)\n",
      "Requirement already up-to-date: backports.ssl-match-hostname in /usr/local/lib/python2.7/dist-packages (from tornado>=4.3->bokeh)\n",
      "Requirement already up-to-date: MarkupSafe in /usr/local/lib/python2.7/dist-packages (from Jinja2>=2.7->bokeh)\n",
      "Installing collected packages: requests\n",
      "  Found existing installation: requests 2.8.1\n",
      "    Uninstalling requests-2.8.1:\n",
      "      Successfully uninstalled requests-2.8.1\n",
      "Successfully installed requests-2.11.1\n",
      "Collecting bhtsne\n",
      "/usr/local/lib/python2.7/dist-packages/pip/_vendor/requests/packages/urllib3/util/ssl_.py:318: SNIMissingWarning: An HTTPS request has been made, but the SNI (Subject Name Indication) extension to TLS is not available on this platform. This may cause the server to present an incorrect TLS certificate, which can cause validation failures. You can upgrade to a newer version of Python to solve this. For more information, see https://urllib3.readthedocs.org/en/latest/security.html#snimissingwarning.\n",
      "  SNIMissingWarning\n",
      "/usr/local/lib/python2.7/dist-packages/pip/_vendor/requests/packages/urllib3/util/ssl_.py:122: InsecurePlatformWarning: A true SSLContext object is not available. This prevents urllib3 from configuring SSL appropriately and may cause certain SSL connections to fail. You can upgrade to a newer version of Python to solve this. For more information, see https://urllib3.readthedocs.org/en/latest/security.html#insecureplatformwarning.\n",
      "  InsecurePlatformWarning\n",
      "  Downloading bhtsne-0.1.9.tar.gz (86kB)\n",
      "\u001b[K    100% |################################| 92kB 1.1MB/s \n",
      "\u001b[?25h    Complete output from command python setup.py egg_info:\n",
      "    Traceback (most recent call last):\n",
      "      File \"<string>\", line 1, in <module>\n",
      "      File \"/tmp/pip-build-fKbrlV/bhtsne/setup.py\", line 4, in <module>\n",
      "        from Cython.Build import cythonize\n",
      "    ImportError: No module named Cython.Build\n",
      "    \n",
      "    ----------------------------------------\n",
      "\u001b[31mCommand \"python setup.py egg_info\" failed with error code 1 in /tmp/pip-build-fKbrlV/bhtsne/\u001b[0m\n"
     ]
    },
    {
     "data": {
      "text/plain": [
       "<module 'vocabulary' from 'vocabulary.pyc'>"
      ]
     },
     "execution_count": 23,
     "metadata": {},
     "output_type": "execute_result"
    }
   ],
   "source": [
    "!pip install --upgrade pandas\n",
    "!pip install --upgrade itertools\n",
    "!pip install --upgrade collections\n",
    "!pip install --upgrade vocabulary\n",
    "!pip install --upgrade scipy\n",
    "!pip install --upgrade pandas\n",
    "!pip install --upgrade plotting\n",
    "!pip install --upgrade bokeh\n",
    "!pip install --upgrade bhtsne\n",
    "import os, sys, re, json, time\n",
    "import itertools\n",
    "import collections\n",
    "from IPython.display import display\n",
    "\n",
    "# NumPy and SciPy for matrix ops\n",
    "import numpy as np\n",
    "\n",
    "import scipy.sparse\n",
    "\n",
    "# Pandas because pandas are awesome\n",
    "import pandas as pd\n",
    "# Set pandas floating point display\n",
    "pd.set_option('float_format', lambda f: \"{0:.04f}\".format(f))\n",
    "\n",
    "# NLTK for NLP utils\n",
    "import nltk\n",
    "\n",
    "import data_utils\n",
    "reload(data_utils)\n",
    "import vocabulary\n",
    "reload(vocabulary)"
   ]
  },
  {
   "cell_type": "code",
   "execution_count": 4,
   "metadata": {
    "collapsed": false
   },
   "outputs": [],
   "source": [
    "def flatten(list_of_lists):\n",
    "    return itertools.chain.from_iterable(list_of_lists)\n",
    "\n",
    "def pretty_print_matrix(M, rows=None, cols=None, dtype=float):\n",
    "    display(pd.DataFrame(M, index=rows, columns=cols, dtype=dtype))"
   ]
  },
  {
   "cell_type": "markdown",
   "metadata": {},
   "source": [
    "# Load corpora"
   ]
  },
  {
   "cell_type": "markdown",
   "metadata": {},
   "source": [
    "We'll use the `Vocabulary` class again, this time to map words to numerical indices. These will be the row indices of our embedding matrix."
   ]
  },
  {
   "cell_type": "code",
   "execution_count": 5,
   "metadata": {
    "collapsed": false
   },
   "outputs": [
    {
     "name": "stdout",
     "output_type": "stream",
     "text": [
      "Most common unigrams:\n",
      "\"the\": 69971\n",
      "\",\": 58334\n",
      "\".\": 49346\n",
      "\"of\": 36412\n",
      "\"and\": 28853\n",
      "\"to\": 26158\n",
      "\"a\": 23195\n",
      "\"in\": 21337\n",
      "\"that\": 10594\n",
      "\"is\": 10109\n"
     ]
    }
   ],
   "source": [
    "corpus = nltk.corpus.brown\n",
    "vocab_size = 10000\n",
    "\n",
    "token_feed = (data_utils.canonicalize_word(w) for w in corpus.words())\n",
    "vocab = vocabulary.Vocabulary(token_feed, vocab_size)\n",
    "\n",
    "print \"Most common unigrams:\"\n",
    "print \"\\n\".join(\"\\\"%s\\\": %d\" % kv \n",
    "                for kv in vocab.unigram_counts.most_common(10))"
   ]
  },
  {
   "cell_type": "markdown",
   "metadata": {},
   "source": [
    "## Co-occurrence matrix\n",
    "\n",
    "We want to build a co-occurrence matrix $C$, where $C_{ij}$ is the number of times word $i$ occurs in the same context as word $j$.\n",
    "\n",
    "This matrix will be of size `vocab_size` x `vocab_size`, which is quite large - we'd run into the same problem we had with a bigram LM if we represented it explicitly.\n",
    "\n",
    "Instead, we'll use a **sparse matrix** (`scipy.sparse`). This only stores the non-zero elements, but still supports some of the usual matrix operations like slicing, multiplication, and - most importantly - the SVD. \n",
    "\n",
    "See [the scipy.sparse documentation](http://docs.scipy.org/doc/scipy/reference/sparse.html) for more info on how these work; we'll chiefly use the DOK, COO, and CSR formats."
   ]
  },
  {
   "cell_type": "markdown",
   "metadata": {},
   "source": [
    "### Fixed-Size Window\n",
    "It's simplest to implement this for a fixed-size window. Naively, we can just go through the entire corpus, and at each position `i` add a count for the words at positions `i-2, i-1, i+1, i+2`, etc.\n",
    "\n",
    "Turns out this is really slow in Python, so we'll re-order things: we'll count all pairs `(i,i-2)`, `(i,i-1)`, etc. and add the counts up at the end.\n",
    "\n",
    "Note that pairs are symmetric: so at the same time we handle `(i,i+k)`, we'll also add an entry for `(i+k,i)`."
   ]
  },
  {
   "cell_type": "code",
   "execution_count": 6,
   "metadata": {
    "collapsed": false
   },
   "outputs": [],
   "source": [
    "def cooccurrence_matrix(ids, vocab, window_size=2):\n",
    "    # We'll use this as an \"accumulator\" matrix\n",
    "    C = scipy.sparse.csc_matrix((vocab.size, vocab.size), \n",
    "                                dtype=np.float32)\n",
    "    \n",
    "    for k in range(1, window_size+1):\n",
    "        if k == 0: continue  # don't count (i,i)\n",
    "        print u\"Counting pairs (i, i \\u00B1 %d) ...\" % k\n",
    "        # Consider words k positions ahead\n",
    "        i = ids[:-k] # current word\n",
    "        j = ids[k:]  # k words ahead\n",
    "        # Construct a COO matrix: values, indices\n",
    "        # scipy.sparse will add up duplicates for us\n",
    "        data = (np.ones_like(i), (i,j))\n",
    "        Ck_plus = scipy.sparse.coo_matrix(data, shape=C.shape, dtype=np.float32)\n",
    "        Ck_plus = scipy.sparse.csc_matrix(Ck_plus)\n",
    "        Ck_minus = Ck_plus.T  # Consider k words behind\n",
    "        C += Ck_plus + Ck_minus\n",
    "\n",
    "    print \"Co-occurrence matrix: %d words x %d words\" % (C.shape)\n",
    "    print \"  %.02g nonzero elements\" % (C.nnz)\n",
    "    return C"
   ]
  },
  {
   "cell_type": "markdown",
   "metadata": {},
   "source": [
    "Let's look at a toy corpus to see how this works. With a window of 1, we should see co-occurrence counts for each pair of neighboring words:  \n",
    "`(<s>, nlp)`,  \n",
    "`(nlp, class)`,  \n",
    "`(class, is)`,  \n",
    "and so on - as well as their reversed versions (remember, C is symmetric!)\n"
   ]
  },
  {
   "cell_type": "code",
   "execution_count": 7,
   "metadata": {
    "collapsed": false
   },
   "outputs": [
    {
     "name": "stdout",
     "output_type": "stream",
     "text": [
      "Counting pairs (i, i ± 1) ...\n",
      "Co-occurrence matrix: 8 words x 8 words\n",
      "  16 nonzero elements\n"
     ]
    },
    {
     "data": {
      "text/html": [
       "<div>\n",
       "<table border=\"1\" class=\"dataframe\">\n",
       "  <thead>\n",
       "    <tr style=\"text-align: right;\">\n",
       "      <th></th>\n",
       "      <th>&lt;s&gt;</th>\n",
       "      <th>&lt;/s&gt;</th>\n",
       "      <th>&lt;unk&gt;</th>\n",
       "      <th>nlp</th>\n",
       "      <th>is</th>\n",
       "      <th>class</th>\n",
       "      <th>fun</th>\n",
       "      <th>awesome</th>\n",
       "    </tr>\n",
       "  </thead>\n",
       "  <tbody>\n",
       "    <tr>\n",
       "      <th>&lt;s&gt;</th>\n",
       "      <td>0</td>\n",
       "      <td>1</td>\n",
       "      <td>0</td>\n",
       "      <td>2</td>\n",
       "      <td>0</td>\n",
       "      <td>0</td>\n",
       "      <td>0</td>\n",
       "      <td>0</td>\n",
       "    </tr>\n",
       "    <tr>\n",
       "      <th>&lt;/s&gt;</th>\n",
       "      <td>1</td>\n",
       "      <td>0</td>\n",
       "      <td>0</td>\n",
       "      <td>0</td>\n",
       "      <td>0</td>\n",
       "      <td>0</td>\n",
       "      <td>1</td>\n",
       "      <td>1</td>\n",
       "    </tr>\n",
       "    <tr>\n",
       "      <th>&lt;unk&gt;</th>\n",
       "      <td>0</td>\n",
       "      <td>0</td>\n",
       "      <td>0</td>\n",
       "      <td>0</td>\n",
       "      <td>0</td>\n",
       "      <td>0</td>\n",
       "      <td>0</td>\n",
       "      <td>0</td>\n",
       "    </tr>\n",
       "    <tr>\n",
       "      <th>nlp</th>\n",
       "      <td>2</td>\n",
       "      <td>0</td>\n",
       "      <td>0</td>\n",
       "      <td>0</td>\n",
       "      <td>0</td>\n",
       "      <td>2</td>\n",
       "      <td>0</td>\n",
       "      <td>0</td>\n",
       "    </tr>\n",
       "    <tr>\n",
       "      <th>is</th>\n",
       "      <td>0</td>\n",
       "      <td>0</td>\n",
       "      <td>0</td>\n",
       "      <td>0</td>\n",
       "      <td>0</td>\n",
       "      <td>2</td>\n",
       "      <td>1</td>\n",
       "      <td>1</td>\n",
       "    </tr>\n",
       "    <tr>\n",
       "      <th>class</th>\n",
       "      <td>0</td>\n",
       "      <td>0</td>\n",
       "      <td>0</td>\n",
       "      <td>2</td>\n",
       "      <td>2</td>\n",
       "      <td>0</td>\n",
       "      <td>0</td>\n",
       "      <td>0</td>\n",
       "    </tr>\n",
       "    <tr>\n",
       "      <th>fun</th>\n",
       "      <td>0</td>\n",
       "      <td>1</td>\n",
       "      <td>0</td>\n",
       "      <td>0</td>\n",
       "      <td>1</td>\n",
       "      <td>0</td>\n",
       "      <td>0</td>\n",
       "      <td>0</td>\n",
       "    </tr>\n",
       "    <tr>\n",
       "      <th>awesome</th>\n",
       "      <td>0</td>\n",
       "      <td>1</td>\n",
       "      <td>0</td>\n",
       "      <td>0</td>\n",
       "      <td>1</td>\n",
       "      <td>0</td>\n",
       "      <td>0</td>\n",
       "      <td>0</td>\n",
       "    </tr>\n",
       "  </tbody>\n",
       "</table>\n",
       "</div>"
      ],
      "text/plain": [
       "         <s>  </s>  <unk>  nlp  is  class  fun  awesome\n",
       "<s>        0     1      0    2   0      0    0        0\n",
       "</s>       1     0      0    0   0      0    1        1\n",
       "<unk>      0     0      0    0   0      0    0        0\n",
       "nlp        2     0      0    0   0      2    0        0\n",
       "is         0     0      0    0   0      2    1        1\n",
       "class      0     0      0    2   2      0    0        0\n",
       "fun        0     1      0    0   1      0    0        0\n",
       "awesome    0     1      0    0   1      0    0        0"
      ]
     },
     "metadata": {},
     "output_type": "display_data"
    }
   ],
   "source": [
    "toy_corpus = [\n",
    "    \"nlp class is awesome\",\n",
    "    \"nlp class is fun\"\n",
    "]\n",
    "\n",
    "words = list(flatten([s.split() for s in toy_corpus]))\n",
    "toy_vocab = vocabulary.Vocabulary(words)\n",
    "# sentence_to_ids adds \"<s>\" and \"</s>\"\n",
    "ids = list(flatten(toy_vocab.sentence_to_ids(s.split()) \n",
    "                   for s in toy_corpus))\n",
    "\n",
    "# Here's the important part\n",
    "toy_C = cooccurrence_matrix(ids, toy_vocab, window_size=1)\n",
    "\n",
    "toy_labels = toy_vocab.ordered_words()\n",
    "pretty_print_matrix(toy_C.toarray(), rows=toy_labels, \n",
    "                    cols=toy_labels, dtype=int)"
   ]
  },
  {
   "cell_type": "code",
   "execution_count": 8,
   "metadata": {
    "collapsed": false
   },
   "outputs": [
    {
     "name": "stdout",
     "output_type": "stream",
     "text": [
      "Counting pairs (i, i ± 1) ...\n",
      "Counting pairs (i, i ± 2) ...\n",
      "Co-occurrence matrix: 10000 words x 10000 words\n",
      "  1e+06 nonzero elements\n",
      "Constructed C in 0:00:01 sec\n"
     ]
    }
   ],
   "source": [
    "# Canonicalize words and convert to numerical IDs\n",
    "words = data_utils.canonicalize_words(corpus.words(), \n",
    "                                      wordset=vocab.word_to_id)\n",
    "ids = np.array(vocab.words_to_ids(words))\n",
    "\n",
    "t0 = time.time()\n",
    "C = cooccurrence_matrix(ids, vocab)\n",
    "print \"Constructed C in %s sec\" % data_utils.pretty_timedelta(since=t0)"
   ]
  },
  {
   "cell_type": "markdown",
   "metadata": {},
   "source": [
    "### Sentence Context\n",
    "\n",
    "Naively, we could do this by using something like:\n",
    "```\n",
    "for i in sentence_ids[:-1]:\n",
    "  for j in sentence_ids[1:]:\n",
    "     C[i,j] += 1\n",
    "```\n",
    "But unfortunately, Python is slow, and for long sentences (say, 40 tokens), this can take a loooong time.\n",
    "\n",
    "However, there's a clever trick. We can compute a matrix $M_{ik}$ where rows $i$ are word indices and columns $k$ are sentence indices. Assuming each word appears only once in a sentence, then we have:\n",
    "\n",
    "$$ C_{ij} = \\sum_{k} \\mathbf{1}[w_i \\in \\text{sentence}\\ k] \\cdot \\mathbf{1}[w_j \\in \\text{sentence}\\ k] = \\sum_{k} M_{ik} M_{jk} = (MM^T)_{ij} $$\n",
    "\n",
    "So we can compute $C_{ij}$ easily with matrix multiplication:"
   ]
  },
  {
   "cell_type": "code",
   "execution_count": 9,
   "metadata": {
    "collapsed": false
   },
   "outputs": [
    {
     "name": "stdout",
     "output_type": "stream",
     "text": [
      "Co-occurrence matrix: 10000 words x 10000 words\n",
      "  4.7e+06 nonzero elements\n",
      "Constructed C in 0:00:39\n"
     ]
    }
   ],
   "source": [
    "def cooccurrence_matrix_sentences(sentence_ids, vocab):\n",
    "    M = scipy.sparse.dok_matrix((vocab.size, len(sentence_ids)), \n",
    "                                dtype=np.int32)\n",
    "    \n",
    "    for j,ids in enumerate(sentence_ids):\n",
    "        for i in ids:\n",
    "            M[i,j] += 1\n",
    "    \n",
    "    M = scipy.sparse.csr_matrix(M)\n",
    "    # Correction for multiple occurrences of words\n",
    "    diag_corr = scipy.sparse.dia_matrix((np.ravel(M.sum(1)), [0]),\n",
    "                                        shape=(vocab.size, vocab.size))\n",
    "    C = M.dot(M.T) - diag_corr\n",
    "    print \"Co-occurrence matrix: %d words x %d words\" % (C.shape)\n",
    "    print \"  %.02g nonzero elements\" % (C.nnz)\n",
    "    return C\n",
    "    \n",
    "sentence_ids = [vocab.words_to_ids(data_utils.canonicalize_words(s)) \n",
    "                for s in corpus.sents()]\n",
    "t0 = time.time()\n",
    "C_sentence = cooccurrence_matrix_sentences(sentence_ids, vocab)\n",
    "print \"Constructed C in %s\" % data_utils.pretty_timedelta(since=t0)"
   ]
  },
  {
   "cell_type": "markdown",
   "metadata": {},
   "source": [
    "**Note:** It's also common to do SVD directly on the word-sentence matrix M, particularly where instead of sentences we use paragraphs or whole documents. This is known as Latent Semantic Analysis, or LSA."
   ]
  },
  {
   "cell_type": "markdown",
   "metadata": {},
   "source": [
    "Let's try this on our toy corpus again. You should notice a somewhat denser matrix this time: every pair of words are represented, not just the adjacent ones."
   ]
  },
  {
   "cell_type": "code",
   "execution_count": 10,
   "metadata": {
    "collapsed": false
   },
   "outputs": [
    {
     "name": "stdout",
     "output_type": "stream",
     "text": [
      "Co-occurrence matrix: 8 words x 8 words\n",
      "  40 nonzero elements\n"
     ]
    },
    {
     "data": {
      "text/html": [
       "<div>\n",
       "<table border=\"1\" class=\"dataframe\">\n",
       "  <thead>\n",
       "    <tr style=\"text-align: right;\">\n",
       "      <th></th>\n",
       "      <th>&lt;s&gt;</th>\n",
       "      <th>&lt;/s&gt;</th>\n",
       "      <th>&lt;unk&gt;</th>\n",
       "      <th>nlp</th>\n",
       "      <th>is</th>\n",
       "      <th>class</th>\n",
       "      <th>fun</th>\n",
       "      <th>awesome</th>\n",
       "    </tr>\n",
       "  </thead>\n",
       "  <tbody>\n",
       "    <tr>\n",
       "      <th>&lt;s&gt;</th>\n",
       "      <td>0</td>\n",
       "      <td>2</td>\n",
       "      <td>0</td>\n",
       "      <td>2</td>\n",
       "      <td>2</td>\n",
       "      <td>2</td>\n",
       "      <td>1</td>\n",
       "      <td>1</td>\n",
       "    </tr>\n",
       "    <tr>\n",
       "      <th>&lt;/s&gt;</th>\n",
       "      <td>2</td>\n",
       "      <td>0</td>\n",
       "      <td>0</td>\n",
       "      <td>2</td>\n",
       "      <td>2</td>\n",
       "      <td>2</td>\n",
       "      <td>1</td>\n",
       "      <td>1</td>\n",
       "    </tr>\n",
       "    <tr>\n",
       "      <th>&lt;unk&gt;</th>\n",
       "      <td>0</td>\n",
       "      <td>0</td>\n",
       "      <td>0</td>\n",
       "      <td>0</td>\n",
       "      <td>0</td>\n",
       "      <td>0</td>\n",
       "      <td>0</td>\n",
       "      <td>0</td>\n",
       "    </tr>\n",
       "    <tr>\n",
       "      <th>nlp</th>\n",
       "      <td>2</td>\n",
       "      <td>2</td>\n",
       "      <td>0</td>\n",
       "      <td>0</td>\n",
       "      <td>2</td>\n",
       "      <td>2</td>\n",
       "      <td>1</td>\n",
       "      <td>1</td>\n",
       "    </tr>\n",
       "    <tr>\n",
       "      <th>is</th>\n",
       "      <td>2</td>\n",
       "      <td>2</td>\n",
       "      <td>0</td>\n",
       "      <td>2</td>\n",
       "      <td>0</td>\n",
       "      <td>2</td>\n",
       "      <td>1</td>\n",
       "      <td>1</td>\n",
       "    </tr>\n",
       "    <tr>\n",
       "      <th>class</th>\n",
       "      <td>2</td>\n",
       "      <td>2</td>\n",
       "      <td>0</td>\n",
       "      <td>2</td>\n",
       "      <td>2</td>\n",
       "      <td>0</td>\n",
       "      <td>1</td>\n",
       "      <td>1</td>\n",
       "    </tr>\n",
       "    <tr>\n",
       "      <th>fun</th>\n",
       "      <td>1</td>\n",
       "      <td>1</td>\n",
       "      <td>0</td>\n",
       "      <td>1</td>\n",
       "      <td>1</td>\n",
       "      <td>1</td>\n",
       "      <td>0</td>\n",
       "      <td>0</td>\n",
       "    </tr>\n",
       "    <tr>\n",
       "      <th>awesome</th>\n",
       "      <td>1</td>\n",
       "      <td>1</td>\n",
       "      <td>0</td>\n",
       "      <td>1</td>\n",
       "      <td>1</td>\n",
       "      <td>1</td>\n",
       "      <td>0</td>\n",
       "      <td>0</td>\n",
       "    </tr>\n",
       "  </tbody>\n",
       "</table>\n",
       "</div>"
      ],
      "text/plain": [
       "         <s>  </s>  <unk>  nlp  is  class  fun  awesome\n",
       "<s>        0     2      0    2   2      2    1        1\n",
       "</s>       2     0      0    2   2      2    1        1\n",
       "<unk>      0     0      0    0   0      0    0        0\n",
       "nlp        2     2      0    0   2      2    1        1\n",
       "is         2     2      0    2   0      2    1        1\n",
       "class      2     2      0    2   2      0    1        1\n",
       "fun        1     1      0    1   1      1    0        0\n",
       "awesome    1     1      0    1   1      1    0        0"
      ]
     },
     "metadata": {},
     "output_type": "display_data"
    }
   ],
   "source": [
    "sentence_ids = [toy_vocab.sentence_to_ids(s.split()) \n",
    "                for s in toy_corpus]\n",
    "\n",
    "toy_C_s = cooccurrence_matrix_sentences(sentence_ids, toy_vocab)\n",
    "\n",
    "pretty_print_matrix(toy_C_s.toarray(), rows=toy_labels, \n",
    "                    cols=toy_labels, dtype=int)"
   ]
  },
  {
   "cell_type": "markdown",
   "metadata": {},
   "source": [
    "## Computing Word Vectors\n",
    "\n",
    "In order to go from our co-occurrence matrix to word vectors, we need to do two things:\n",
    "\n",
    "- First, convert to **PPMI** to reduce the impact of common words.\n",
    "- Compute the SVD, and extract our vectors.\n",
    "\n",
    "PPMI stands for Positive [Pointwise Mutual Information](https://en.wikipedia.org/wiki/Pointwise_mutual_information). PMI is a generalization of the idea of correlation, but for arbitrary variables. Here, we're interested in the correlation between word $i$ and word $j$, where we take the samples to be all the word-word pairs in our corpus.  \n",
    "Positive just means we'll truncate at zero: $\\text{PPMI}(i,j) = \\max(0, \\text{PMI}(i,j))$\n",
    "\n",
    "We'll apply PPMI as a transformation of our counts matrix. First, compute probabilities:\n",
    "$$ P(i,j) = \\frac{C(i,j)}{\\sum_{k,l} C(k,l)} = \\frac{C_{ij}}{Z}$$\n",
    "$$ P(i) = \\frac{\\sum_{k} C(i,k)}{\\sum_{k,l} C(k,l)} = \\frac{Z_i}{Z}$$\n",
    "\n",
    "Then compute PPMI:\n",
    "$$ \\text{PMI}(i,j) = \\log \\frac{P(i,j)}{P(i)P(j)} = \\log \\frac{C_{ij} \\cdot Z}{Z_i \\cdot Z_j} $$\n",
    "$$\\text{PPMI}(i,j) = \\max(0, \\text{PMI}(i,j))$$\n"
   ]
  },
  {
   "cell_type": "code",
   "execution_count": 11,
   "metadata": {
    "collapsed": true
   },
   "outputs": [],
   "source": [
    "def PPMI(C):\n",
    "    # Expect C to be a CSC matrix\n",
    "    Z = float(C.sum())  # total counts\n",
    "    Zc = np.array(C.sum(axis=0), dtype=np.float64).flatten() # sum each column (along rows)\n",
    "    Zr = np.array(C.sum(axis=1), dtype=np.float64).flatten() # sum each row (along columns)\n",
    "    \n",
    "    # Get indices of relevant elements\n",
    "    ii, jj = C.nonzero()  # row, column indices\n",
    "    Cij = np.array(C[ii,jj], dtype=np.float64).flatten()\n",
    "    pmi = np.log(Cij * Z / (Zr[ii] * Zc[jj]))\n",
    "    ppmi = np.maximum(0, pmi)  # take positive only\n",
    "    ret = scipy.sparse.csc_matrix((ppmi, (ii,jj)), shape=C.shape,\n",
    "                                  dtype=np.float64)\n",
    "    ret.eliminate_zeros()  # remove zeros\n",
    "    return ret"
   ]
  },
  {
   "cell_type": "markdown",
   "metadata": {},
   "source": [
    "Now to compute the SVD, we can just use [`sklearn.decomposition.TruncatedSVD`](http://scikit-learn.org/stable/modules/generated/sklearn.decomposition.TruncatedSVD.html):"
   ]
  },
  {
   "cell_type": "code",
   "execution_count": 12,
   "metadata": {
    "collapsed": true
   },
   "outputs": [],
   "source": [
    "from sklearn.decomposition import TruncatedSVD\n",
    "def SVD(X, k=100):\n",
    "    transformer = TruncatedSVD(n_components=k, random_state=1)\n",
    "    Wv = transformer.fit_transform(X)\n",
    "    # Normalize to unit length\n",
    "    Wv = Wv / np.linalg.norm(Wv, axis=1).reshape([-1,1])\n",
    "    return Wv, transformer.explained_variance_"
   ]
  },
  {
   "cell_type": "code",
   "execution_count": 13,
   "metadata": {
    "collapsed": false
   },
   "outputs": [
    {
     "name": "stdout",
     "output_type": "stream",
     "text": [
      "Computed PPMI in 0:00:00\n",
      "Computed SVD in 0:00:03\n"
     ]
    }
   ],
   "source": [
    "t0 = time.time()\n",
    "X = PPMI(C)\n",
    "print \"Computed PPMI in %s\" % data_utils.pretty_timedelta(since=t0)\n",
    "\n",
    "t0 = time.time()\n",
    "Wv, svs = SVD(X)\n",
    "print \"Computed SVD in %s\" % data_utils.pretty_timedelta(since=t0)"
   ]
  },
  {
   "cell_type": "markdown",
   "metadata": {},
   "source": [
    "Let's see what this does on our toy corpus:"
   ]
  },
  {
   "cell_type": "code",
   "execution_count": 14,
   "metadata": {
    "collapsed": false
   },
   "outputs": [
    {
     "data": {
      "text/html": [
       "<div>\n",
       "<table border=\"1\" class=\"dataframe\">\n",
       "  <thead>\n",
       "    <tr style=\"text-align: right;\">\n",
       "      <th></th>\n",
       "      <th>&lt;s&gt;</th>\n",
       "      <th>&lt;/s&gt;</th>\n",
       "      <th>&lt;unk&gt;</th>\n",
       "      <th>nlp</th>\n",
       "      <th>is</th>\n",
       "      <th>class</th>\n",
       "      <th>fun</th>\n",
       "      <th>awesome</th>\n",
       "    </tr>\n",
       "  </thead>\n",
       "  <tbody>\n",
       "    <tr>\n",
       "      <th>&lt;s&gt;</th>\n",
       "      <td>0.0000</td>\n",
       "      <td>0.8938</td>\n",
       "      <td>0.0000</td>\n",
       "      <td>1.2993</td>\n",
       "      <td>0.0000</td>\n",
       "      <td>0.0000</td>\n",
       "      <td>0.0000</td>\n",
       "      <td>0.0000</td>\n",
       "    </tr>\n",
       "    <tr>\n",
       "      <th>&lt;/s&gt;</th>\n",
       "      <td>0.8938</td>\n",
       "      <td>0.0000</td>\n",
       "      <td>0.0000</td>\n",
       "      <td>0.0000</td>\n",
       "      <td>0.0000</td>\n",
       "      <td>0.0000</td>\n",
       "      <td>1.2993</td>\n",
       "      <td>1.2993</td>\n",
       "    </tr>\n",
       "    <tr>\n",
       "      <th>&lt;unk&gt;</th>\n",
       "      <td>0.0000</td>\n",
       "      <td>0.0000</td>\n",
       "      <td>0.0000</td>\n",
       "      <td>0.0000</td>\n",
       "      <td>0.0000</td>\n",
       "      <td>0.0000</td>\n",
       "      <td>0.0000</td>\n",
       "      <td>0.0000</td>\n",
       "    </tr>\n",
       "    <tr>\n",
       "      <th>nlp</th>\n",
       "      <td>1.2993</td>\n",
       "      <td>0.0000</td>\n",
       "      <td>0.0000</td>\n",
       "      <td>0.0000</td>\n",
       "      <td>0.0000</td>\n",
       "      <td>1.0116</td>\n",
       "      <td>0.0000</td>\n",
       "      <td>0.0000</td>\n",
       "    </tr>\n",
       "    <tr>\n",
       "      <th>is</th>\n",
       "      <td>0.0000</td>\n",
       "      <td>0.0000</td>\n",
       "      <td>0.0000</td>\n",
       "      <td>0.0000</td>\n",
       "      <td>0.0000</td>\n",
       "      <td>1.0116</td>\n",
       "      <td>1.0116</td>\n",
       "      <td>1.0116</td>\n",
       "    </tr>\n",
       "    <tr>\n",
       "      <th>class</th>\n",
       "      <td>0.0000</td>\n",
       "      <td>0.0000</td>\n",
       "      <td>0.0000</td>\n",
       "      <td>1.0116</td>\n",
       "      <td>1.0116</td>\n",
       "      <td>0.0000</td>\n",
       "      <td>0.0000</td>\n",
       "      <td>0.0000</td>\n",
       "    </tr>\n",
       "    <tr>\n",
       "      <th>fun</th>\n",
       "      <td>0.0000</td>\n",
       "      <td>1.2993</td>\n",
       "      <td>0.0000</td>\n",
       "      <td>0.0000</td>\n",
       "      <td>1.0116</td>\n",
       "      <td>0.0000</td>\n",
       "      <td>0.0000</td>\n",
       "      <td>0.0000</td>\n",
       "    </tr>\n",
       "    <tr>\n",
       "      <th>awesome</th>\n",
       "      <td>0.0000</td>\n",
       "      <td>1.2993</td>\n",
       "      <td>0.0000</td>\n",
       "      <td>0.0000</td>\n",
       "      <td>1.0116</td>\n",
       "      <td>0.0000</td>\n",
       "      <td>0.0000</td>\n",
       "      <td>0.0000</td>\n",
       "    </tr>\n",
       "  </tbody>\n",
       "</table>\n",
       "</div>"
      ],
      "text/plain": [
       "           <s>   </s>  <unk>    nlp     is  class    fun  awesome\n",
       "<s>     0.0000 0.8938 0.0000 1.2993 0.0000 0.0000 0.0000   0.0000\n",
       "</s>    0.8938 0.0000 0.0000 0.0000 0.0000 0.0000 1.2993   1.2993\n",
       "<unk>   0.0000 0.0000 0.0000 0.0000 0.0000 0.0000 0.0000   0.0000\n",
       "nlp     1.2993 0.0000 0.0000 0.0000 0.0000 1.0116 0.0000   0.0000\n",
       "is      0.0000 0.0000 0.0000 0.0000 0.0000 1.0116 1.0116   1.0116\n",
       "class   0.0000 0.0000 0.0000 1.0116 1.0116 0.0000 0.0000   0.0000\n",
       "fun     0.0000 1.2993 0.0000 0.0000 1.0116 0.0000 0.0000   0.0000\n",
       "awesome 0.0000 1.2993 0.0000 0.0000 1.0116 0.0000 0.0000   0.0000"
      ]
     },
     "metadata": {},
     "output_type": "display_data"
    }
   ],
   "source": [
    "pretty_print_matrix(PPMI(toy_C).toarray(), rows=toy_labels, \n",
    "                    cols=toy_labels, dtype=float)"
   ]
  },
  {
   "cell_type": "markdown",
   "metadata": {},
   "source": [
    "And if we take the SVD, we'll get the words represented by row vectors. Note that \"fun\" and \"awesome\" get the same representation, since they're interchangable in our (tiny) corpus. How do their embedding vectors relate to the one for \"class\"?"
   ]
  },
  {
   "cell_type": "code",
   "execution_count": 15,
   "metadata": {
    "collapsed": false
   },
   "outputs": [
    {
     "data": {
      "text/html": [
       "<div>\n",
       "<table border=\"1\" class=\"dataframe\">\n",
       "  <thead>\n",
       "    <tr style=\"text-align: right;\">\n",
       "      <th></th>\n",
       "      <th>0</th>\n",
       "      <th>1</th>\n",
       "      <th>2</th>\n",
       "    </tr>\n",
       "  </thead>\n",
       "  <tbody>\n",
       "    <tr>\n",
       "      <th>&lt;s&gt;</th>\n",
       "      <td>0.7576</td>\n",
       "      <td>0.0000</td>\n",
       "      <td>0.6527</td>\n",
       "    </tr>\n",
       "    <tr>\n",
       "      <th>&lt;/s&gt;</th>\n",
       "      <td>-0.0000</td>\n",
       "      <td>1.0000</td>\n",
       "      <td>0.0000</td>\n",
       "    </tr>\n",
       "    <tr>\n",
       "      <th>&lt;unk&gt;</th>\n",
       "      <td>0.0536</td>\n",
       "      <td>0.1367</td>\n",
       "      <td>0.9892</td>\n",
       "    </tr>\n",
       "    <tr>\n",
       "      <th>nlp</th>\n",
       "      <td>0.0000</td>\n",
       "      <td>1.0000</td>\n",
       "      <td>-0.0000</td>\n",
       "    </tr>\n",
       "    <tr>\n",
       "      <th>is</th>\n",
       "      <td>0.0000</td>\n",
       "      <td>1.0000</td>\n",
       "      <td>-0.0000</td>\n",
       "    </tr>\n",
       "    <tr>\n",
       "      <th>class</th>\n",
       "      <td>0.7800</td>\n",
       "      <td>0.0000</td>\n",
       "      <td>0.6258</td>\n",
       "    </tr>\n",
       "    <tr>\n",
       "      <th>fun</th>\n",
       "      <td>0.9373</td>\n",
       "      <td>0.0000</td>\n",
       "      <td>-0.3484</td>\n",
       "    </tr>\n",
       "    <tr>\n",
       "      <th>awesome</th>\n",
       "      <td>0.9373</td>\n",
       "      <td>0.0000</td>\n",
       "      <td>-0.3484</td>\n",
       "    </tr>\n",
       "  </tbody>\n",
       "</table>\n",
       "</div>"
      ],
      "text/plain": [
       "              0      1       2\n",
       "<s>      0.7576 0.0000  0.6527\n",
       "</s>    -0.0000 1.0000  0.0000\n",
       "<unk>    0.0536 0.1367  0.9892\n",
       "nlp      0.0000 1.0000 -0.0000\n",
       "is       0.0000 1.0000 -0.0000\n",
       "class    0.7800 0.0000  0.6258\n",
       "fun      0.9373 0.0000 -0.3484\n",
       "awesome  0.9373 0.0000 -0.3484"
      ]
     },
     "metadata": {},
     "output_type": "display_data"
    }
   ],
   "source": [
    "k = 3\n",
    "pretty_print_matrix(SVD(PPMI(toy_C), k=k)[0], rows=toy_labels, \n",
    "                    cols=range(k), dtype=float)"
   ]
  },
  {
   "cell_type": "markdown",
   "metadata": {},
   "source": [
    "# Visualize Word Vectors\n",
    "\n",
    "We've included some code that will generate an interactive visualization of the word cloud. You can use the mouse to pan and zoom, and you can pass a dict of colors to highlight or color-code words.\n",
    "\n",
    "It's implemented using the [Bokeh](http://bokeh.pydata.org/en/latest/) library, which is similar to Plotly but much faster at rendering text; check out `plotting.py` (in this directory) if you're interested."
   ]
  },
  {
   "cell_type": "code",
   "execution_count": 18,
   "metadata": {
    "collapsed": false
   },
   "outputs": [
    {
     "data": {
      "text/html": [
       "\n",
       "    <div class=\"bk-root\">\n",
       "        <a href=\"http://bokeh.pydata.org\" target=\"_blank\" class=\"bk-logo bk-logo-small bk-logo-notebook\"></a>\n",
       "        <span id=\"0de730c2-b054-42d0-9d2c-0d32276dbdea\">Loading BokehJS ...</span>\n",
       "    </div>"
      ]
     },
     "metadata": {},
     "output_type": "display_data"
    },
    {
     "data": {
      "application/javascript": [
       "\n",
       "(function(global) {\n",
       "  function now() {\n",
       "    return new Date();\n",
       "  }\n",
       "\n",
       "  var force = \"1\";\n",
       "\n",
       "  if (typeof (window._bokeh_onload_callbacks) === \"undefined\" || force !== \"\") {\n",
       "    window._bokeh_onload_callbacks = [];\n",
       "    window._bokeh_is_loading = undefined;\n",
       "  }\n",
       "\n",
       "\n",
       "  \n",
       "  if (typeof (window._bokeh_timeout) === \"undefined\" || force !== \"\") {\n",
       "    window._bokeh_timeout = Date.now() + 5000;\n",
       "    window._bokeh_failed_load = false;\n",
       "  }\n",
       "\n",
       "  var NB_LOAD_WARNING = {'data': {'text/html':\n",
       "     \"<div style='background-color: #fdd'>\\n\"+\n",
       "     \"<p>\\n\"+\n",
       "     \"BokehJS does not appear to have successfully loaded. If loading BokehJS from CDN, this \\n\"+\n",
       "     \"may be due to a slow or bad network connection. Possible fixes:\\n\"+\n",
       "     \"</p>\\n\"+\n",
       "     \"<ul>\\n\"+\n",
       "     \"<li>re-rerun `output_notebook()` to attempt to load from CDN again, or</li>\\n\"+\n",
       "     \"<li>use INLINE resources instead, as so:</li>\\n\"+\n",
       "     \"</ul>\\n\"+\n",
       "     \"<code>\\n\"+\n",
       "     \"from bokeh.resources import INLINE\\n\"+\n",
       "     \"output_notebook(resources=INLINE)\\n\"+\n",
       "     \"</code>\\n\"+\n",
       "     \"</div>\"}};\n",
       "\n",
       "  function display_loaded() {\n",
       "    if (window.Bokeh !== undefined) {\n",
       "      Bokeh.$(\"#0de730c2-b054-42d0-9d2c-0d32276dbdea\").text(\"BokehJS successfully loaded.\");\n",
       "    } else if (Date.now() < window._bokeh_timeout) {\n",
       "      setTimeout(display_loaded, 100)\n",
       "    }\n",
       "  }\n",
       "\n",
       "  function run_callbacks() {\n",
       "    window._bokeh_onload_callbacks.forEach(function(callback) { callback() });\n",
       "    delete window._bokeh_onload_callbacks\n",
       "    console.info(\"Bokeh: all callbacks have finished\");\n",
       "  }\n",
       "\n",
       "  function load_libs(js_urls, callback) {\n",
       "    window._bokeh_onload_callbacks.push(callback);\n",
       "    if (window._bokeh_is_loading > 0) {\n",
       "      console.log(\"Bokeh: BokehJS is being loaded, scheduling callback at\", now());\n",
       "      return null;\n",
       "    }\n",
       "    if (js_urls == null || js_urls.length === 0) {\n",
       "      run_callbacks();\n",
       "      return null;\n",
       "    }\n",
       "    console.log(\"Bokeh: BokehJS not loaded, scheduling load and callback at\", now());\n",
       "    window._bokeh_is_loading = js_urls.length;\n",
       "    for (var i = 0; i < js_urls.length; i++) {\n",
       "      var url = js_urls[i];\n",
       "      var s = document.createElement('script');\n",
       "      s.src = url;\n",
       "      s.async = false;\n",
       "      s.onreadystatechange = s.onload = function() {\n",
       "        window._bokeh_is_loading--;\n",
       "        if (window._bokeh_is_loading === 0) {\n",
       "          console.log(\"Bokeh: all BokehJS libraries loaded\");\n",
       "          run_callbacks()\n",
       "        }\n",
       "      };\n",
       "      s.onerror = function() {\n",
       "        console.warn(\"failed to load library \" + url);\n",
       "      };\n",
       "      console.log(\"Bokeh: injecting script tag for BokehJS library: \", url);\n",
       "      document.getElementsByTagName(\"head\")[0].appendChild(s);\n",
       "    }\n",
       "  };var element = document.getElementById(\"0de730c2-b054-42d0-9d2c-0d32276dbdea\");\n",
       "  if (element == null) {\n",
       "    console.log(\"Bokeh: ERROR: autoload.js configured with elementid '0de730c2-b054-42d0-9d2c-0d32276dbdea' but no matching script tag was found. \")\n",
       "    return false;\n",
       "  }\n",
       "\n",
       "  var js_urls = ['https://cdn.pydata.org/bokeh/release/bokeh-0.12.3.min.js', 'https://cdn.pydata.org/bokeh/release/bokeh-widgets-0.12.3.min.js'];\n",
       "\n",
       "  var inline_js = [\n",
       "    function(Bokeh) {\n",
       "      Bokeh.set_log_level(\"info\");\n",
       "    },\n",
       "    \n",
       "    function(Bokeh) {\n",
       "      \n",
       "      Bokeh.$(\"#0de730c2-b054-42d0-9d2c-0d32276dbdea\").text(\"BokehJS is loading...\");\n",
       "    },\n",
       "    function(Bokeh) {\n",
       "      console.log(\"Bokeh: injecting CSS: https://cdn.pydata.org/bokeh/release/bokeh-0.12.3.min.css\");\n",
       "      Bokeh.embed.inject_css(\"https://cdn.pydata.org/bokeh/release/bokeh-0.12.3.min.css\");\n",
       "      console.log(\"Bokeh: injecting CSS: https://cdn.pydata.org/bokeh/release/bokeh-widgets-0.12.3.min.css\");\n",
       "      Bokeh.embed.inject_css(\"https://cdn.pydata.org/bokeh/release/bokeh-widgets-0.12.3.min.css\");\n",
       "    }\n",
       "  ];\n",
       "\n",
       "  function run_inline_js() {\n",
       "    \n",
       "    if ((window.Bokeh !== undefined) || (force === \"1\")) {\n",
       "      for (var i = 0; i < inline_js.length; i++) {\n",
       "        inline_js[i](window.Bokeh);\n",
       "      }if (force === \"1\") {\n",
       "        display_loaded();\n",
       "      }} else if (Date.now() < window._bokeh_timeout) {\n",
       "      setTimeout(run_inline_js, 100);\n",
       "    } else if (!window._bokeh_failed_load) {\n",
       "      console.log(\"Bokeh: BokehJS failed to load within specified timeout.\");\n",
       "      window._bokeh_failed_load = true;\n",
       "    } else if (!force) {\n",
       "      var cell = $(\"#0de730c2-b054-42d0-9d2c-0d32276dbdea\").parents('.cell').data().cell;\n",
       "      cell.output_area.append_execute_result(NB_LOAD_WARNING)\n",
       "    }\n",
       "\n",
       "  }\n",
       "\n",
       "  if (window._bokeh_is_loading === 0) {\n",
       "    console.log(\"Bokeh: BokehJS loaded, going straight to plotting\");\n",
       "    run_inline_js();\n",
       "  } else {\n",
       "    load_libs(js_urls, function() {\n",
       "      console.log(\"Bokeh: BokehJS plotting callback run at\", now());\n",
       "      run_inline_js();\n",
       "    });\n",
       "  }\n",
       "}(this));"
      ]
     },
     "metadata": {},
     "output_type": "display_data"
    }
   ],
   "source": [
    "import plotting as plot_wv\n",
    "reload(plot_wv)\n",
    "import bokeh.plotting as bp\n",
    "bp.output_notebook()"
   ]
  },
  {
   "cell_type": "code",
   "execution_count": 19,
   "metadata": {
    "collapsed": false
   },
   "outputs": [
    {
     "data": {
      "text/html": [
       "\n",
       "\n",
       "    <div class=\"bk-root\">\n",
       "        <div class=\"plotdiv\" id=\"b4a97c5f-aa00-4771-b5f0-ca3ddd0ca632\"></div>\n",
       "    </div>\n",
       "<script type=\"text/javascript\">\n",
       "  \n",
       "  (function(global) {\n",
       "    function now() {\n",
       "      return new Date();\n",
       "    }\n",
       "  \n",
       "    var force = \"\";\n",
       "  \n",
       "    if (typeof (window._bokeh_onload_callbacks) === \"undefined\" || force !== \"\") {\n",
       "      window._bokeh_onload_callbacks = [];\n",
       "      window._bokeh_is_loading = undefined;\n",
       "    }\n",
       "  \n",
       "  \n",
       "    \n",
       "    if (typeof (window._bokeh_timeout) === \"undefined\" || force !== \"\") {\n",
       "      window._bokeh_timeout = Date.now() + 0;\n",
       "      window._bokeh_failed_load = false;\n",
       "    }\n",
       "  \n",
       "    var NB_LOAD_WARNING = {'data': {'text/html':\n",
       "       \"<div style='background-color: #fdd'>\\n\"+\n",
       "       \"<p>\\n\"+\n",
       "       \"BokehJS does not appear to have successfully loaded. If loading BokehJS from CDN, this \\n\"+\n",
       "       \"may be due to a slow or bad network connection. Possible fixes:\\n\"+\n",
       "       \"</p>\\n\"+\n",
       "       \"<ul>\\n\"+\n",
       "       \"<li>re-rerun `output_notebook()` to attempt to load from CDN again, or</li>\\n\"+\n",
       "       \"<li>use INLINE resources instead, as so:</li>\\n\"+\n",
       "       \"</ul>\\n\"+\n",
       "       \"<code>\\n\"+\n",
       "       \"from bokeh.resources import INLINE\\n\"+\n",
       "       \"output_notebook(resources=INLINE)\\n\"+\n",
       "       \"</code>\\n\"+\n",
       "       \"</div>\"}};\n",
       "  \n",
       "    function display_loaded() {\n",
       "      if (window.Bokeh !== undefined) {\n",
       "        Bokeh.$(\"#b4a97c5f-aa00-4771-b5f0-ca3ddd0ca632\").text(\"BokehJS successfully loaded.\");\n",
       "      } else if (Date.now() < window._bokeh_timeout) {\n",
       "        setTimeout(display_loaded, 100)\n",
       "      }\n",
       "    }\n",
       "  \n",
       "    function run_callbacks() {\n",
       "      window._bokeh_onload_callbacks.forEach(function(callback) { callback() });\n",
       "      delete window._bokeh_onload_callbacks\n",
       "      console.info(\"Bokeh: all callbacks have finished\");\n",
       "    }\n",
       "  \n",
       "    function load_libs(js_urls, callback) {\n",
       "      window._bokeh_onload_callbacks.push(callback);\n",
       "      if (window._bokeh_is_loading > 0) {\n",
       "        console.log(\"Bokeh: BokehJS is being loaded, scheduling callback at\", now());\n",
       "        return null;\n",
       "      }\n",
       "      if (js_urls == null || js_urls.length === 0) {\n",
       "        run_callbacks();\n",
       "        return null;\n",
       "      }\n",
       "      console.log(\"Bokeh: BokehJS not loaded, scheduling load and callback at\", now());\n",
       "      window._bokeh_is_loading = js_urls.length;\n",
       "      for (var i = 0; i < js_urls.length; i++) {\n",
       "        var url = js_urls[i];\n",
       "        var s = document.createElement('script');\n",
       "        s.src = url;\n",
       "        s.async = false;\n",
       "        s.onreadystatechange = s.onload = function() {\n",
       "          window._bokeh_is_loading--;\n",
       "          if (window._bokeh_is_loading === 0) {\n",
       "            console.log(\"Bokeh: all BokehJS libraries loaded\");\n",
       "            run_callbacks()\n",
       "          }\n",
       "        };\n",
       "        s.onerror = function() {\n",
       "          console.warn(\"failed to load library \" + url);\n",
       "        };\n",
       "        console.log(\"Bokeh: injecting script tag for BokehJS library: \", url);\n",
       "        document.getElementsByTagName(\"head\")[0].appendChild(s);\n",
       "      }\n",
       "    };var element = document.getElementById(\"b4a97c5f-aa00-4771-b5f0-ca3ddd0ca632\");\n",
       "    if (element == null) {\n",
       "      console.log(\"Bokeh: ERROR: autoload.js configured with elementid 'b4a97c5f-aa00-4771-b5f0-ca3ddd0ca632' but no matching script tag was found. \")\n",
       "      return false;\n",
       "    }\n",
       "  \n",
       "    var js_urls = [];\n",
       "  \n",
       "    var inline_js = [\n",
       "      function(Bokeh) {\n",
       "        Bokeh.$(function() {\n",
       "            var docs_json = {\"b4346877-04ed-40e1-ac6e-a7a0af5e917b\":{\"roots\":{\"references\":[{\"attributes\":{\"plot\":{\"id\":\"f8935237-f9ac-47e3-a74d-fef51cfd3860\",\"subtype\":\"Figure\",\"type\":\"Plot\"}},\"id\":\"fa3880c7-1e36-47f4-9b17-22bcae654bdd\",\"type\":\"ResetTool\"},{\"attributes\":{\"formatter\":{\"id\":\"6561e16d-4172-46aa-b494-d1e031668b75\",\"type\":\"BasicTickFormatter\"},\"plot\":{\"id\":\"f8935237-f9ac-47e3-a74d-fef51cfd3860\",\"subtype\":\"Figure\",\"type\":\"Plot\"},\"ticker\":{\"id\":\"f5454058-8c5c-42b7-8ed5-6c5b5c11664f\",\"type\":\"BasicTicker\"}},\"id\":\"96b54058-8346-4e36-8f51-227d5f34fc59\",\"type\":\"LinearAxis\"},{\"attributes\":{},\"id\":\"b33f5f26-e7eb-4d87-9bde-d1df7c70a208\",\"type\":\"BasicTicker\"},{\"attributes\":{\"bottom_units\":\"screen\",\"fill_alpha\":{\"value\":0.5},\"fill_color\":{\"value\":\"lightgrey\"},\"left_units\":\"screen\",\"level\":\"overlay\",\"line_alpha\":{\"value\":1.0},\"line_color\":{\"value\":\"black\"},\"line_dash\":[4,4],\"line_width\":{\"value\":2},\"plot\":null,\"render_mode\":\"css\",\"right_units\":\"screen\",\"top_units\":\"screen\"},\"id\":\"e04de534-8cb1-4ce2-befd-219f4a0e3133\",\"type\":\"BoxAnnotation\"},{\"attributes\":{\"plot\":{\"id\":\"f8935237-f9ac-47e3-a74d-fef51cfd3860\",\"subtype\":\"Figure\",\"type\":\"Plot\"},\"ticker\":{\"id\":\"f5454058-8c5c-42b7-8ed5-6c5b5c11664f\",\"type\":\"BasicTicker\"}},\"id\":\"7dd0e898-1153-4043-8ab2-307826317485\",\"type\":\"Grid\"},{\"attributes\":{\"callback\":null,\"column_names\":[\"text\",\"x\",\"y\"],\"data\":{\"text\":[\"the\",\",\",\".\",\"of\",\"and\",\"to\",\"a\",\"in\",\"that\",\"is\",\"was\",\"he\",\"for\",\"``\",\"''\",\"it\",\"with\",\"as\",\"his\",\"on\",\"be\",\";\",\"at\",\"by\",\"i\",\"this\",\"had\",\"?\",\"not\",\"are\",\"but\",\"from\",\"or\",\"have\",\"an\",\"they\",\"which\",\"--\",\"one\",\"you\",\"were\",\"her\",\"all\",\"she\",\"there\",\"would\",\"their\",\"we\",\"him\",\"been\",\")\",\"has\",\"(\",\"when\",\"who\",\"will\",\"more\",\"if\",\"no\",\"out\",\"DG\",\"so\",\"said\",\"DGDGDGDG\",\"DGDG\",\"what\",\"up\",\"its\",\"about\",\":\",\"into\",\"than\",\"them\",\"can\",\"only\",\"other\",\"new\",\"some\",\"could\",\"time\",\"!\",\"these\",\"two\",\"may\",\"then\",\"do\",\"first\",\"any\",\"my\",\"now\",\"such\",\"like\",\"our\",\"over\",\"man\",\"me\",\"even\",\"most\",\"made\",\"also\",\"after\",\"did\",\"many\",\"before\",\"must\",\"af\",\"through\",\"back\",\"years\",\"much\",\"where\",\"your\",\"way\",\"well\",\"down\",\"should\",\"because\",\"each\",\"just\",\"those\",\"people\",\"mr.\",\"too\",\"how\",\"little\",\"state\",\"good\",\"very\",\"make\",\"world\",\"still\",\"see\",\"own\",\"men\",\"work\",\"long\",\"here\",\"get\",\"between\",\"both\",\"life\",\"being\",\"under\",\"never\",\"day\",\"same\",\"another\",\"know\",\"while\",\"last\",\"us\",\"might\",\"great\",\"old\",\"year\",\"off\",\"come\",\"since\",\"against\",\"go\",\"DGDGDG\",\"came\",\"right\",\"used\",\"take\",\"three\",\"states\",\"himself\",\"few\",\"use\",\"house\",\"during\",\"without\",\"again\",\"place\",\"american\",\"around\",\"however\",\"home\",\"small\",\"found\",\"mrs.\",\"thought\",\"went\",\"say\",\"part\",\"once\",\"general\",\"high\",\"upon\",\"school\",\"every\",\"don't\",\"does\",\"got\",\"united\",\"left\",\"number\",\"course\",\"war\",\"until\",\"always\",\"away\",\"something\",\"fact\",\"water\",\"though\",\"public\",\"put\",\"less\",\"think\",\"almost\",\"hand\",\"enough\",\"took\",\"far\",\"head\",\"yet\",\"government\",\"system\",\"set\",\"better\",\"told\",\"night\",\"nothing\",\"end\",\"why\",\"didn't\",\"eyes\",\"called\",\"find\",\"look\",\"going\",\"asked\",\"later\",\"point\",\"knew\",\"next\",\"program\",\"city\",\"business\",\"group\",\"give\",\"toward\",\"young\",\"room\",\"days\",\"let\",\"president\",\"side\",\"social\",\"several\",\"given\",\"present\",\"order\",\"national\",\"possible\",\"rather\",\"second\",\"per\",\"face\",\"among\",\"form\",\"important\",\"often\",\"things\",\"looked\",\"early\",\"white\",\"john\",\"case\",\"large\",\"four\",\"need\",\"big\",\"become\",\"within\",\"felt\",\"along\",\"children\",\"saw\",\"best\",\"church\",\"ever\",\"least\",\"power\",\"development\",\"seemed\",\"thing\",\"light\",\"family\",\"interest\",\"want\",\"mind\",\"members\",\"country\",\"area\",\"others\",\"although\",\"turned\",\"done\",\"open\",\"'\",\"god\",\"service\",\"problem\",\"kind\",\"certain\",\"door\",\"different\",\"thus\",\"began\",\"sense\",\"help\",\"means\",\"whole\",\"matter\",\"perhaps\",\"itself\",\"it's\",\"york\",\"times\",\"law\",\"human\",\"line\",\"above\",\"name\",\"example\",\"action\",\"company\",\"hands\",\"local\",\"show\",\"history\",\"whether\",\"five\",\"gave\",\"today\",\"either\",\"feet\",\"act\",\"across\",\"past\",\"taken\",\"quite\",\"anything\",\"having\",\"seen\",\"death\",\"experience\",\"body\",\"week\",\"half\",\"really\",\"field\",\"car\",\"word\",\"words\",\"already\",\"themselves\",\"i'm\",\"information\",\"tell\",\"shall\",\"together\",\"college\",\"period\",\"money\",\"keep\",\"held\",\"sure\",\"probably\",\"seems\",\"free\",\"real\",\"behind\",\"cannot\",\"political\",\"question\",\"air\",\"making\",\"office\",\"brought\",\"miss\",\"whose\",\"special\",\"heard\",\"problems\",\"major\",\"study\",\"moment\",\"federal\",\"ago\",\"became\",\"available\",\"known\",\"street\",\"result\",\"economic\",\"boy\",\"reason\",\"position\",\"change\",\"south\",\"individual\",\"board\",\"job\",\"am\",\"society\",\"areas\",\"west\",\"close\",\"turn\",\"love\",\"community\",\"true\",\"full\",\"court\",\"force\",\"cost\",\"seem\",\"wife\",\"future\",\"age\",\"voice\",\"wanted\",\"department\",\"center\",\"woman\",\"common\",\"control\",\"necessary\",\"policy\",\"following\",\"sometimes\",\"front\",\"six\",\"girl\",\"clear\",\"land\",\"further\",\"music\",\"provide\",\"party\",\"mother\",\"feel\",\"able\",\"university\",\"education\",\"level\",\"child\",\"students\",\"effect\",\"short\",\"military\",\"run\",\"stood\",\"town\",\"total\",\"morning\",\"outside\",\"figure\",\"rate\",\"art\",\"century\",\"class\",\"usually\",\"washington\",\"north\",\"therefore\",\"plan\",\"leave\",\"sound\",\"million\",\"evidence\",\"top\",\"black\",\"strong\",\"hard\",\"various\",\"tax\",\"surface\",\"play\",\"type\",\"value\",\"believe\",\"says\",\"soon\",\"mean\",\"peace\",\"near\",\"modern\",\"lines\",\"table\",\"red\",\"road\",\"book\",\"situation\",\"process\",\"personal\",\"minutes\",\"nor\",\"gone\",\"idea\",\"schools\",\"increase\",\"alone\",\"women\",\"english\",\"america\",\"started\",\"living\",\"longer\",\"cut\",\"dr.\",\"nature\",\"secretary\",\"private\",\"finally\",\"third\",\"section\",\"months\",\"call\",\"greater\",\"needed\",\"fire\",\"that's\",\"expected\",\"ground\",\"values\",\"kept\",\"view\",\"pressure\",\"dark\",\"everything\",\"basis\",\"space\",\"father\",\"east\",\"union\",\"spirit\",\"required\",\"complete\",\"wrote\",\"moved\",\"except\",\"i'll\",\"support\",\"conditions\",\"return\",\"recent\",\"late\",\"attention\",\"particular\",\"hope\",\"live\",\"costs\",\"else\",\"brown\",\"couldn't\",\"stage\",\"taking\",\"nations\",\"forces\",\"beyond\",\"coming\",\"person\",\"hours\",\"read\",\"inside\",\"report\",\"material\",\"dead\",\"lost\",\"miles\",\"data\",\"looking\",\"heart\",\"low\",\"instead\",\"feeling\",\"followed\",\"makes\",\"single\",\"amount\",\"added\",\"pay\",\"research\",\"hundred\",\"basic\",\"industry\",\"cold\",\"move\",\"simply\",\"including\",\"developed\",\"tried\",\"can't\",\"reached\",\"hold\",\"committee\",\"equipment\",\"defense\",\"island\",\"shown\",\"actually\",\"religious\",\"central\",\"son\",\"river\",\"beginning\",\"ten\",\"sort\",\"st.\",\"getting\",\"trying\",\"&\",\"rest\",\"terms\",\"doing\",\"received\",\"u.s.\",\"picture\",\"indeed\",\"medical\",\"care\",\"friends\",\"especially\",\"difficult\",\"subject\",\"fine\",\"administration\",\"higher\",\"wall\",\"simple\",\"building\",\"walked\",\"meeting\",\"foreign\",\"bring\",\"floor\",\"paper\",\"similar\",\"range\",\"passed\",\"natural\",\"property\",\"training\",\"final\",\"cent\",\"international\",\"police\",\"county\",\"growth\",\"market\",\"start\",\"written\",\"wasn't\",\"talk\",\"england\",\"story\",\"hear\",\"suddenly\",\"needs\",\"congress\",\"hall\",\"issue\",\"answer\",\"working\",\"you're\",\"likely\",\"countries\",\"considered\",\"sat\",\"earth\",\"entire\",\"results\",\"purpose\",\"meet\",\"happened\",\"labor\",\"production\",\"hair\",\"cases\",\"difference\",\"stand\",\"william\",\"food\",\"fall\",\"involved\",\"stock\",\"earlier\",\"increased\",\"particularly\",\"whom\",\"hour\",\"knowledge\",\"letter\",\"sent\",\"effort\",\"paid\",\"using\",\"below\",\"club\",\"thinking\",\"yes\",\"christian\",\"deal\",\"blue\",\"points\",\"bill\",\"square\",\"certainly\",\"ready\",\"boys\",\"ideas\",\"trade\",\"industrial\",\"methods\",\"addition\",\"girls\",\"due\",\"method\",\"moral\",\"bad\",\"neither\",\"reading\",\"throughout\",\"showed\",\"directly\",\"weeks\",\"decided\",\"nearly\",\"statement\",\"questions\",\"try\",\"according\",\"color\",\"anyone\",\"kennedy\",\"programs\",\"services\",\"DG.DG\",\"nation\",\"lay\",\"french\",\"physical\",\"remember\",\"size\",\"strength\",\"comes\",\"understand\",\"western\",\"record\",\"southern\",\"member\",\"population\",\"normal\",\"merely\",\"volume\",\"appeared\",\"temperature\",\"district\",\"concerned\",\"direction\",\"trial\",\"aid\",\"summer\",\"trouble\",\"ran\",\"evening\",\"list\",\"friend\",\"sales\",\"maybe\",\"literature\",\"continued\",\"met\",\"influence\",\"led\",\"association\",\"provided\",\"army\",\"generally\",\"former\",\"science\",\"opened\",\"husband\",\"step\",\"student\",\"chance\",\"changes\",\"month\",\"works\",\"series\",\"average\",\"cause\",\"hot\",\"wrong\",\"systems\",\"wouldn't\",\"direct\",\"effective\",\"theory\",\"planning\",\"stopped\",\"soviet\",\"myself\",\"piece\",\"george\",\"lead\",\"ask\",\"clearly\",\"worked\",\"freedom\",\"movement\",\"organization\",\"ways\",\"meaning\",\"fear\",\"press\",\"beautiful\",\"treatment\",\"bed\",\"spring\",\"forms\",\"lot\",\"note\",\"consider\",\"somewhat\",\"efforts\",\"placed\",\"truth\",\"hotel\",\"numbers\",\"degree\",\"carried\",\"herself\",\"groups\",\"respect\",\"apparently\",\"man's\",\"plant\",\"he's\",\"wide\",\"i've\",\"farm\",\"manner\",\"easy\",\"$DGDGDG\",\"reaction\",\"larger\",\"recently\",\"lower\",\"game\",\"immediately\",\"approach\",\"running\",\"couple\",\"performance\",\"de\",\"oh\",\"eye\",\"charge\",\"feed\",\"daily\",\"march\",\"blood\",\"understanding\",\"opportunity\",\"persons\",\"arms\",\"c\",\"additional\",\"described\",\"stop\",\"j.\",\"technical\",\"fiscal\",\"radio\",\"progress\",\"test\",\"decision\",\"steps\",\"image\",\"determined\",\"window\",\"based\",\"served\",\"reported\",\"religion\",\"main\",\"chief\",\"gun\",\"aj\",\"middle\",\"british\",\"character\",\"responsibility\",\"europe\",\"learned\",\"horse\",\"s.\",\"appear\",\"account\",\"writing\",\"length\",\"green\",\"activity\",\"types\",\"serious\",\"ones\",\"nuclear\",\"letters\",\"obtained\",\"lived\",\"audience\",\"forward\",\"specific\",\"returned\",\"slowly\",\"corner\",\"activities\",\"justice\",\"obviously\",\"doubt\",\"design\",\"straight\",\"latter\",\"gives\",\"plane\",\"quality\",\"hit\",\"moving\",\"saying\",\"choice\",\"operation\",\"born\",\"pattern\",\"poor\",\"stay\",\"seven\",\"include\",\"a.\",\"figures\",\"function\",\"shot\",\"staff\",\"parts\",\"plans\",\"sun\",\"cars\",\"whatever\",\"pool\",\"DG:DGDG\",\"faith\",\"extent\",\"corps\",\"heavy\",\"hospital\",\"ball\",\"wish\",\"standard\",\"completely\",\"speak\",\"lack\",\"waiting\",\"visit\",\"firm\",\"ahead\",\"there's\",\"language\",\"income\",\"principle\",\"deep\",\"democratic\",\"effects\",\"indicated\",\"established\",\"products\",\"growing\",\"designed\",\"none\",\"price\",\"distance\",\"expect\",\"importance\",\"analysis\",\"pretty\",\"existence\",\"leaders\",\"serve\",\"attitude\",\"continue\",\"division\",\"stress\",\"cities\",\"elements\",\"easily\",\"negro\"],\"x\":[0.6182948886899708,0.5432820377385044,0.6244114959030659,0.60992701871622,0.5976795207401245,0.5521704451288957,0.5926270687452383,0.6595406033268835,0.6222800930910448,0.5634429063602904,0.5522196033140957,0.4813545239410055,0.5945733518464816,0.466587862682091,0.44386723841128706,0.621024194665448,0.5273535986048591,0.6093821881852083,0.4739334113747999,0.5338044062304365,0.4724004025232883,0.5350514022089234,0.46790459522288086,0.4757247619094468,0.5125495319792928,0.5593572889894157,0.4778853382065525,0.46759545540782393,0.5858205056778346,0.5080068851190098,0.5870628075739638,0.46516788107333734,0.4765185977270903,0.5462772509047263,0.3963829301150868,0.6123573516456143,0.5334826722823021,0.5397209336479154,0.6072878962253269,0.5042464613713071,0.48915032739371717,0.4593024107313624,0.5850786106233113,0.4782279696633441,0.6909673652618774,0.5330471009760447,0.4356842365083547,0.5945936548241758,0.4814718546272756,0.431766429421048,0.4074684139141452,0.45847309723819746,0.3593430037905035,0.5489893799601493,0.4361343742849603,0.5020069031230187,0.4580745375722182,0.6192760557903987,0.5272840326452181,0.48212323054967704,0.3747867563988277,0.5479116114744004,0.29470651593458963,0.4626386840138962,0.34323149403973446,0.5652268307134627,0.455371322963572,0.38594926204575153,0.47115029751915133,0.4311169413469551,0.35964236501308355,0.4152896121093428,0.552988674855155,0.4788296930372884,0.5567371666527337,0.4928452752794033,0.4836214017550124,0.49321516779924446,0.4908536427744363,0.6387647238582556,0.4180738877234443,0.44213076722040473,0.4509341557931855,0.522246345103623,0.4980772398489337,0.5773615811409617,0.546775690348136,0.4975968628667991,0.44487001336747545,0.609830530599513,0.40295064907155365,0.45709996057278796,0.41281832263240087,0.39852379142745326,0.5550784722391404,0.508314040184223,0.5541193445609424,0.3865993288858159,0.5229234951509171,0.48736528515014277,0.4186464285840204,0.49200485082703876,0.4584531790079132,0.47869061493579335,0.4959153783021799,0.3452936899430732,0.3414960812295014,0.4432409492735344,0.40253649479847253,0.5606956680831351,0.4643710649976615,0.42838384693175297,0.6067228415432406,0.602611063629113,0.37522855654987,0.5319011533944477,0.5357682092057977,0.41537448671304045,0.5806376758284129,0.5075446609686445,0.6049339068018238,0.3644306035842767,0.5182515932032331,0.5116689938246579,0.5300948949732632,0.44926738826165014,0.5770265545867022,0.5096043998789878,0.5233091089623024,0.608023147879616,0.5103465749612266,0.5537804913420559,0.5170430984126875,0.5383876791400678,0.6150348755572959,0.5285107956698387,0.6614067372884113,0.5012104380184564,0.2999795864209781,0.42352532865310266,0.5493846761685456,0.4251468904259713,0.35491656054872023,0.5380247457194601,0.5178544151848655,0.5546360837577331,0.5284517634883272,0.4880152359942915,0.4274345657965925,0.43076226239216875,0.5691529638605454,0.5511475855674716,0.4586810197628196,0.4448042150676476,0.4817005710533153,0.3944759952662827,0.609758248764313,0.4331301786950677,0.2850211061980232,0.5536926391030967,0.36083382461115415,0.5000960248030776,0.6100446310356474,0.48319546320844703,0.5337108066052445,0.4196953198396916,0.5016375728386063,0.4677965485650784,0.47495356889308527,0.5222261406115584,0.532090425503212,0.4180450855024337,0.33924115182761366,0.5184852570252884,0.6198338677382842,0.4256296943943655,0.4314011152009582,0.5902215856312232,0.5649324332726351,0.40413861194519596,0.5197754236864365,0.2839554673285858,0.5163383273224248,0.48754858163265835,0.5286738592616254,0.5708093961683954,0.5877785972125414,0.4508970016676746,0.3916128634035863,0.31722387789848105,0.45917914866313975,0.42142020124306356,0.44223612606472557,0.4755352527132536,0.5087176925379344,0.431425477279148,0.6049549132707467,0.44750010128934087,0.7216270197612584,0.5317376029742944,0.4299215492183447,0.6172115270558602,0.42800892062278995,0.5318630583408458,0.6240908138592182,0.43371922470035795,0.6512603073420646,0.523425207342852,0.5763443198297872,0.44955812180020716,0.46918110684576975,0.4993896417464635,0.5326870681013454,0.5003076462964927,0.47977978249941156,0.5575814802385779,0.44090216551360645,0.6277366579467218,0.5261935845277713,0.41552607402506253,0.5665028703267683,0.595249616035502,0.36417637585154733,0.4371671719055969,0.5655345166906679,0.612169122622939,0.5191998113447615,0.45532103422633935,0.42694922464279506,0.540468383109172,0.5351685912027401,0.5725487323278314,0.5165428452349439,0.3846103335249759,0.47913367243709387,0.521283587879492,0.43795598264359936,0.4672164081567041,0.42472874603713323,0.4910369970736205,0.5203709656521652,0.5229673223712548,0.5384570420564051,0.32491660869435063,0.39936951749300703,0.5225883144539859,0.43061194479551823,0.5220785402394481,0.45444769066083845,0.5064974004842006,0.4088451248501245,0.3851136943843959,0.5656821243963712,0.560611958336895,0.5129029567842225,0.39904400125213635,0.577084007163624,0.45632240198238394,0.45980296648995883,0.2687531163390415,0.4604723400190862,0.422808783187055,0.5369176737382687,0.5269321724216847,0.5168465259354338,0.6022795203822021,0.43787761567363387,0.40984582384680174,0.39229746436914226,0.35553642024591847,0.5827015361278639,0.40791153688271026,0.41269399115310806,0.6033028437098757,0.4945896355351925,0.4378027124146616,0.4216198542907133,0.5320537655758217,0.44003929292773064,0.5208005408137308,0.5097346809268403,0.6067187327281693,0.5597805602235152,0.5217967701360204,0.5472315305203369,0.4512130171394779,0.44197482183365405,0.5809200662912131,0.5532506507874718,0.5101746187694025,0.548361832168473,0.5471016203853623,0.4925716590606994,0.5912355972673851,0.5356391086661654,0.6006621194452885,0.4788218603887107,0.6404036673909007,0.5737840775927322,0.46959424904154995,0.5877508572186824,0.5209781431323173,0.48151687395149645,0.5227619743160746,0.41953217873584625,0.5078117109095132,0.5736501919219635,0.4364057797365148,0.4105293402711493,0.43765596063955925,0.5099882115066717,0.39111438027052436,0.5202858202459985,0.5682427190147451,0.5343487345472602,0.547888275841539,0.6488629793452232,0.6861758577552649,0.49430337918133244,0.5000790517977202,0.4231168376799027,0.5199238763618398,0.5087357446927878,0.4365678288912599,0.5293362313484969,0.44436705485382666,0.5339404492689025,0.5655459026519476,0.5579746898820601,0.4622993785680405,0.49793610372496944,0.42283930675540793,0.5962562702207128,0.48644963929983537,0.5089316326307541,0.4051707795779277,0.4950138872337497,0.6027306589711937,0.5780357380946579,0.37805595377712975,0.547956697957098,0.3037114837603424,0.48401665185286763,0.5805894451030047,0.5161104865062882,0.5318829282835235,0.478786481570537,0.5524868845627962,0.5404107840119586,0.532640947934709,0.5213228442233858,0.4725144141365755,0.5466796052429879,0.5428018082766216,0.5291545730544085,0.5257582448432692,0.5834625798604476,0.6070394133036906,0.5416127545324891,0.5461517164578684,0.430285486926293,0.4763960048045782,0.4273757456507899,0.47089874061644,0.5241972276951636,0.46434851118492354,0.47178211134742215,0.5381365664949497,0.5249847249040648,0.5338281250143581,0.48027471179599507,0.6193272433203867,0.5444819167827211,0.5214221390528737,0.5675114105832858,0.4539456834178297,0.4575677209093202,0.4071121504568739,0.5556075274203834,0.41665786165793434,0.4253498451307845,0.4879570849980111,0.551499793918082,0.4618571042193614,0.35444288311646877,0.45524857505926747,0.5073582532029526,0.45699029503663446,0.45658439337739487,0.4637720462570396,0.5826377887078622,0.39422144072633075,0.3440832142379917,0.41352830590703293,0.49626505844056973,0.6121124834779174,0.4000062802214312,0.5804701079329327,0.41275626334834575,0.5028797767243578,0.5515141009896999,0.5289005590782017,0.5528938645807981,0.4053293979872824,0.5101882689895082,0.4432570984018948,0.5895587649161816,0.4615324760248439,0.5234600607629176,0.45826380791056226,0.4150461842839987,0.5495568110752435,0.5989741900955108,0.5747522832026942,0.49445762576550784,0.631079925251273,0.5173480722232782,0.4570840664321739,0.4905199281281193,0.427243610353732,0.5556099099667721,0.5213520673392822,0.522448407643216,0.4842545968277741,0.45210992106081743,0.49618545740340775,0.45513708075221565,0.5233850245811866,0.5100578412166653,0.5144233714086272,0.5600434718075924,0.48357442198434725,0.47888383473459706,0.4231513137166422,0.5807194429197716,0.45089783494482133,0.42742777724194214,0.503190614590752,0.5738269932350001,0.549844152408794,0.5066667375405045,0.4987470698191248,0.45695995396930117,0.50826871176248,0.5369254080341446,0.5477935217052755,0.4133447575805759,0.36956157969608716,0.47624805661419645,0.47282430991788105,0.5500102307769416,0.5052637990376118,0.5366796467640199,0.526601739143891,0.42797035281485607,0.5499612578013602,0.47934002624915917,0.5075834637559115,0.39171230675831514,0.3996465667196827,0.4980212375672434,0.5193514358509526,0.38598294759528085,0.4926647860271414,0.35696548032999076,0.5338846811687941,0.5444806747106613,0.4899880323995292,0.39239215737062033,0.6053810549796017,0.5376315553332431,0.5415236434317015,0.5389876076633835,0.3310691188689115,0.5478317225486878,0.48854680941713363,0.3631653415655434,0.5126656005162037,0.5195032084840098,0.3473056772707868,0.3622862913269349,0.47731801680740576,0.5548834678716159,0.5346204911638198,0.5002757166160635,0.545162242871131,0.4350223669963813,0.5711670633493161,0.5882236175933331,0.514047588501009,0.37194851205066176,0.4640827632237565,0.5147692645232634,0.5110167349970094,0.3941209939593268,0.44444132504030076,0.5673055203368531,0.5545458201948511,0.4301883335156911,0.42682766917396314,0.40328891296498826,0.4445181273269632,0.5352175361959802,0.5896251232838126,0.46306588366317153,0.39440521621162933,0.6132725661427644,0.5666737881161364,0.4482898673970407,0.5675428231059297,0.5265079368476717,0.5732026625499786,0.5860519916592075,0.4468527540453993,0.25877154718839507,0.5533539316640412,0.4366123497895723,0.4694705231312676,0.5327562349693719,0.4510645056414034,0.4617568836997633,0.4149283439378317,0.539505150510431,0.40622406012056417,0.5446837189096604,0.5583343080289008,0.4936818325900764,0.5537764461579446,0.5487654276535678,0.4949179239253626,0.5193377339567825,0.5960305158468489,0.48595352705431616,0.4272400506840257,0.5374506958990128,0.49933800236078607,0.4553748437524914,0.5166853890473295,0.37481832898306067,0.5181460271657488,0.5484191692605511,0.4798275047344278,0.44188138478750966,0.39820571968904517,0.47124274404513555,0.605973253844488,0.43015039317769715,0.5180688617510766,0.45063335274095384,0.55436896768772,0.469099287982778,0.3804977735229782,0.534706159115246,0.5322865023912479,0.5699858897301256,0.5905323540129445,0.4148165258467264,0.4851455838085592,0.35086245979743763,0.44080207723547954,0.5667750273029236,0.5127660480404653,0.48257271273489066,0.43343563610865504,0.44558002484788856,0.5465366088464332,0.5618308625956755,0.42228159270763754,0.5910597523922687,0.5212510163324658,0.5439576432596106,0.4935716100933021,0.5717485442117907,0.5929248346917441,0.32315740873852644,0.40959389445327987,0.5330804313984155,0.5541333944352904,0.3564540236784416,0.4870467196743649,0.5559485856611949,0.5252836981636485,0.5247308092025292,0.45341467554216086,0.39184424962475295,0.5565694298870276,0.499952880477513,0.4433403481787137,0.2950179600807071,0.4293319771191848,0.5177526749040205,0.40674055953457694,0.515431926463972,0.6002676486478769,0.3918152428288592,0.5571705905554842,0.4723837638981859,0.3977871996707665,0.5395853728544671,0.5566111004043087,0.42495528532486027,0.3582942827624689,0.4563897933845823,0.4011098062803641,0.48684462707103426,0.6480861540431019,0.4690848762961641,0.4424243099822172,0.44690663646022,0.40436130784411156,0.5542566887764474,0.3845440412946449,0.565576335978136,0.4087969822485499,0.5412955330533455,0.4265824259221193,0.3037726460647437,0.6283284705911717,0.5642116418777878,0.590885520605145,0.49186045996588107,0.4222283329173141,0.5752152516571417,0.6354846575454318,0.3765246937072141,0.5245006793201648,0.5544278766869908,0.5644053087368897,0.4598034800911863,0.5943068702434101,0.508316018548709,0.5170950804769093,0.3720927565732547,0.4535403864060719,0.486241320044682,0.4617198407264667,0.3918698565038375,0.5027787681156869,0.4519477279236618,0.4904185326210443,0.4794469287460438,0.5251983063541757,0.45564857812043125,0.46925183266421744,0.5304442323230817,0.5412180536608011,0.5040281828378542,0.45870322577294637,0.46755550797782164,0.3000670613643541,0.4019849679706395,0.46962290104984644,0.3835777629438082,0.46812307448073276,0.5165553331630373,0.5979477743925222,0.5477434479923251,0.5229133957797454,0.5047033458165878,0.4597957593647651,0.526009428104554,0.5241712516403013,0.47585446543304216,0.478595073243966,0.551036675492853,0.48055470249684296,0.536199017464926,0.5926625059859909,0.6004900930276743,0.4402844621855328,0.5022160519486909,0.4846631248300351,0.6247318450696542,0.437764163224221,0.5459075354595128,0.46920504017394954,0.5081381006094688,0.5212726090009095,0.5301957615025663,0.5215426991066653,0.4575306361116088,0.4339847999407681,0.37870384239567695,0.49132144242465453,0.43773400986819816,0.6055318175992601,0.27492135343776375,0.48651128345671946,0.5384624212832937,0.512256360492998,0.4296621095812984,0.49670491885863327,0.39017525222949884,0.5595332161359002,0.5562747718043213,0.45563756488284507,0.5011914278428228,0.497741858349703,0.5127960383332677,0.47287004838396396,0.495592307593246,0.4619898514648903,0.4254658215031177,0.4097956350850539,0.6141009772599261,0.4257121412387127,0.4535616583060638,0.6167425156032728,0.37438964032470146,0.4848325869336608,0.5225879279001097,0.4936149656841638,0.6298885556745447,0.5437066040996964,0.5429791391170002,0.5564179637511689,0.4675912090184265,0.39443751607971317,0.42362163030702693,0.554668440173903,0.5031509973168834,0.491825752067828,0.45264701173713784,0.449990566529666,0.5848216404453187,0.4977696182422129,0.5172244037354374,0.4211551068995091,0.4788117119723658,0.5413533731411618,0.4212430560621871,0.5033408224483708,0.4833350681195779,0.5228992891664669,0.5441221607897401,0.5086286032147672,0.5040313360557871,0.5149674094345579,0.5290842762988212,0.45887191848866904,0.42061484269744037,0.46032788826465737,0.24610254512056298,0.550439359648451,0.5284887855043731,0.48764919348182256,0.4572914729787809,0.5097442208499746,0.5169920343757471,0.5046693370518196,0.549708077571741,0.5105890385773826,0.43856114112565037,0.5657085464489137,0.40891801165053787,0.48798453513929174,0.4716682450040283,0.4247726821703801,0.5774693917974414,0.4468270984137798,0.583675062257411,0.4198962263003045,0.3769879002426702,0.5136180079326327,0.5246984719319954,0.5062179082899916,0.4928441541914987,0.4709458903560292,0.558192728757021,0.4649763670329905,0.4315604746030216,0.5641365520951114,0.4842913435434007,0.41787400690155313,0.4711252463324578,0.47997391418266666,0.5566036499005236,0.5715574662483658,0.539663723652005,0.5185158228461757,0.400863329435008,0.5342554811430591,0.44593307550631195,0.5361899562681591,0.43204718861862296,0.5266271879150242,0.47055440199435966,0.538915694186038,0.4553523928261073,0.4705634335691962,0.5742161328103365,0.5001423760990928,0.39058142516451083,0.5202565546513864,0.4923305418788289,0.427706600403321,0.5563098487711748,0.3724319650876429,0.5283957653910409,0.41239925196433985,0.45470211543287037,0.5033807400009256,0.5297885056917789,0.4941693685766726,0.46460030868426916,0.526875791118672,0.45089955752930255,0.5456796731389213,0.36580675395397255,0.3322429206153087,0.5709732773771706,0.4758478694295907,0.5509601485094718,0.5566077798795087,0.531192953489083,0.5009265633646945,0.47344588244379915,0.5011027934360817,0.4946181205831717,0.5663944686872878,0.48744165833667313,0.4661923488827806,0.49935448327808474,0.5756334300998851,0.5143083381949942,0.47729087181494156,0.5897483196605564,0.6082506416400174,0.5350407053851698,0.5517650465475697,0.43550576762060256,0.5401582056120967,0.592731207366371,0.46106880416920415,0.48323415279428955,0.4771819360222788,0.5210536454389876,0.46235167128342175,0.4771451719309785,0.5662953817010843,0.610688582590449,0.4293829829624167,0.40379955983452975,0.4808813509766043,0.4524659348736667,0.4800591245139747,0.44939250835522315,0.5539270528018063,0.5513041536760739,0.36813782018644964,0.4303202769789661,0.42342128442071947,0.46389645550997255,0.428873426794765,0.45029351628105274,0.48076547553568677,0.49949595671846997,0.5510057426044973,0.466741325376473,0.5715084604470032,0.40924837557293664,0.34024602924511166,0.5586656591332058,0.5654518901606312,0.37839138502279895,0.3679095627028354,0.4523892219432484,0.5107577073372371,0.47526643531624985,0.4483548188275093,0.4928231657503574,0.5413375187912285,0.379136428438963,0.4410937864964671,0.5057846358898802,0.47758808175485723,0.16196457885079096,0.44509112448253535,0.42774502459880825,0.43815842126987614,0.4660188864869943,0.48208079931111425,0.5280195402355349,0.4897779017699384,0.4736119214504466,0.5539728854394218,0.4601050426998574,0.46300970594093027,0.5734182485432963,0.4929123817077595,0.5565000157159617,0.4685333737041255,0.43824977412397886,0.486190619097677,0.3807033549076338,0.48456323841566384,0.44267891575057233,0.5178379341422535,0.4377505947089589,0.45043808383482714,0.5401824636678334,0.4907179317526158,0.21762729341290057,0.5323728920021722,0.6173077331355171,0.5596076005061638,0.4811211842811892,0.3299676041527625,0.5138522744952987,0.42683419444409004,0.5270492191587662,0.5466424433868539,0.38646446160787606,0.5394826708572776,0.46690846713775025,0.523467235247212,0.5526998631074431,0.4501059988980653,0.4656036436047405,0.48797770029534615,0.4633199321070881,0.49929227330145,0.4357644025177818,0.5391354515924391,0.587267896599814,0.5457695509994411,0.4866006056016736,0.48181214686207785,0.5741712076219672,0.5584767027211859,0.5379238594214868,0.532202838617405,0.5643215511502694,0.5451659620443741,0.5172459219637737,0.5851819217351449,0.5424317212739389,0.47414930841203684,0.42005281534087047,0.5372915382429909,0.5089807132796614,0.4163309783486774,0.4715914663113567,0.15465625864762272,0.5391295919447333,0.4256256492709107,0.545325275676335,0.46030793817253357,0.48464993262439604,0.5447006042564679,0.46815919144850504,0.5757237170139211,0.6113047259053832,0.5766833907501999,0.36064097335673534,0.5276752749589623,0.4814611770949234,0.48052166096975757,0.4577558278370323,0.45530343608611396,0.5002137064155656,0.5000270089745701,0.4636624767912325,0.5232807075408431,0.4924932707089624,0.5421372897969847,0.5126379065845025,0.5321911071542326,0.5183916583920278,0.47967448170447496,0.5401178236568359,0.5464364821582756,0.37216560522976694,0.49247011377506184,0.4293772864734581,0.40214855806291255,0.48277339419294457,0.5132508333623333,0.511655809864209,0.44177203233996826,0.5293206990787156,0.453263753941999,0.5965374748173055,0.42686713422972006,0.47425922659577396,0.49445941775311997,0.45195348778597777,0.4680063951375539,0.5863263800513796,0.5235834890849338,0.4534333567010516,0.5439591196786084,0.4627198190273191,0.5032951304788442,0.4733384319541255,0.5235679304814305,0.4654602890919998,0.5282489482761119,0.5451377800548216,0.4352255983182059],\"y\":[0.49099164645354726,0.45646955389215327,0.487616373338169,0.4580167133761157,0.5479863254955668,0.4067787928420985,0.4567348583485746,0.5096645158582941,0.5069193253370333,0.4200710664164985,0.4536563879941655,0.35925149435673476,0.47627468287402075,0.41908904485699067,0.410979803231116,0.393702321348803,0.48193246350882646,0.5228189895152529,0.4388271013785946,0.4667141701014295,0.36893287206136327,0.46017450660272663,0.40270676299096153,0.4227989023730717,0.2943319007604246,0.4438871090176418,0.37776732358660414,0.3375929240264079,0.3941189918132523,0.38316797458649426,0.4831357630270731,0.40016329106712756,0.4032505053357199,0.38206320333812543,0.3239868067113266,0.3730984854218167,0.42135150193984094,0.4109785658111221,0.4129187098635667,0.2357680587288226,0.3833159860464691,0.35080700580482377,0.43937181116987756,0.29174173780928053,0.3090868439482849,0.3545433294756509,0.36353858981566506,0.29215987631658585,0.31343612780820956,0.30316659217175096,0.29916714803562416,0.3095393073261799,0.2753268637083765,0.42384980774648306,0.30884246141285726,0.3249947609548267,0.2945097192961302,0.39224495545646426,0.32620896116846015,0.3214792263192919,0.19930035773637308,0.3607451900637892,0.19166562567118658,0.2673867649290822,0.1921452370966864,0.3032383471047331,0.29936659067801946,0.2928267164358532,0.31458391232188443,0.29212384135457103,0.277582730880499,0.27156555729009973,0.27987813010608825,0.2909790011567756,0.36101584760269473,0.2977467356787744,0.3314794595197733,0.32712746530647724,0.2681740630504154,0.23099803092150425,0.23922785480692568,0.3117834344824284,0.2774825378742081,0.30399317005115123,0.3254090644153859,0.182760374834235,0.29099276173511807,0.27044110718964676,0.29842951774933024,0.3307294085284484,0.28663857782468843,0.29919659321121045,0.274056467955609,0.26199218602857294,0.22646494330877903,0.22743604125419298,0.3052351556680833,0.26370315482792256,0.25296762505101267,0.28121642273464087,0.24091016907717397,0.20489525289509444,0.27227886587500627,0.2546188876788916,0.2652143616421304,0.12129259127172895,0.2344487973377615,0.20983501476745534,0.05033847924984667,0.2294576928210904,0.2535926210932487,0.235622733949838,0.13337799378470305,0.2729523389146351,0.21241427121743842,0.25928059475765397,0.24988652067478853,0.23205264945644052,0.22558650727335774,0.2601830329240995,0.12935094923635557,0.2088861644032286,0.21874598845906282,0.22837779424296767,0.2380517501802737,0.1754071252338861,0.23235945912592215,0.20168019853658717,0.1905568282952654,0.1678817567265895,0.22559568960493795,0.1526991396589075,0.21033351347564397,0.17071397088792928,0.15632988073765378,0.22383006629339303,0.2151157580432924,0.11814668105493652,0.18263772254062832,0.2426768826642033,0.15781874093960632,0.22527920015458197,0.17392307325756975,0.16674584818309687,0.1071705895975265,0.19816110270352735,0.23063876525309368,-0.024872767942487394,0.2278529860821994,0.19928606278265365,0.14870510390372946,0.2276686703703762,0.23659747873715167,0.22082163043367067,0.06772932471704915,0.2186594638405927,0.027560226960719945,0.195272706900155,0.17504162839790405,0.024018894180129195,0.13399849100236086,0.14382227489794766,0.15084433760110724,0.1461320360091525,0.12363305266216663,0.16677706972202974,0.13558256968151147,0.20694436677045402,0.15596077028935462,0.15415189314341737,0.13096740173882218,0.19426968005954634,0.17963356934939562,0.20188793377215453,0.13747106714444898,0.1786286861647821,0.2170737487193752,0.29158700354675793,0.13407780685926948,0.1716919132534688,0.14253420226373806,0.16112875971931523,0.07838067611351089,0.052333619695850764,0.02561633453886866,0.04008312906662214,0.18547644399776692,0.16172884094166143,0.14950747756824437,0.17066042312591664,0.09455918954771755,0.17407842763022516,0.05602711338053718,0.14996843678796898,0.10831190160375816,0.08587895470705692,0.08273475838886764,0.16996355310167496,0.04844839837056364,0.09602051256402448,0.1575473850937416,0.15659434364118416,0.1479128641002437,0.14586031874780414,0.11150556758829692,0.11248519803176711,0.1871351358401606,0.16091281656546075,0.05963890914056861,0.14103847833284366,0.006266395637560315,0.17203165763350306,0.08698084905694353,0.13054964374204622,0.14086421800992205,0.07205186901331828,0.056953147765852884,0.15962904065704706,0.0929677858233825,0.11184756690387565,0.1275566098059418,0.13335984517327884,0.0560396566063994,0.11869002366435595,0.08662788859058464,0.028485658273083168,0.05926494786926289,0.024885618787087716,0.022281836942314875,0.12147571646387698,0.07497557560047127,-0.008705563756826068,0.008613546647448836,0.050974791121430614,0.14959040735590082,-0.0018375273888626333,-0.00434077523778195,0.14010687209011718,0.09050380059767073,0.11957312579123675,0.11809144515569779,0.11280651690401064,0.08617757222951525,0.14109417304822044,0.14168766505910746,0.06687485641946661,0.002877355018690939,0.13362239542682405,0.11025879059698361,0.0077340577044415345,0.1253905863338559,0.16725802384300795,0.07407073213936108,0.12075111749031271,0.15067221217731624,0.1357774321910271,0.11600341735703187,0.17621039684982706,0.125272764581463,0.045609549806025475,0.08581496311883982,0.15006289831684902,0.08545360776638602,0.05777068426057915,0.16269905153802933,-0.025677320049952497,0.005434081398985543,0.11343733550042624,0.11128780974821663,0.098110896907542,0.0358519157383544,0.1227842770195009,0.13389953864872353,0.061747794333403355,0.15059741368551746,0.12595335915162262,0.15777939747938044,0.06976488491449591,0.14185296690678478,0.05186343243912737,0.0791927003305058,0.11153923703367996,0.034601338862480194,0.11273839253145611,0.11608613869463044,0.10469291326585947,0.05038848845798919,0.10806013868075795,-0.03133667323609857,0.10414306536932791,0.09965149219090458,0.051053036409186,0.0008139417387299184,0.017406806791364745,0.03978886278742897,-0.015859871656370303,0.038230986328773704,0.064677777403278,0.16416257549672228,0.04364167357173019,-0.15199430868328861,0.11758731093587355,0.1444671923791493,0.04510896935336438,0.10131795840326202,0.02833601013942568,0.09239310188451788,0.1349035949625398,0.04586188058337828,0.11068146522271337,0.1926865277618189,0.1673847025642897,0.07432269811927956,0.04077421631914012,0.0823098512621493,0.11071317620213991,0.009630134680805645,0.04122142148429121,0.12420372710605536,0.011694500446364726,0.05009931146847282,-0.0093807378174275,0.031117397635948944,0.11525791987670185,0.0402414811170658,0.1429121820172422,-0.01940739419681794,-0.047855920382059464,0.009071141180985178,0.08647281166198445,-0.029706869166565886,0.13426699155515137,0.043644941630504204,0.03023335722004402,0.12331795705989998,0.10090144802942833,0.07928618421382988,0.11344898071361002,0.13763962831394846,-0.018481487709077246,0.04440311330631203,0.1495055934822795,0.07168369771245715,-0.06935098249889222,0.10164811610611349,0.01949046919416175,0.13055011334208028,-0.07319460781344478,0.07527064515367295,0.004199976873119575,0.0559121953683,0.015719734084642552,0.03971615382315069,0.05949157905011968,0.08472694823161728,0.02055086856339285,0.037157071103303956,-0.0293203031037588,0.11125078313465793,0.08551492244067334,0.07091098420136416,0.016927721241585196,-0.04592507233800187,0.07844009026331976,0.11535339404523891,0.01191991940349689,-0.015952554404922683,0.014291986014279976,0.06837039519494063,0.020265290787098503,-0.06864528550991063,0.040686434486964775,0.06869845943262749,0.1310243576412693,0.08751221165653494,0.12509353448478894,0.12359828423061855,0.10304731514017695,-0.050673289428796474,0.092936524959074,0.1301674218644733,0.04001739754505454,-0.00042464594397849105,0.13543870141700695,0.1366045756988995,0.10403098646416474,0.012461696152156905,0.01328084094688089,0.07943462053182528,0.045676090184805014,-0.041257990586488075,0.08878083091051729,-0.022044418756101056,0.11875575761039803,0.00263766345852819,-0.06927199871015888,0.03920038252972701,-0.08987053893060967,0.07444258960961793,0.03284417068483832,-0.0643411858631993,0.01706122705763071,0.01362180535678251,0.03134098701879866,0.07707445030261334,0.07654185011527244,-0.036107934622184576,0.05677054371496777,0.003311978450908664,-0.005354776750282925,0.0654201207359169,0.04427540725550593,-0.07693803043066141,0.012175790598434412,0.008636514189820853,-0.019047300615250364,0.11297195299840819,0.03999358655413303,0.04157450060681942,0.030338520693844916,0.03459375538264145,-0.04421273473558975,0.11057828705989534,0.00762830577116994,0.03297235506044961,-0.008812971750770497,0.07133260814676179,0.0009745500655293688,-0.042367003570505664,0.027148501280512584,0.037326388762982964,0.048490584196400774,-0.020664908318314825,0.12831675256821926,0.11522993410058434,0.002130909552230327,0.033718804294842475,0.012049741396179385,-0.020221183392927212,-0.014629958482108072,0.10322861454484152,0.05834119414707763,0.047463114718966616,0.02769193191251211,-0.11710527831520064,-0.03381774388908515,-0.002660369660448071,0.023956160283916318,-0.01548506307242535,-0.016033620267541605,-0.03403753540393518,0.019252149532873585,-0.006686478805225208,0.09249346090218383,0.08388288066937666,-0.03831546813735466,-0.04451429415355172,-0.04918191324844068,0.0665807051729414,0.010853830744753027,0.12808574034583114,0.02933298689543381,0.02136255327127549,0.07483931650343417,0.03445276077279918,0.0031422517491878073,0.11365627260045587,0.09150038962403297,0.06846776711515822,0.09106785787134512,0.03746345954801705,-0.012613444233180955,0.04422718441512789,-0.01706833663811498,-0.05174568746962737,-0.005145773481276129,0.060989090626518444,0.0834832231697193,0.051347349082484506,0.1298548790690771,0.05186711314199447,0.03612692069511313,-0.02131112472051541,0.06870494699000285,-0.016276996668138158,-0.13222746381657116,-0.007811355794220645,0.00017067163827171958,-0.07578070043970123,0.015328452880523211,0.13611807299573397,0.06327214219853608,-0.04360022411888798,-0.02987494900616842,0.08716721681747579,0.006576402579035268,-0.020048181580057205,-0.07494377828464546,0.03881182056002793,0.07364026177955094,-0.09031522433030366,0.0945947880915504,-0.11480608733255648,-0.08203296523398437,-0.067078467815646,0.06391685763128149,-0.008094188685297203,-0.1073995007382008,0.07221733672903416,-0.003540819492140252,0.04500177319234694,0.0007198938480375175,-0.012585058301630888,-0.0022611335249829983,0.07508362271590564,-0.03898065657871542,-0.00842702728398325,0.07207642644060518,0.10651100995125279,0.04184011114877902,0.012452523439041435,-0.08131880888322023,-0.024264894438241157,0.027037316351493788,0.008460182915214358,0.004739256736329983,-0.03563395951196716,0.009583411911777716,-0.05387573679789738,-0.02121293260268573,0.003961243580345831,-0.05878377446770878,-0.04337800560392956,0.015855059628001125,0.022264494786653516,-0.023473377609022874,0.04475643864196305,-0.07621616975116807,0.03865367213441959,0.03067184446707015,-0.0033660377113091575,0.04250024436445353,0.0510621018825728,0.01735960373769303,-0.05970717576668403,0.04235082372830291,-0.011899804299423772,-0.0402150205583385,-0.011797186179453075,-0.08634847226582903,0.06317164558743653,0.028917345747448524,-0.016979076319537423,0.025892703488553288,-0.059672135539729144,-0.07099327419323918,-0.019281508836689353,-0.12345145067600086,0.04795785217001777,-0.0035993358140849778,-0.08569822808519055,0.03640244278556807,-0.04875658993953649,-0.027970767217966996,0.09617822163452622,-0.08892557369788955,-0.08458217252035383,-0.0649447688898405,-0.06513244520625885,0.0692814395429996,-0.018584491217047458,-0.005307768468048624,0.011901734722629159,-0.02665831410748761,-0.045619550839892414,-0.022131845311728095,-0.06006723823376894,-0.10097867854329234,0.057237803714758055,0.11190878824088561,-0.027265929003660812,-0.021584967607865085,0.024592283321704364,0.06990475892216075,0.01208347943557505,-0.032936083274348264,-0.03374562578939728,0.031679332681669566,-0.018513973850386205,0.07098410285277344,-0.018426064170600772,0.03820462420269358,-0.08384288351428304,0.04649371001882358,0.10247004373979642,-0.03508252593287594,-0.022497948471832754,-0.034588403768261215,-0.07580777010835892,-0.02952886522631296,0.03713703957941867,0.03901482070882236,-0.0020518138263887075,0.021590545660500653,-0.06417238166977968,-0.0066726417902088775,0.030302244240650533,0.027953028909427094,-0.09067997497075017,-0.05786390061567631,-0.05517703685694881,-0.01808030575769541,-0.024992330519283575,0.04175844842175543,-0.08513276168708574,0.05939901096896043,0.07970683828505151,-0.17534636001026588,-0.028304815076715933,-0.17161324664288705,-0.0047696937429687804,0.05667721509209365,-0.005982713632682187,-0.07192793506281314,0.06905765640805735,-0.11349633961304886,-0.08149637771575424,0.09764232248425875,-0.01771116943121569,-0.08089696765897375,0.018670452056465604,-0.02851797417426987,0.05804460752033382,-0.0528542205001774,0.05657424033658964,0.01490113592101612,-0.13848535363617026,-0.03654770411914217,0.05585492306751738,-0.040496400309005344,-1.2084845185780691e-05,-0.009268621088485869,0.08557238016044426,-0.0005814627200589251,-0.1665038490632139,-0.011938792702009099,-0.026266828837422842,-0.009863047726461176,0.06179553757294496,-0.0628706478200562,0.0788078973850816,0.029176158392934675,0.04397599565068571,-0.004302266238671287,0.007107061463962371,-0.09241329883206992,-0.11473002584231098,-0.07582719616603119,-0.1060054726003885,0.004711487952460828,-0.05518666401413884,-0.08386460382688295,0.052277814712613786,-0.011578683797345213,-0.014078710928475131,-0.04855371607406825,-0.07652813532689641,-0.13430241531962908,-0.08845319899331067,-0.03937074504100262,-0.030597000555297522,-0.1565275238794508,-0.13421367960368283,-0.09083122015615959,-0.07532110737072642,0.03447801577961647,-0.06316683314383499,-0.09388931727483835,-0.004367738234881784,-0.21580051863194044,0.04039521068732029,-0.0027828480658515812,-0.05744317205740182,-0.07359811457812389,-0.06894549910681626,-0.10457572063093933,0.05283886213898703,0.01604784470206307,-0.1017303066278825,0.0049636734717769864,0.033605536492568575,0.006269304269182921,0.030362258055603757,0.012955693501843517,-0.06315147080961994,-0.1103779152302456,-0.054540000766434574,-0.0349967039471579,-0.05503667753552371,-0.002690595995218886,-0.10592342581584804,0.0460405763138833,0.0738937828934736,0.027617047085898634,-0.14424877968918062,-0.0652850885375509,0.07765294614031039,-0.1326153504982352,0.09597064152965447,-0.06511314931213799,0.0033207068283380736,-0.0699703539708567,-0.03151750520893046,-0.008897049180145448,-0.12924688085696942,-0.10584442270390743,-0.011851729536935937,0.04552416088875413,0.012769256428403375,-0.09920850890785897,-0.08742080127836975,0.026807757681682767,-0.040305129871146955,0.02800006471916794,-0.10324116266275918,-0.016984890147912865,0.0067685297330027094,0.08825392463916032,-0.010347583024591213,-0.030876844115985878,-0.10215628291573532,-0.03410566986385469,0.07166530083573354,-0.10889375020337684,-0.13154044955515262,-0.04354110291593588,0.15293154597062128,-0.023440431529201677,-0.04318914205748713,-0.0457372785172347,-0.01690377823474777,-0.03548726288803876,0.013889285822378588,-0.23606478678250187,-0.040594435940694236,0.013283702657094533,0.045447827585635675,-0.17966328627058561,-0.09006858249968415,-0.05820207093601276,-0.09318874397998624,-0.1362790944641611,0.044396338921196654,-0.0575249792561049,0.06888972993238103,-0.13544201522267302,-0.058059204009206986,0.005827780900585713,-0.010824549241226165,-0.0279765848605141,-0.07206603565137125,-0.05022641400680285,0.0005421114201126177,-0.09852219635742038,-0.11354238562923819,-0.04069808800267587,-0.08740733076948805,-0.09911787967533559,-0.1385711011480174,-0.11644602478087214,-0.09051684725024685,-0.07609645246859954,-0.06960176968827228,-0.006261420454807058,-0.10089058142216853,-0.07167885859824458,0.0259203063614293,-0.14143454222072793,-0.0850037012597153,-0.0704438168361928,0.02568522285478794,-0.08355426723011047,-0.0026150909769464513,0.05938197827403598,0.047495357054728876,-0.0072647245068053895,0.023068017779297033,-0.12393022556704977,-0.11490719054399991,0.021769355820618914,-0.10908555673806311,-0.0016036526321633448,-0.09089764742724507,-0.10877655133352811,0.027123489242827745,-0.0431673081888247,-0.06234855611432415,0.021053939267868898,-0.14520633270307448,-0.027290271028761512,-0.019457597425873097,0.03537250363890868,-0.05792996952231293,-0.06482608926479784,-0.04135060019138147,-0.04515941342471924,0.04725528435892585,-0.11434240423295876,-0.008492843569844302,0.028488671394916995,-0.11895482932046335,-0.08530842827390932,-0.029716955417864226,-0.19333560972325847,-0.06526972505375493,-0.05726857561609849,-0.10626072799389061,-0.15226771321600735,-0.08093234001441502,-0.09513113840998526,-0.02957022210776614,-0.03573834836019571,-0.06499932038618242,-0.12651386984732627,-0.11472517558773881,-0.08433233088851362,-0.056968902522143115,-0.12347363348996239,-0.06392642652038766,0.00332858088781171,-0.044436996798732226,-0.11848329724857655,-0.1157019078060139,0.005265754817836851,-0.06585146457874179,-0.06006328934056284,-0.1877112372022113,0.015573332392525317,-0.11176849662178683,-0.06162656954007522,-0.012848875418818823,0.06154757166402897,-0.010504109231646382,-0.06760080898082436,-0.0060618698667197985,-0.04091765929599046,0.012626374324799638,-0.18777758400977945,-0.09240492725279008,-0.043700144165465145,-0.05199116007997312,0.03116792292319565,0.011506417933137517,0.02379346029690233,-0.014349514420851887,0.04301470765758399,-0.09974212325673736,-0.1379939225760995,-0.0404843451147432,-0.14468391002812897,0.031346107701385885,-0.09554733323984012,-0.148932150093607,-0.07912199745202476,-0.032919663894710835,0.052152885141075175,-0.07057941628795657,-0.07463253349882995,-0.07806094225343947,0.028662774100012806,-0.11391133364265311,-0.08852825056116367,-0.0591046983247777,0.0627972644793481,-0.09346729752005864,-0.049889183262207405,0.01028881657811435,0.025367738856081755,-0.06505483616779933,0.03593282232463355,-0.09299807233221236,-0.00412702392728097,-0.13408596395336783,-0.10807144317466125,-0.14251078984170906,-0.0680955949875708,-0.15099936667741742,-0.026349617551585852,-0.1935166488711614,-0.035069623380336847,-0.060793312866302615,0.016152005226762786,0.04335110120409842,-0.08613305291018886,-0.031565432529533276,-0.10562446803584233,0.02183094877625111,-0.051131778358006544,-0.06773583303812575,-0.07693174676395477,-0.20729193652965966,0.010831925073188853,0.021711947009979946,-0.09472469149873465,-0.20159026685636514,-0.10025370324835582,-0.07237041222990816,0.054431132919138064,-0.09756484619894494,-0.04438524882700223,-0.03755642672617254,-0.13203783629193833,0.011888332592464539,-0.11866344631490126,-0.12421758104045591,-0.22103637449001498,-0.09441270623880346,0.015212065058494902,0.04869462811760301,-0.14288295765518663,-0.009566010905776414,-0.17091287484705445,-0.08837149237296768,-0.096732698373123,-0.017178462838743278,-0.17831820996123493,-0.014140667366991,-0.008997616815291926,-0.10712973477296661,-0.02537766917841291,-0.1580124134141228,-0.028265427273413635,-0.09813101681489793,-0.08513968636482606,-0.16027454687386403,-0.13066581724061058,-0.08812421470387384,-0.13189200098227663,-0.00877435423590155,0.01955602610948341,-0.1685263491411852,0.0349806418839449,0.006628639664603727,0.006025889144508899,-0.0922727002313819,-0.05457655829056965,-0.23275075614125318,-0.021809691446174555,-0.1296216511050358,-0.11025331802547503,-0.05153496330798169,-0.1358975285402688,0.005235244464600882,-0.11793040855965656,-0.06928955703070493,-0.12629110777596741,-0.17832430538828034,-0.06389518337931803,0.018181580711895125,-0.03235494222792192,-0.07405644108223378,-0.17214610806307118,0.00518557324065212,0.014285165952910715,-0.1726931508399988,-0.03453063761655969,-0.11550589450746004,-0.09443321655258681,-0.02067204153978081,-0.03511031123560896,-0.12863851326090955,-0.0991436109808935,-0.02748751153557865,-0.06354054451823843,-0.01124019193987181,0.02929327496890941,-0.06834694828343855,-0.022184909640024418,-0.07840663458118366,-0.07910891892534423,-0.06042240487524776,0.014423895191037046,-0.2253850362730191,-0.014617688870000345,-0.18838455904980883,-0.16034331959462783,-0.0866864779721481,-0.07405703687686203,-0.05200221220618543,-0.1785391892120254,-0.1253982692180141,-0.03254332452281989,-0.11467630024463564,-0.04671210299738167,-0.08118945046453784,-0.08936034932875357,-0.16900914561511082,-0.08680500876400232,-0.07248543065734071,0.04495285743735884]}},\"id\":\"db0f5f59-81a6-49c6-8ba6-8884c4248cfd\",\"type\":\"ColumnDataSource\"},{\"attributes\":{\"data_source\":{\"id\":\"db0f5f59-81a6-49c6-8ba6-8884c4248cfd\",\"type\":\"ColumnDataSource\"},\"glyph\":{\"id\":\"7902bce3-df50-4c76-9474-aa337c57e7d4\",\"type\":\"Text\"},\"hover_glyph\":null,\"nonselection_glyph\":{\"id\":\"93f5721d-0fec-4495-9c93-def5bac09dd0\",\"type\":\"Text\"},\"selection_glyph\":null},\"id\":\"f0959083-aa57-4841-ab6c-f00ef2dd590b\",\"type\":\"GlyphRenderer\"},{\"attributes\":{\"dimension\":1,\"plot\":{\"id\":\"f8935237-f9ac-47e3-a74d-fef51cfd3860\",\"subtype\":\"Figure\",\"type\":\"Plot\"},\"ticker\":{\"id\":\"b33f5f26-e7eb-4d87-9bde-d1df7c70a208\",\"type\":\"BasicTicker\"}},\"id\":\"08ad5c2a-4f16-4d3e-8d7e-c58633fe5708\",\"type\":\"Grid\"},{\"attributes\":{\"plot\":{\"id\":\"f8935237-f9ac-47e3-a74d-fef51cfd3860\",\"subtype\":\"Figure\",\"type\":\"Plot\"}},\"id\":\"3579595f-735d-456e-8e01-c46d40855961\",\"type\":\"PanTool\"},{\"attributes\":{\"active_drag\":\"auto\",\"active_scroll\":{\"id\":\"73fe6d82-f47d-4b3c-9bdb-15151074706c\",\"type\":\"WheelZoomTool\"},\"active_tap\":\"auto\",\"tools\":[{\"id\":\"fa3880c7-1e36-47f4-9b17-22bcae654bdd\",\"type\":\"ResetTool\"},{\"id\":\"3579595f-735d-456e-8e01-c46d40855961\",\"type\":\"PanTool\"},{\"id\":\"73fe6d82-f47d-4b3c-9bdb-15151074706c\",\"type\":\"WheelZoomTool\"},{\"id\":\"54d9d9f8-90a0-4054-96c9-1f0e7068cea3\",\"type\":\"BoxZoomTool\"}]},\"id\":\"0b3e16d2-b070-45d2-9852-f86ca4a835fc\",\"type\":\"Toolbar\"},{\"attributes\":{},\"id\":\"f5454058-8c5c-42b7-8ed5-6c5b5c11664f\",\"type\":\"BasicTicker\"},{\"attributes\":{\"formatter\":{\"id\":\"9e2ffdbd-1dc5-4314-a544-135e7f84a1a7\",\"type\":\"BasicTickFormatter\"},\"plot\":{\"id\":\"f8935237-f9ac-47e3-a74d-fef51cfd3860\",\"subtype\":\"Figure\",\"type\":\"Plot\"},\"ticker\":{\"id\":\"b33f5f26-e7eb-4d87-9bde-d1df7c70a208\",\"type\":\"BasicTicker\"}},\"id\":\"7036799a-fbb6-4a67-9677-d24e9fdf1400\",\"type\":\"LinearAxis\"},{\"attributes\":{},\"id\":\"9e2ffdbd-1dc5-4314-a544-135e7f84a1a7\",\"type\":\"BasicTickFormatter\"},{\"attributes\":{},\"id\":\"df168fdc-945b-4e99-bbcb-c793cd7db244\",\"type\":\"ToolEvents\"},{\"attributes\":{\"below\":[{\"id\":\"96b54058-8346-4e36-8f51-227d5f34fc59\",\"type\":\"LinearAxis\"}],\"left\":[{\"id\":\"7036799a-fbb6-4a67-9677-d24e9fdf1400\",\"type\":\"LinearAxis\"}],\"renderers\":[{\"id\":\"96b54058-8346-4e36-8f51-227d5f34fc59\",\"type\":\"LinearAxis\"},{\"id\":\"7dd0e898-1153-4043-8ab2-307826317485\",\"type\":\"Grid\"},{\"id\":\"7036799a-fbb6-4a67-9677-d24e9fdf1400\",\"type\":\"LinearAxis\"},{\"id\":\"08ad5c2a-4f16-4d3e-8d7e-c58633fe5708\",\"type\":\"Grid\"},{\"id\":\"e04de534-8cb1-4ce2-befd-219f4a0e3133\",\"type\":\"BoxAnnotation\"},{\"id\":\"f0959083-aa57-4841-ab6c-f00ef2dd590b\",\"type\":\"GlyphRenderer\"}],\"title\":{\"id\":\"9b3fb69a-062a-42e8-a117-7128c8d8b4bb\",\"type\":\"Title\"},\"tool_events\":{\"id\":\"df168fdc-945b-4e99-bbcb-c793cd7db244\",\"type\":\"ToolEvents\"},\"toolbar\":{\"id\":\"0b3e16d2-b070-45d2-9852-f86ca4a835fc\",\"type\":\"Toolbar\"},\"x_range\":{\"id\":\"7242dce5-95e9-4115-8ac5-814475a7bb39\",\"type\":\"DataRange1d\"},\"y_range\":{\"id\":\"1551e3ee-bf78-49c7-a575-b37b657185d5\",\"type\":\"DataRange1d\"}},\"id\":\"f8935237-f9ac-47e3-a74d-fef51cfd3860\",\"subtype\":\"Figure\",\"type\":\"Plot\"},{\"attributes\":{\"text_align\":\"center\",\"text_baseline\":\"middle\",\"text_color\":{\"value\":\"black\"},\"x\":{\"field\":\"x\"},\"y\":{\"field\":\"y\"}},\"id\":\"7902bce3-df50-4c76-9474-aa337c57e7d4\",\"type\":\"Text\"},{\"attributes\":{\"plot\":{\"id\":\"f8935237-f9ac-47e3-a74d-fef51cfd3860\",\"subtype\":\"Figure\",\"type\":\"Plot\"}},\"id\":\"73fe6d82-f47d-4b3c-9bdb-15151074706c\",\"type\":\"WheelZoomTool\"},{\"attributes\":{\"text_align\":\"center\",\"text_alpha\":{\"value\":0.1},\"text_baseline\":\"middle\",\"text_color\":{\"value\":\"black\"},\"x\":{\"field\":\"x\"},\"y\":{\"field\":\"y\"}},\"id\":\"93f5721d-0fec-4495-9c93-def5bac09dd0\",\"type\":\"Text\"},{\"attributes\":{\"overlay\":{\"id\":\"e04de534-8cb1-4ce2-befd-219f4a0e3133\",\"type\":\"BoxAnnotation\"},\"plot\":{\"id\":\"f8935237-f9ac-47e3-a74d-fef51cfd3860\",\"subtype\":\"Figure\",\"type\":\"Plot\"}},\"id\":\"54d9d9f8-90a0-4054-96c9-1f0e7068cea3\",\"type\":\"BoxZoomTool\"},{\"attributes\":{\"plot\":null,\"text\":\"Word Vectors\"},\"id\":\"9b3fb69a-062a-42e8-a117-7128c8d8b4bb\",\"type\":\"Title\"},{\"attributes\":{\"callback\":null},\"id\":\"7242dce5-95e9-4115-8ac5-814475a7bb39\",\"type\":\"DataRange1d\"},{\"attributes\":{},\"id\":\"6561e16d-4172-46aa-b494-d1e031668b75\",\"type\":\"BasicTickFormatter\"},{\"attributes\":{\"callback\":null},\"id\":\"1551e3ee-bf78-49c7-a575-b37b657185d5\",\"type\":\"DataRange1d\"}],\"root_ids\":[\"f8935237-f9ac-47e3-a74d-fef51cfd3860\"]},\"title\":\"Bokeh Application\",\"version\":\"0.12.3\"}};\n",
       "            var render_items = [{\"docid\":\"b4346877-04ed-40e1-ac6e-a7a0af5e917b\",\"elementid\":\"b4a97c5f-aa00-4771-b5f0-ca3ddd0ca632\",\"modelid\":\"f8935237-f9ac-47e3-a74d-fef51cfd3860\"}];\n",
       "            \n",
       "            Bokeh.embed.embed_items(docs_json, render_items);\n",
       "        });\n",
       "      },\n",
       "      function(Bokeh) {\n",
       "      }\n",
       "    ];\n",
       "  \n",
       "    function run_inline_js() {\n",
       "      \n",
       "      if ((window.Bokeh !== undefined) || (force === \"1\")) {\n",
       "        for (var i = 0; i < inline_js.length; i++) {\n",
       "          inline_js[i](window.Bokeh);\n",
       "        }if (force === \"1\") {\n",
       "          display_loaded();\n",
       "        }} else if (Date.now() < window._bokeh_timeout) {\n",
       "        setTimeout(run_inline_js, 100);\n",
       "      } else if (!window._bokeh_failed_load) {\n",
       "        console.log(\"Bokeh: BokehJS failed to load within specified timeout.\");\n",
       "        window._bokeh_failed_load = true;\n",
       "      } else if (!force) {\n",
       "        var cell = $(\"#b4a97c5f-aa00-4771-b5f0-ca3ddd0ca632\").parents('.cell').data().cell;\n",
       "        cell.output_area.append_execute_result(NB_LOAD_WARNING)\n",
       "      }\n",
       "  \n",
       "    }\n",
       "  \n",
       "    if (window._bokeh_is_loading === 0) {\n",
       "      console.log(\"Bokeh: BokehJS loaded, going straight to plotting\");\n",
       "      run_inline_js();\n",
       "    } else {\n",
       "      load_libs(js_urls, function() {\n",
       "        console.log(\"Bokeh: BokehJS plotting callback run at\", now());\n",
       "        run_inline_js();\n",
       "      });\n",
       "    }\n",
       "  }(this));\n",
       "</script>"
      ]
     },
     "metadata": {},
     "output_type": "display_data"
    }
   ],
   "source": [
    "# Plot the top 1000 words\n",
    "plot_wv.plot_wv(Wv, vocab, num_words=1000)"
   ]
  },
  {
   "cell_type": "code",
   "execution_count": 20,
   "metadata": {
    "collapsed": false
   },
   "outputs": [
    {
     "data": {
      "text/html": [
       "<a href=\"plots/wordvectors.html\" target='_blank'>View plot \"plots/wordvectors.html\" in a new tab</a>"
      ],
      "text/plain": [
       "<IPython.core.display.HTML object>"
      ]
     },
     "metadata": {},
     "output_type": "display_data"
    }
   ],
   "source": [
    "# Plot all the word vectors in a separate window.\n",
    "# The page might load slowly on older machines.\n",
    "plot_wv.plot_wv(Wv, vocab, num_words=vocab_size, inline=False, \n",
    "                filename=\"plots/wordvectors.html\")"
   ]
  },
  {
   "cell_type": "markdown",
   "metadata": {},
   "source": [
    "We can also highlight specific words by passing a color dict:"
   ]
  },
  {
   "cell_type": "code",
   "execution_count": 21,
   "metadata": {
    "collapsed": false
   },
   "outputs": [
    {
     "data": {
      "text/html": [
       "\n",
       "\n",
       "    <div class=\"bk-root\">\n",
       "        <div class=\"plotdiv\" id=\"0cb16870-56c7-48f9-83df-42ba1b056397\"></div>\n",
       "    </div>\n",
       "<script type=\"text/javascript\">\n",
       "  \n",
       "  (function(global) {\n",
       "    function now() {\n",
       "      return new Date();\n",
       "    }\n",
       "  \n",
       "    var force = \"\";\n",
       "  \n",
       "    if (typeof (window._bokeh_onload_callbacks) === \"undefined\" || force !== \"\") {\n",
       "      window._bokeh_onload_callbacks = [];\n",
       "      window._bokeh_is_loading = undefined;\n",
       "    }\n",
       "  \n",
       "  \n",
       "    \n",
       "    if (typeof (window._bokeh_timeout) === \"undefined\" || force !== \"\") {\n",
       "      window._bokeh_timeout = Date.now() + 0;\n",
       "      window._bokeh_failed_load = false;\n",
       "    }\n",
       "  \n",
       "    var NB_LOAD_WARNING = {'data': {'text/html':\n",
       "       \"<div style='background-color: #fdd'>\\n\"+\n",
       "       \"<p>\\n\"+\n",
       "       \"BokehJS does not appear to have successfully loaded. If loading BokehJS from CDN, this \\n\"+\n",
       "       \"may be due to a slow or bad network connection. Possible fixes:\\n\"+\n",
       "       \"</p>\\n\"+\n",
       "       \"<ul>\\n\"+\n",
       "       \"<li>re-rerun `output_notebook()` to attempt to load from CDN again, or</li>\\n\"+\n",
       "       \"<li>use INLINE resources instead, as so:</li>\\n\"+\n",
       "       \"</ul>\\n\"+\n",
       "       \"<code>\\n\"+\n",
       "       \"from bokeh.resources import INLINE\\n\"+\n",
       "       \"output_notebook(resources=INLINE)\\n\"+\n",
       "       \"</code>\\n\"+\n",
       "       \"</div>\"}};\n",
       "  \n",
       "    function display_loaded() {\n",
       "      if (window.Bokeh !== undefined) {\n",
       "        Bokeh.$(\"#0cb16870-56c7-48f9-83df-42ba1b056397\").text(\"BokehJS successfully loaded.\");\n",
       "      } else if (Date.now() < window._bokeh_timeout) {\n",
       "        setTimeout(display_loaded, 100)\n",
       "      }\n",
       "    }\n",
       "  \n",
       "    function run_callbacks() {\n",
       "      window._bokeh_onload_callbacks.forEach(function(callback) { callback() });\n",
       "      delete window._bokeh_onload_callbacks\n",
       "      console.info(\"Bokeh: all callbacks have finished\");\n",
       "    }\n",
       "  \n",
       "    function load_libs(js_urls, callback) {\n",
       "      window._bokeh_onload_callbacks.push(callback);\n",
       "      if (window._bokeh_is_loading > 0) {\n",
       "        console.log(\"Bokeh: BokehJS is being loaded, scheduling callback at\", now());\n",
       "        return null;\n",
       "      }\n",
       "      if (js_urls == null || js_urls.length === 0) {\n",
       "        run_callbacks();\n",
       "        return null;\n",
       "      }\n",
       "      console.log(\"Bokeh: BokehJS not loaded, scheduling load and callback at\", now());\n",
       "      window._bokeh_is_loading = js_urls.length;\n",
       "      for (var i = 0; i < js_urls.length; i++) {\n",
       "        var url = js_urls[i];\n",
       "        var s = document.createElement('script');\n",
       "        s.src = url;\n",
       "        s.async = false;\n",
       "        s.onreadystatechange = s.onload = function() {\n",
       "          window._bokeh_is_loading--;\n",
       "          if (window._bokeh_is_loading === 0) {\n",
       "            console.log(\"Bokeh: all BokehJS libraries loaded\");\n",
       "            run_callbacks()\n",
       "          }\n",
       "        };\n",
       "        s.onerror = function() {\n",
       "          console.warn(\"failed to load library \" + url);\n",
       "        };\n",
       "        console.log(\"Bokeh: injecting script tag for BokehJS library: \", url);\n",
       "        document.getElementsByTagName(\"head\")[0].appendChild(s);\n",
       "      }\n",
       "    };var element = document.getElementById(\"0cb16870-56c7-48f9-83df-42ba1b056397\");\n",
       "    if (element == null) {\n",
       "      console.log(\"Bokeh: ERROR: autoload.js configured with elementid '0cb16870-56c7-48f9-83df-42ba1b056397' but no matching script tag was found. \")\n",
       "      return false;\n",
       "    }\n",
       "  \n",
       "    var js_urls = [];\n",
       "  \n",
       "    var inline_js = [\n",
       "      function(Bokeh) {\n",
       "        Bokeh.$(function() {\n",
       "            var docs_json = {\"2a181ddc-b603-4f39-8b05-6010609ec4d4\":{\"roots\":{\"references\":[{\"attributes\":{\"data_source\":{\"id\":\"944543eb-72f6-489a-80c9-d44d251a0b47\",\"type\":\"ColumnDataSource\"},\"glyph\":{\"id\":\"3e7d9a8d-4666-4360-b640-d1feda80ed85\",\"type\":\"Text\"},\"hover_glyph\":null,\"nonselection_glyph\":{\"id\":\"990e90e6-7dfb-43f2-9dd0-27368d966fd2\",\"type\":\"Text\"},\"selection_glyph\":null},\"id\":\"45910123-f13e-46e6-a0b3-54d60507e4eb\",\"type\":\"GlyphRenderer\"},{\"attributes\":{\"callback\":null},\"id\":\"3fb3857e-ff80-497c-8db6-27e6fbc17c08\",\"type\":\"DataRange1d\"},{\"attributes\":{\"plot\":null,\"text\":\"Word Vectors\"},\"id\":\"255b52c4-02b2-4781-b5b4-469cad942adf\",\"type\":\"Title\"},{\"attributes\":{},\"id\":\"adcb909e-4f19-4120-a80d-859391befb40\",\"type\":\"ToolEvents\"},{\"attributes\":{\"plot\":{\"id\":\"c2faae32-8b4b-4f2b-b453-b584a3a6e65e\",\"subtype\":\"Figure\",\"type\":\"Plot\"}},\"id\":\"24f3ee64-af31-495b-aa0d-be597a4a8af8\",\"type\":\"WheelZoomTool\"},{\"attributes\":{},\"id\":\"c4438c0b-5e9e-40fc-9367-2241901c0c28\",\"type\":\"BasicTickFormatter\"},{\"attributes\":{\"plot\":{\"id\":\"c2faae32-8b4b-4f2b-b453-b584a3a6e65e\",\"subtype\":\"Figure\",\"type\":\"Plot\"},\"ticker\":{\"id\":\"5d5381a9-ebb5-448b-9f91-01737378a50e\",\"type\":\"BasicTicker\"}},\"id\":\"ae3543e1-cfd4-459b-bac5-11491494115e\",\"type\":\"Grid\"},{\"attributes\":{\"text_align\":\"center\",\"text_alpha\":{\"value\":0.1},\"text_baseline\":\"middle\",\"text_color\":{\"value\":\"black\"},\"x\":{\"field\":\"x\"},\"y\":{\"field\":\"y\"}},\"id\":\"990e90e6-7dfb-43f2-9dd0-27368d966fd2\",\"type\":\"Text\"},{\"attributes\":{},\"id\":\"d481e18d-e794-455e-ac20-0357226c6809\",\"type\":\"BasicTickFormatter\"},{\"attributes\":{\"callback\":null,\"column_names\":[\"y\",\"x\",\"text\",\"text_color\"],\"data\":{\"text\":[\"the\",\",\",\".\",\"of\",\"and\",\"to\",\"a\",\"in\",\"that\",\"is\",\"was\",\"he\",\"for\",\"``\",\"''\",\"it\",\"with\",\"as\",\"his\",\"on\",\"be\",\";\",\"at\",\"by\",\"i\",\"this\",\"had\",\"?\",\"not\",\"are\",\"but\",\"from\",\"or\",\"have\",\"an\",\"they\",\"which\",\"--\",\"one\",\"you\",\"were\",\"her\",\"all\",\"she\",\"there\",\"would\",\"their\",\"we\",\"him\",\"been\",\")\",\"has\",\"(\",\"when\",\"who\",\"will\",\"more\",\"if\",\"no\",\"out\",\"DG\",\"so\",\"said\",\"DGDGDGDG\",\"DGDG\",\"what\",\"up\",\"its\",\"about\",\":\",\"into\",\"than\",\"them\",\"can\",\"only\",\"other\",\"new\",\"some\",\"could\",\"time\",\"!\",\"these\",\"two\",\"may\",\"then\",\"do\",\"first\",\"any\",\"my\",\"now\",\"such\",\"like\",\"our\",\"over\",\"man\",\"me\",\"even\",\"most\",\"made\",\"also\",\"after\",\"did\",\"many\",\"before\",\"must\",\"af\",\"through\",\"back\",\"years\",\"much\",\"where\",\"your\",\"way\",\"well\",\"down\",\"should\",\"because\",\"each\",\"just\",\"those\",\"people\",\"mr.\",\"too\",\"how\",\"little\",\"state\",\"good\",\"very\",\"make\",\"world\",\"still\",\"see\",\"own\",\"men\",\"work\",\"long\",\"here\",\"get\",\"between\",\"both\",\"life\",\"being\",\"under\",\"never\",\"day\",\"same\",\"another\",\"know\",\"while\",\"last\",\"us\",\"might\",\"great\",\"old\",\"year\",\"off\",\"come\",\"since\",\"against\",\"go\",\"DGDGDG\",\"came\",\"right\",\"used\",\"take\",\"three\",\"states\",\"himself\",\"few\",\"use\",\"house\",\"during\",\"without\",\"again\",\"place\",\"american\",\"around\",\"however\",\"home\",\"small\",\"found\",\"mrs.\",\"thought\",\"went\",\"say\",\"part\",\"once\",\"general\",\"high\",\"upon\",\"school\",\"every\",\"don't\",\"does\",\"got\",\"united\",\"left\",\"number\",\"course\",\"war\",\"until\",\"always\",\"away\",\"something\",\"fact\",\"water\",\"though\",\"public\",\"put\",\"less\",\"think\",\"almost\",\"hand\",\"enough\",\"took\",\"far\",\"head\",\"yet\",\"government\",\"system\",\"set\",\"better\",\"told\",\"night\",\"nothing\",\"end\",\"why\",\"didn't\",\"eyes\",\"called\",\"find\",\"look\",\"going\",\"asked\",\"later\",\"point\",\"knew\",\"next\",\"program\",\"city\",\"business\",\"group\",\"give\",\"toward\",\"young\",\"room\",\"days\",\"let\",\"president\",\"side\",\"social\",\"several\",\"given\",\"present\",\"order\",\"national\",\"possible\",\"rather\",\"second\",\"per\",\"face\",\"among\",\"form\",\"important\",\"often\",\"things\",\"looked\",\"early\",\"white\",\"john\",\"case\",\"large\",\"four\",\"need\",\"big\",\"become\",\"within\",\"felt\",\"along\",\"children\",\"saw\",\"best\",\"church\",\"ever\",\"least\",\"power\",\"development\",\"seemed\",\"thing\",\"light\",\"family\",\"interest\",\"want\",\"mind\",\"members\",\"country\",\"area\",\"others\",\"although\",\"turned\",\"done\",\"open\",\"'\",\"god\",\"service\",\"problem\",\"kind\",\"certain\",\"door\",\"different\",\"thus\",\"began\",\"sense\",\"help\",\"means\",\"whole\",\"matter\",\"perhaps\",\"itself\",\"it's\",\"york\",\"times\",\"law\",\"human\",\"line\",\"above\",\"name\",\"example\",\"action\",\"company\",\"hands\",\"local\",\"show\",\"history\",\"whether\",\"five\",\"gave\",\"today\",\"either\",\"feet\",\"act\",\"across\",\"past\",\"taken\",\"quite\",\"anything\",\"having\",\"seen\",\"death\",\"experience\",\"body\",\"week\",\"half\",\"really\",\"field\",\"car\",\"word\",\"words\",\"already\",\"themselves\",\"i'm\",\"information\",\"tell\",\"shall\",\"together\",\"college\",\"period\",\"money\",\"keep\",\"held\",\"sure\",\"probably\",\"seems\",\"free\",\"real\",\"behind\",\"cannot\",\"political\",\"question\",\"air\",\"making\",\"office\",\"brought\",\"miss\",\"whose\",\"special\",\"heard\",\"problems\",\"major\",\"study\",\"moment\",\"federal\",\"ago\",\"became\",\"available\",\"known\",\"street\",\"result\",\"economic\",\"boy\",\"reason\",\"position\",\"change\",\"south\",\"individual\",\"board\",\"job\",\"am\",\"society\",\"areas\",\"west\",\"close\",\"turn\",\"love\",\"community\",\"true\",\"full\",\"court\",\"force\",\"cost\",\"seem\",\"wife\",\"future\",\"age\",\"voice\",\"wanted\",\"department\",\"center\",\"woman\",\"common\",\"control\",\"necessary\",\"policy\",\"following\",\"sometimes\",\"front\",\"six\",\"girl\",\"clear\",\"land\",\"further\",\"music\",\"provide\",\"party\",\"mother\",\"feel\",\"able\",\"university\",\"education\",\"level\",\"child\",\"students\",\"effect\",\"short\",\"military\",\"run\",\"stood\",\"town\",\"total\",\"morning\",\"outside\",\"figure\",\"rate\",\"art\",\"century\",\"class\",\"usually\",\"washington\",\"north\",\"therefore\",\"plan\",\"leave\",\"sound\",\"million\",\"evidence\",\"top\",\"black\",\"strong\",\"hard\",\"various\",\"tax\",\"surface\",\"play\",\"type\",\"value\",\"believe\",\"says\",\"soon\",\"mean\",\"peace\",\"near\",\"modern\",\"lines\",\"table\",\"red\",\"road\",\"book\",\"situation\",\"process\",\"personal\",\"minutes\",\"nor\",\"gone\",\"idea\",\"schools\",\"increase\",\"alone\",\"women\",\"english\",\"america\",\"started\",\"living\",\"longer\",\"cut\",\"dr.\",\"nature\",\"secretary\",\"private\",\"finally\",\"third\",\"section\",\"months\",\"call\",\"greater\",\"needed\",\"fire\",\"that's\",\"expected\",\"ground\",\"values\",\"kept\",\"view\",\"pressure\",\"dark\",\"everything\",\"basis\",\"space\",\"father\",\"east\",\"union\",\"spirit\",\"required\",\"complete\",\"wrote\",\"moved\",\"except\",\"i'll\",\"support\",\"conditions\",\"return\",\"recent\",\"late\",\"attention\",\"particular\",\"hope\",\"live\",\"costs\",\"else\",\"brown\",\"couldn't\",\"stage\",\"taking\",\"nations\",\"forces\",\"beyond\",\"coming\",\"person\",\"hours\",\"read\",\"inside\",\"report\",\"material\",\"dead\",\"lost\",\"miles\",\"data\",\"looking\",\"heart\",\"low\",\"instead\",\"feeling\",\"followed\",\"makes\",\"single\",\"amount\",\"added\",\"pay\",\"research\",\"hundred\",\"basic\",\"industry\",\"cold\",\"move\",\"simply\",\"including\",\"developed\",\"tried\",\"can't\",\"reached\",\"hold\",\"committee\",\"equipment\",\"defense\",\"island\",\"shown\",\"actually\",\"religious\",\"central\",\"son\",\"river\",\"beginning\",\"ten\",\"sort\",\"st.\",\"getting\",\"trying\",\"&\",\"rest\",\"terms\",\"doing\",\"received\",\"u.s.\",\"picture\",\"indeed\",\"medical\",\"care\",\"friends\",\"especially\",\"difficult\",\"subject\",\"fine\",\"administration\",\"higher\",\"wall\",\"simple\",\"building\",\"walked\",\"meeting\",\"foreign\",\"bring\",\"floor\",\"paper\",\"similar\",\"range\",\"passed\",\"natural\",\"property\",\"training\",\"final\",\"cent\",\"international\",\"police\",\"county\",\"growth\",\"market\",\"start\",\"written\",\"wasn't\",\"talk\",\"england\",\"story\",\"hear\",\"suddenly\",\"needs\",\"congress\",\"hall\",\"issue\",\"answer\",\"working\",\"you're\",\"likely\",\"countries\",\"considered\",\"sat\",\"earth\",\"entire\",\"results\",\"purpose\",\"meet\",\"happened\",\"labor\",\"production\",\"hair\",\"cases\",\"difference\",\"stand\",\"william\",\"food\",\"fall\",\"involved\",\"stock\",\"earlier\",\"increased\",\"particularly\",\"whom\",\"hour\",\"knowledge\",\"letter\",\"sent\",\"effort\",\"paid\",\"using\",\"below\",\"club\",\"thinking\",\"yes\",\"christian\",\"deal\",\"blue\",\"points\",\"bill\",\"square\",\"certainly\",\"ready\",\"boys\",\"ideas\",\"trade\",\"industrial\",\"methods\",\"addition\",\"girls\",\"due\",\"method\",\"moral\",\"bad\",\"neither\",\"reading\",\"throughout\",\"showed\",\"directly\",\"weeks\",\"decided\",\"nearly\",\"statement\",\"questions\",\"try\",\"according\",\"color\",\"anyone\",\"kennedy\",\"programs\",\"services\",\"DG.DG\",\"nation\",\"lay\",\"french\",\"physical\",\"remember\",\"size\",\"strength\",\"comes\",\"understand\",\"western\",\"record\",\"southern\",\"member\",\"population\",\"normal\",\"merely\",\"volume\",\"appeared\",\"temperature\",\"district\",\"concerned\",\"direction\",\"trial\",\"aid\",\"summer\",\"trouble\",\"ran\",\"evening\",\"list\",\"friend\",\"sales\",\"maybe\",\"literature\",\"continued\",\"met\",\"influence\",\"led\",\"association\",\"provided\",\"army\",\"generally\",\"former\",\"science\",\"opened\",\"husband\",\"step\",\"student\",\"chance\",\"changes\",\"month\",\"works\",\"series\",\"average\",\"cause\",\"hot\",\"wrong\",\"systems\",\"wouldn't\",\"direct\",\"effective\",\"theory\",\"planning\",\"stopped\",\"soviet\",\"myself\",\"piece\",\"george\",\"lead\",\"ask\",\"clearly\",\"worked\",\"freedom\",\"movement\",\"organization\",\"ways\",\"meaning\",\"fear\",\"press\",\"beautiful\",\"treatment\",\"bed\",\"spring\",\"forms\",\"lot\",\"note\",\"consider\",\"somewhat\",\"efforts\",\"placed\",\"truth\",\"hotel\",\"numbers\",\"degree\",\"carried\",\"herself\",\"groups\",\"respect\",\"apparently\",\"man's\",\"plant\",\"he's\",\"wide\",\"i've\",\"farm\",\"manner\",\"easy\",\"$DGDGDG\",\"reaction\",\"larger\",\"recently\",\"lower\",\"game\",\"immediately\",\"approach\",\"running\",\"couple\",\"performance\",\"de\",\"oh\",\"eye\",\"charge\",\"feed\",\"daily\",\"march\",\"blood\",\"understanding\",\"opportunity\",\"persons\",\"arms\",\"c\",\"additional\",\"described\",\"stop\",\"j.\",\"technical\",\"fiscal\",\"radio\",\"progress\",\"test\",\"decision\",\"steps\",\"image\",\"determined\",\"window\",\"based\",\"served\",\"reported\",\"religion\",\"main\",\"chief\",\"gun\",\"aj\",\"middle\",\"british\",\"character\",\"responsibility\",\"europe\",\"learned\",\"horse\",\"s.\",\"appear\",\"account\",\"writing\",\"length\",\"green\",\"activity\",\"types\",\"serious\",\"ones\",\"nuclear\",\"letters\",\"obtained\",\"lived\",\"audience\",\"forward\",\"specific\",\"returned\",\"slowly\",\"corner\",\"activities\",\"justice\",\"obviously\",\"doubt\",\"design\",\"straight\",\"latter\",\"gives\",\"plane\",\"quality\",\"hit\",\"moving\",\"saying\",\"choice\",\"operation\",\"born\",\"pattern\",\"poor\",\"stay\",\"seven\",\"include\",\"a.\",\"figures\",\"function\",\"shot\",\"staff\",\"parts\",\"plans\",\"sun\",\"cars\",\"whatever\",\"pool\",\"DG:DGDG\",\"faith\",\"extent\",\"corps\",\"heavy\",\"hospital\",\"ball\",\"wish\",\"standard\",\"completely\",\"speak\",\"lack\",\"waiting\",\"visit\",\"firm\",\"ahead\",\"there's\",\"language\",\"income\",\"principle\",\"deep\",\"democratic\",\"effects\",\"indicated\",\"established\",\"products\",\"growing\",\"designed\",\"none\",\"price\",\"distance\",\"expect\",\"importance\",\"analysis\",\"pretty\",\"existence\",\"leaders\",\"serve\",\"attitude\",\"continue\",\"division\",\"stress\",\"cities\",\"elements\",\"easily\",\"negro\"],\"text_color\":[\"blue\",\"black\",\"black\",\"black\",\"black\",\"black\",\"black\",\"black\",\"black\",\"black\",\"black\",\"black\",\"black\",\"black\",\"black\",\"black\",\"black\",\"black\",\"black\",\"black\",\"black\",\"black\",\"black\",\"black\",\"black\",\"black\",\"black\",\"black\",\"black\",\"black\",\"black\",\"black\",\"black\",\"black\",\"black\",\"black\",\"black\",\"black\",\"black\",\"black\",\"black\",\"black\",\"black\",\"black\",\"black\",\"black\",\"black\",\"black\",\"black\",\"black\",\"black\",\"black\",\"black\",\"black\",\"black\",\"black\",\"black\",\"black\",\"black\",\"black\",\"black\",\"black\",\"black\",\"black\",\"black\",\"black\",\"black\",\"black\",\"black\",\"black\",\"black\",\"black\",\"black\",\"black\",\"black\",\"black\",\"black\",\"black\",\"black\",\"black\",\"black\",\"black\",\"black\",\"black\",\"black\",\"black\",\"black\",\"black\",\"black\",\"black\",\"black\",\"black\",\"black\",\"black\",\"black\",\"black\",\"black\",\"black\",\"black\",\"black\",\"black\",\"black\",\"black\",\"black\",\"black\",\"black\",\"black\",\"black\",\"black\",\"black\",\"black\",\"black\",\"black\",\"black\",\"black\",\"black\",\"black\",\"black\",\"black\",\"black\",\"black\",\"black\",\"black\",\"black\",\"black\",\"black\",\"black\",\"black\",\"black\",\"black\",\"black\",\"black\",\"black\",\"black\",\"black\",\"black\",\"black\",\"black\",\"black\",\"black\",\"black\",\"black\",\"black\",\"black\",\"black\",\"black\",\"black\",\"black\",\"black\",\"black\",\"black\",\"black\",\"black\",\"black\",\"black\",\"black\",\"black\",\"black\",\"black\",\"black\",\"black\",\"black\",\"black\",\"black\",\"black\",\"black\",\"black\",\"black\",\"black\",\"black\",\"black\",\"black\",\"black\",\"black\",\"black\",\"black\",\"black\",\"black\",\"black\",\"black\",\"black\",\"black\",\"black\",\"black\",\"black\",\"black\",\"black\",\"black\",\"black\",\"black\",\"black\",\"black\",\"black\",\"black\",\"black\",\"black\",\"black\",\"black\",\"black\",\"black\",\"black\",\"black\",\"black\",\"black\",\"black\",\"black\",\"black\",\"black\",\"black\",\"black\",\"black\",\"black\",\"black\",\"black\",\"black\",\"black\",\"black\",\"black\",\"black\",\"black\",\"black\",\"black\",\"black\",\"black\",\"black\",\"black\",\"black\",\"black\",\"black\",\"black\",\"black\",\"black\",\"black\",\"black\",\"black\",\"black\",\"black\",\"black\",\"black\",\"black\",\"black\",\"black\",\"black\",\"black\",\"black\",\"black\",\"black\",\"black\",\"black\",\"black\",\"black\",\"black\",\"black\",\"black\",\"black\",\"black\",\"black\",\"black\",\"black\",\"black\",\"black\",\"black\",\"black\",\"black\",\"black\",\"black\",\"black\",\"black\",\"black\",\"black\",\"black\",\"black\",\"black\",\"black\",\"black\",\"black\",\"black\",\"black\",\"black\",\"black\",\"black\",\"black\",\"black\",\"black\",\"black\",\"black\",\"black\",\"black\",\"black\",\"black\",\"black\",\"black\",\"black\",\"black\",\"black\",\"black\",\"black\",\"black\",\"black\",\"black\",\"black\",\"black\",\"black\",\"black\",\"black\",\"black\",\"black\",\"black\",\"black\",\"black\",\"black\",\"black\",\"black\",\"black\",\"black\",\"black\",\"black\",\"black\",\"black\",\"black\",\"black\",\"black\",\"black\",\"black\",\"black\",\"black\",\"black\",\"black\",\"black\",\"black\",\"black\",\"black\",\"black\",\"black\",\"black\",\"black\",\"black\",\"black\",\"black\",\"black\",\"black\",\"black\",\"black\",\"black\",\"black\",\"black\",\"black\",\"black\",\"black\",\"black\",\"black\",\"black\",\"black\",\"black\",\"black\",\"black\",\"black\",\"black\",\"black\",\"black\",\"black\",\"black\",\"black\",\"black\",\"black\",\"black\",\"black\",\"black\",\"black\",\"black\",\"black\",\"black\",\"black\",\"black\",\"black\",\"black\",\"black\",\"black\",\"black\",\"black\",\"black\",\"black\",\"black\",\"black\",\"black\",\"black\",\"black\",\"black\",\"black\",\"black\",\"black\",\"black\",\"black\",\"black\",\"black\",\"black\",\"black\",\"black\",\"black\",\"black\",\"black\",\"black\",\"black\",\"black\",\"black\",\"black\",\"black\",\"black\",\"black\",\"black\",\"black\",\"black\",\"black\",\"black\",\"black\",\"black\",\"black\",\"black\",\"black\",\"black\",\"black\",\"black\",\"black\",\"black\",\"black\",\"black\",\"black\",\"black\",\"black\",\"black\",\"black\",\"black\",\"black\",\"black\",\"black\",\"black\",\"black\",\"black\",\"black\",\"black\",\"black\",\"black\",\"black\",\"black\",\"black\",\"black\",\"black\",\"black\",\"black\",\"black\",\"black\",\"black\",\"black\",\"black\",\"black\",\"black\",\"black\",\"black\",\"black\",\"black\",\"black\",\"black\",\"black\",\"black\",\"black\",\"black\",\"black\",\"black\",\"black\",\"black\",\"black\",\"black\",\"black\",\"black\",\"black\",\"black\",\"black\",\"black\",\"black\",\"black\",\"black\",\"black\",\"black\",\"black\",\"black\",\"black\",\"black\",\"black\",\"black\",\"black\",\"black\",\"black\",\"black\",\"black\",\"black\",\"black\",\"black\",\"black\",\"black\",\"black\",\"black\",\"black\",\"black\",\"black\",\"black\",\"black\",\"black\",\"black\",\"black\",\"black\",\"black\",\"black\",\"black\",\"black\",\"black\",\"black\",\"black\",\"black\",\"black\",\"black\",\"black\",\"black\",\"black\",\"black\",\"black\",\"black\",\"black\",\"black\",\"black\",\"black\",\"black\",\"black\",\"black\",\"black\",\"black\",\"black\",\"black\",\"black\",\"black\",\"black\",\"black\",\"black\",\"black\",\"black\",\"black\",\"black\",\"black\",\"black\",\"black\",\"black\",\"black\",\"black\",\"black\",\"black\",\"black\",\"black\",\"black\",\"black\",\"black\",\"black\",\"black\",\"black\",\"black\",\"black\",\"black\",\"black\",\"black\",\"black\",\"black\",\"black\",\"black\",\"black\",\"black\",\"black\",\"black\",\"black\",\"black\",\"black\",\"black\",\"black\",\"black\",\"black\",\"black\",\"black\",\"black\",\"black\",\"black\",\"black\",\"black\",\"black\",\"black\",\"black\",\"black\",\"black\",\"black\",\"black\",\"black\",\"black\",\"black\",\"black\",\"black\",\"black\",\"black\",\"black\",\"black\",\"black\",\"black\",\"black\",\"black\",\"black\",\"black\",\"black\",\"black\",\"black\",\"black\",\"black\",\"black\",\"black\",\"black\",\"black\",\"black\",\"black\",\"black\",\"black\",\"black\",\"black\",\"black\",\"black\",\"black\",\"black\",\"black\",\"black\",\"black\",\"black\",\"black\",\"black\",\"black\",\"black\",\"black\",\"black\",\"black\",\"black\",\"black\",\"black\",\"black\",\"black\",\"black\",\"black\",\"black\",\"black\",\"black\",\"black\",\"black\",\"black\",\"black\",\"black\",\"black\",\"black\",\"black\",\"red\",\"black\",\"black\",\"black\",\"black\",\"black\",\"black\",\"black\",\"black\",\"black\",\"black\",\"black\",\"black\",\"black\",\"black\",\"black\",\"black\",\"black\",\"black\",\"black\",\"black\",\"black\",\"black\",\"black\",\"black\",\"black\",\"black\",\"black\",\"black\",\"black\",\"black\",\"black\",\"black\",\"black\",\"black\",\"black\",\"black\",\"black\",\"black\",\"black\",\"black\",\"black\",\"black\",\"black\",\"black\",\"black\",\"black\",\"black\",\"black\",\"black\",\"black\",\"black\",\"black\",\"black\",\"black\",\"black\",\"black\",\"black\",\"black\",\"black\",\"black\",\"black\",\"black\",\"black\",\"black\",\"black\",\"black\",\"black\",\"black\",\"black\",\"black\",\"black\",\"black\",\"black\",\"black\",\"black\",\"black\",\"black\",\"black\",\"black\",\"black\",\"black\",\"black\",\"black\",\"black\",\"black\",\"black\",\"black\",\"black\",\"black\",\"black\",\"black\",\"black\",\"black\",\"black\",\"black\",\"black\",\"black\",\"black\",\"black\",\"black\",\"black\",\"black\",\"black\",\"black\",\"black\",\"black\",\"black\",\"black\",\"black\",\"black\",\"black\",\"black\",\"black\",\"black\",\"black\",\"black\",\"black\",\"black\",\"black\",\"black\",\"black\",\"black\",\"black\",\"black\",\"black\",\"black\",\"black\",\"black\",\"black\",\"black\",\"black\",\"black\",\"black\",\"black\",\"black\",\"black\",\"black\",\"black\",\"black\",\"black\",\"black\",\"black\",\"black\",\"black\",\"black\",\"black\",\"red\",\"black\",\"black\",\"black\",\"black\",\"black\",\"black\",\"black\",\"black\",\"black\",\"black\",\"black\",\"black\",\"black\",\"black\",\"black\",\"black\",\"black\",\"black\",\"black\",\"black\",\"black\",\"black\",\"black\",\"black\",\"black\",\"black\",\"black\",\"black\",\"black\",\"black\",\"black\",\"black\",\"black\",\"black\",\"black\",\"black\",\"black\",\"black\",\"black\",\"black\",\"black\",\"black\",\"black\",\"black\",\"black\",\"black\",\"black\",\"black\",\"black\",\"black\",\"black\",\"black\",\"black\",\"black\",\"black\",\"black\",\"black\",\"black\",\"black\",\"black\",\"black\",\"black\",\"black\",\"black\",\"black\",\"black\",\"black\",\"black\",\"black\",\"black\",\"black\",\"black\",\"black\",\"black\",\"black\",\"black\",\"black\",\"black\",\"black\",\"black\",\"black\",\"black\",\"black\",\"black\",\"black\",\"black\",\"black\",\"black\",\"black\",\"black\",\"black\",\"black\",\"black\",\"black\",\"black\",\"black\",\"black\",\"black\",\"black\",\"black\",\"black\",\"black\",\"black\",\"black\",\"black\",\"black\",\"black\",\"black\",\"black\",\"black\",\"black\",\"black\",\"black\",\"black\",\"black\",\"black\",\"black\",\"black\",\"black\",\"black\",\"black\",\"black\",\"black\",\"black\",\"black\",\"black\",\"black\",\"black\",\"black\",\"black\",\"black\",\"black\",\"black\",\"black\",\"black\",\"black\",\"black\",\"black\",\"black\",\"black\",\"black\",\"black\",\"black\",\"black\",\"black\",\"black\",\"black\",\"black\",\"black\",\"black\",\"black\",\"black\",\"black\",\"black\",\"black\",\"black\",\"black\",\"black\",\"black\",\"black\",\"black\",\"black\",\"black\",\"black\",\"black\",\"black\",\"black\",\"black\",\"black\",\"black\",\"black\",\"black\",\"black\",\"black\",\"black\",\"black\",\"black\",\"black\",\"black\",\"black\",\"black\",\"black\",\"black\",\"black\",\"black\",\"black\",\"black\",\"black\",\"black\",\"black\",\"black\",\"black\",\"black\"],\"x\":[0.6182948886899708,0.5432820377385044,0.6244114959030659,0.60992701871622,0.5976795207401245,0.5521704451288957,0.5926270687452383,0.6595406033268835,0.6222800930910448,0.5634429063602904,0.5522196033140957,0.4813545239410055,0.5945733518464816,0.466587862682091,0.44386723841128706,0.621024194665448,0.5273535986048591,0.6093821881852083,0.4739334113747999,0.5338044062304365,0.4724004025232883,0.5350514022089234,0.46790459522288086,0.4757247619094468,0.5125495319792928,0.5593572889894157,0.4778853382065525,0.46759545540782393,0.5858205056778346,0.5080068851190098,0.5870628075739638,0.46516788107333734,0.4765185977270903,0.5462772509047263,0.3963829301150868,0.6123573516456143,0.5334826722823021,0.5397209336479154,0.6072878962253269,0.5042464613713071,0.48915032739371717,0.4593024107313624,0.5850786106233113,0.4782279696633441,0.6909673652618774,0.5330471009760447,0.4356842365083547,0.5945936548241758,0.4814718546272756,0.431766429421048,0.4074684139141452,0.45847309723819746,0.3593430037905035,0.5489893799601493,0.4361343742849603,0.5020069031230187,0.4580745375722182,0.6192760557903987,0.5272840326452181,0.48212323054967704,0.3747867563988277,0.5479116114744004,0.29470651593458963,0.4626386840138962,0.34323149403973446,0.5652268307134627,0.455371322963572,0.38594926204575153,0.47115029751915133,0.4311169413469551,0.35964236501308355,0.4152896121093428,0.552988674855155,0.4788296930372884,0.5567371666527337,0.4928452752794033,0.4836214017550124,0.49321516779924446,0.4908536427744363,0.6387647238582556,0.4180738877234443,0.44213076722040473,0.4509341557931855,0.522246345103623,0.4980772398489337,0.5773615811409617,0.546775690348136,0.4975968628667991,0.44487001336747545,0.609830530599513,0.40295064907155365,0.45709996057278796,0.41281832263240087,0.39852379142745326,0.5550784722391404,0.508314040184223,0.5541193445609424,0.3865993288858159,0.5229234951509171,0.48736528515014277,0.4186464285840204,0.49200485082703876,0.4584531790079132,0.47869061493579335,0.4959153783021799,0.3452936899430732,0.3414960812295014,0.4432409492735344,0.40253649479847253,0.5606956680831351,0.4643710649976615,0.42838384693175297,0.6067228415432406,0.602611063629113,0.37522855654987,0.5319011533944477,0.5357682092057977,0.41537448671304045,0.5806376758284129,0.5075446609686445,0.6049339068018238,0.3644306035842767,0.5182515932032331,0.5116689938246579,0.5300948949732632,0.44926738826165014,0.5770265545867022,0.5096043998789878,0.5233091089623024,0.608023147879616,0.5103465749612266,0.5537804913420559,0.5170430984126875,0.5383876791400678,0.6150348755572959,0.5285107956698387,0.6614067372884113,0.5012104380184564,0.2999795864209781,0.42352532865310266,0.5493846761685456,0.4251468904259713,0.35491656054872023,0.5380247457194601,0.5178544151848655,0.5546360837577331,0.5284517634883272,0.4880152359942915,0.4274345657965925,0.43076226239216875,0.5691529638605454,0.5511475855674716,0.4586810197628196,0.4448042150676476,0.4817005710533153,0.3944759952662827,0.609758248764313,0.4331301786950677,0.2850211061980232,0.5536926391030967,0.36083382461115415,0.5000960248030776,0.6100446310356474,0.48319546320844703,0.5337108066052445,0.4196953198396916,0.5016375728386063,0.4677965485650784,0.47495356889308527,0.5222261406115584,0.532090425503212,0.4180450855024337,0.33924115182761366,0.5184852570252884,0.6198338677382842,0.4256296943943655,0.4314011152009582,0.5902215856312232,0.5649324332726351,0.40413861194519596,0.5197754236864365,0.2839554673285858,0.5163383273224248,0.48754858163265835,0.5286738592616254,0.5708093961683954,0.5877785972125414,0.4508970016676746,0.3916128634035863,0.31722387789848105,0.45917914866313975,0.42142020124306356,0.44223612606472557,0.4755352527132536,0.5087176925379344,0.431425477279148,0.6049549132707467,0.44750010128934087,0.7216270197612584,0.5317376029742944,0.4299215492183447,0.6172115270558602,0.42800892062278995,0.5318630583408458,0.6240908138592182,0.43371922470035795,0.6512603073420646,0.523425207342852,0.5763443198297872,0.44955812180020716,0.46918110684576975,0.4993896417464635,0.5326870681013454,0.5003076462964927,0.47977978249941156,0.5575814802385779,0.44090216551360645,0.6277366579467218,0.5261935845277713,0.41552607402506253,0.5665028703267683,0.595249616035502,0.36417637585154733,0.4371671719055969,0.5655345166906679,0.612169122622939,0.5191998113447615,0.45532103422633935,0.42694922464279506,0.540468383109172,0.5351685912027401,0.5725487323278314,0.5165428452349439,0.3846103335249759,0.47913367243709387,0.521283587879492,0.43795598264359936,0.4672164081567041,0.42472874603713323,0.4910369970736205,0.5203709656521652,0.5229673223712548,0.5384570420564051,0.32491660869435063,0.39936951749300703,0.5225883144539859,0.43061194479551823,0.5220785402394481,0.45444769066083845,0.5064974004842006,0.4088451248501245,0.3851136943843959,0.5656821243963712,0.560611958336895,0.5129029567842225,0.39904400125213635,0.577084007163624,0.45632240198238394,0.45980296648995883,0.2687531163390415,0.4604723400190862,0.422808783187055,0.5369176737382687,0.5269321724216847,0.5168465259354338,0.6022795203822021,0.43787761567363387,0.40984582384680174,0.39229746436914226,0.35553642024591847,0.5827015361278639,0.40791153688271026,0.41269399115310806,0.6033028437098757,0.4945896355351925,0.4378027124146616,0.4216198542907133,0.5320537655758217,0.44003929292773064,0.5208005408137308,0.5097346809268403,0.6067187327281693,0.5597805602235152,0.5217967701360204,0.5472315305203369,0.4512130171394779,0.44197482183365405,0.5809200662912131,0.5532506507874718,0.5101746187694025,0.548361832168473,0.5471016203853623,0.4925716590606994,0.5912355972673851,0.5356391086661654,0.6006621194452885,0.4788218603887107,0.6404036673909007,0.5737840775927322,0.46959424904154995,0.5877508572186824,0.5209781431323173,0.48151687395149645,0.5227619743160746,0.41953217873584625,0.5078117109095132,0.5736501919219635,0.4364057797365148,0.4105293402711493,0.43765596063955925,0.5099882115066717,0.39111438027052436,0.5202858202459985,0.5682427190147451,0.5343487345472602,0.547888275841539,0.6488629793452232,0.6861758577552649,0.49430337918133244,0.5000790517977202,0.4231168376799027,0.5199238763618398,0.5087357446927878,0.4365678288912599,0.5293362313484969,0.44436705485382666,0.5339404492689025,0.5655459026519476,0.5579746898820601,0.4622993785680405,0.49793610372496944,0.42283930675540793,0.5962562702207128,0.48644963929983537,0.5089316326307541,0.4051707795779277,0.4950138872337497,0.6027306589711937,0.5780357380946579,0.37805595377712975,0.547956697957098,0.3037114837603424,0.48401665185286763,0.5805894451030047,0.5161104865062882,0.5318829282835235,0.478786481570537,0.5524868845627962,0.5404107840119586,0.532640947934709,0.5213228442233858,0.4725144141365755,0.5466796052429879,0.5428018082766216,0.5291545730544085,0.5257582448432692,0.5834625798604476,0.6070394133036906,0.5416127545324891,0.5461517164578684,0.430285486926293,0.4763960048045782,0.4273757456507899,0.47089874061644,0.5241972276951636,0.46434851118492354,0.47178211134742215,0.5381365664949497,0.5249847249040648,0.5338281250143581,0.48027471179599507,0.6193272433203867,0.5444819167827211,0.5214221390528737,0.5675114105832858,0.4539456834178297,0.4575677209093202,0.4071121504568739,0.5556075274203834,0.41665786165793434,0.4253498451307845,0.4879570849980111,0.551499793918082,0.4618571042193614,0.35444288311646877,0.45524857505926747,0.5073582532029526,0.45699029503663446,0.45658439337739487,0.4637720462570396,0.5826377887078622,0.39422144072633075,0.3440832142379917,0.41352830590703293,0.49626505844056973,0.6121124834779174,0.4000062802214312,0.5804701079329327,0.41275626334834575,0.5028797767243578,0.5515141009896999,0.5289005590782017,0.5528938645807981,0.4053293979872824,0.5101882689895082,0.4432570984018948,0.5895587649161816,0.4615324760248439,0.5234600607629176,0.45826380791056226,0.4150461842839987,0.5495568110752435,0.5989741900955108,0.5747522832026942,0.49445762576550784,0.631079925251273,0.5173480722232782,0.4570840664321739,0.4905199281281193,0.427243610353732,0.5556099099667721,0.5213520673392822,0.522448407643216,0.4842545968277741,0.45210992106081743,0.49618545740340775,0.45513708075221565,0.5233850245811866,0.5100578412166653,0.5144233714086272,0.5600434718075924,0.48357442198434725,0.47888383473459706,0.4231513137166422,0.5807194429197716,0.45089783494482133,0.42742777724194214,0.503190614590752,0.5738269932350001,0.549844152408794,0.5066667375405045,0.4987470698191248,0.45695995396930117,0.50826871176248,0.5369254080341446,0.5477935217052755,0.4133447575805759,0.36956157969608716,0.47624805661419645,0.47282430991788105,0.5500102307769416,0.5052637990376118,0.5366796467640199,0.526601739143891,0.42797035281485607,0.5499612578013602,0.47934002624915917,0.5075834637559115,0.39171230675831514,0.3996465667196827,0.4980212375672434,0.5193514358509526,0.38598294759528085,0.4926647860271414,0.35696548032999076,0.5338846811687941,0.5444806747106613,0.4899880323995292,0.39239215737062033,0.6053810549796017,0.5376315553332431,0.5415236434317015,0.5389876076633835,0.3310691188689115,0.5478317225486878,0.48854680941713363,0.3631653415655434,0.5126656005162037,0.5195032084840098,0.3473056772707868,0.3622862913269349,0.47731801680740576,0.5548834678716159,0.5346204911638198,0.5002757166160635,0.545162242871131,0.4350223669963813,0.5711670633493161,0.5882236175933331,0.514047588501009,0.37194851205066176,0.4640827632237565,0.5147692645232634,0.5110167349970094,0.3941209939593268,0.44444132504030076,0.5673055203368531,0.5545458201948511,0.4301883335156911,0.42682766917396314,0.40328891296498826,0.4445181273269632,0.5352175361959802,0.5896251232838126,0.46306588366317153,0.39440521621162933,0.6132725661427644,0.5666737881161364,0.4482898673970407,0.5675428231059297,0.5265079368476717,0.5732026625499786,0.5860519916592075,0.4468527540453993,0.25877154718839507,0.5533539316640412,0.4366123497895723,0.4694705231312676,0.5327562349693719,0.4510645056414034,0.4617568836997633,0.4149283439378317,0.539505150510431,0.40622406012056417,0.5446837189096604,0.5583343080289008,0.4936818325900764,0.5537764461579446,0.5487654276535678,0.4949179239253626,0.5193377339567825,0.5960305158468489,0.48595352705431616,0.4272400506840257,0.5374506958990128,0.49933800236078607,0.4553748437524914,0.5166853890473295,0.37481832898306067,0.5181460271657488,0.5484191692605511,0.4798275047344278,0.44188138478750966,0.39820571968904517,0.47124274404513555,0.605973253844488,0.43015039317769715,0.5180688617510766,0.45063335274095384,0.55436896768772,0.469099287982778,0.3804977735229782,0.534706159115246,0.5322865023912479,0.5699858897301256,0.5905323540129445,0.4148165258467264,0.4851455838085592,0.35086245979743763,0.44080207723547954,0.5667750273029236,0.5127660480404653,0.48257271273489066,0.43343563610865504,0.44558002484788856,0.5465366088464332,0.5618308625956755,0.42228159270763754,0.5910597523922687,0.5212510163324658,0.5439576432596106,0.4935716100933021,0.5717485442117907,0.5929248346917441,0.32315740873852644,0.40959389445327987,0.5330804313984155,0.5541333944352904,0.3564540236784416,0.4870467196743649,0.5559485856611949,0.5252836981636485,0.5247308092025292,0.45341467554216086,0.39184424962475295,0.5565694298870276,0.499952880477513,0.4433403481787137,0.2950179600807071,0.4293319771191848,0.5177526749040205,0.40674055953457694,0.515431926463972,0.6002676486478769,0.3918152428288592,0.5571705905554842,0.4723837638981859,0.3977871996707665,0.5395853728544671,0.5566111004043087,0.42495528532486027,0.3582942827624689,0.4563897933845823,0.4011098062803641,0.48684462707103426,0.6480861540431019,0.4690848762961641,0.4424243099822172,0.44690663646022,0.40436130784411156,0.5542566887764474,0.3845440412946449,0.565576335978136,0.4087969822485499,0.5412955330533455,0.4265824259221193,0.3037726460647437,0.6283284705911717,0.5642116418777878,0.590885520605145,0.49186045996588107,0.4222283329173141,0.5752152516571417,0.6354846575454318,0.3765246937072141,0.5245006793201648,0.5544278766869908,0.5644053087368897,0.4598034800911863,0.5943068702434101,0.508316018548709,0.5170950804769093,0.3720927565732547,0.4535403864060719,0.486241320044682,0.4617198407264667,0.3918698565038375,0.5027787681156869,0.4519477279236618,0.4904185326210443,0.4794469287460438,0.5251983063541757,0.45564857812043125,0.46925183266421744,0.5304442323230817,0.5412180536608011,0.5040281828378542,0.45870322577294637,0.46755550797782164,0.3000670613643541,0.4019849679706395,0.46962290104984644,0.3835777629438082,0.46812307448073276,0.5165553331630373,0.5979477743925222,0.5477434479923251,0.5229133957797454,0.5047033458165878,0.4597957593647651,0.526009428104554,0.5241712516403013,0.47585446543304216,0.478595073243966,0.551036675492853,0.48055470249684296,0.536199017464926,0.5926625059859909,0.6004900930276743,0.4402844621855328,0.5022160519486909,0.4846631248300351,0.6247318450696542,0.437764163224221,0.5459075354595128,0.46920504017394954,0.5081381006094688,0.5212726090009095,0.5301957615025663,0.5215426991066653,0.4575306361116088,0.4339847999407681,0.37870384239567695,0.49132144242465453,0.43773400986819816,0.6055318175992601,0.27492135343776375,0.48651128345671946,0.5384624212832937,0.512256360492998,0.4296621095812984,0.49670491885863327,0.39017525222949884,0.5595332161359002,0.5562747718043213,0.45563756488284507,0.5011914278428228,0.497741858349703,0.5127960383332677,0.47287004838396396,0.495592307593246,0.4619898514648903,0.4254658215031177,0.4097956350850539,0.6141009772599261,0.4257121412387127,0.4535616583060638,0.6167425156032728,0.37438964032470146,0.4848325869336608,0.5225879279001097,0.4936149656841638,0.6298885556745447,0.5437066040996964,0.5429791391170002,0.5564179637511689,0.4675912090184265,0.39443751607971317,0.42362163030702693,0.554668440173903,0.5031509973168834,0.491825752067828,0.45264701173713784,0.449990566529666,0.5848216404453187,0.4977696182422129,0.5172244037354374,0.4211551068995091,0.4788117119723658,0.5413533731411618,0.4212430560621871,0.5033408224483708,0.4833350681195779,0.5228992891664669,0.5441221607897401,0.5086286032147672,0.5040313360557871,0.5149674094345579,0.5290842762988212,0.45887191848866904,0.42061484269744037,0.46032788826465737,0.24610254512056298,0.550439359648451,0.5284887855043731,0.48764919348182256,0.4572914729787809,0.5097442208499746,0.5169920343757471,0.5046693370518196,0.549708077571741,0.5105890385773826,0.43856114112565037,0.5657085464489137,0.40891801165053787,0.48798453513929174,0.4716682450040283,0.4247726821703801,0.5774693917974414,0.4468270984137798,0.583675062257411,0.4198962263003045,0.3769879002426702,0.5136180079326327,0.5246984719319954,0.5062179082899916,0.4928441541914987,0.4709458903560292,0.558192728757021,0.4649763670329905,0.4315604746030216,0.5641365520951114,0.4842913435434007,0.41787400690155313,0.4711252463324578,0.47997391418266666,0.5566036499005236,0.5715574662483658,0.539663723652005,0.5185158228461757,0.400863329435008,0.5342554811430591,0.44593307550631195,0.5361899562681591,0.43204718861862296,0.5266271879150242,0.47055440199435966,0.538915694186038,0.4553523928261073,0.4705634335691962,0.5742161328103365,0.5001423760990928,0.39058142516451083,0.5202565546513864,0.4923305418788289,0.427706600403321,0.5563098487711748,0.3724319650876429,0.5283957653910409,0.41239925196433985,0.45470211543287037,0.5033807400009256,0.5297885056917789,0.4941693685766726,0.46460030868426916,0.526875791118672,0.45089955752930255,0.5456796731389213,0.36580675395397255,0.3322429206153087,0.5709732773771706,0.4758478694295907,0.5509601485094718,0.5566077798795087,0.531192953489083,0.5009265633646945,0.47344588244379915,0.5011027934360817,0.4946181205831717,0.5663944686872878,0.48744165833667313,0.4661923488827806,0.49935448327808474,0.5756334300998851,0.5143083381949942,0.47729087181494156,0.5897483196605564,0.6082506416400174,0.5350407053851698,0.5517650465475697,0.43550576762060256,0.5401582056120967,0.592731207366371,0.46106880416920415,0.48323415279428955,0.4771819360222788,0.5210536454389876,0.46235167128342175,0.4771451719309785,0.5662953817010843,0.610688582590449,0.4293829829624167,0.40379955983452975,0.4808813509766043,0.4524659348736667,0.4800591245139747,0.44939250835522315,0.5539270528018063,0.5513041536760739,0.36813782018644964,0.4303202769789661,0.42342128442071947,0.46389645550997255,0.428873426794765,0.45029351628105274,0.48076547553568677,0.49949595671846997,0.5510057426044973,0.466741325376473,0.5715084604470032,0.40924837557293664,0.34024602924511166,0.5586656591332058,0.5654518901606312,0.37839138502279895,0.3679095627028354,0.4523892219432484,0.5107577073372371,0.47526643531624985,0.4483548188275093,0.4928231657503574,0.5413375187912285,0.379136428438963,0.4410937864964671,0.5057846358898802,0.47758808175485723,0.16196457885079096,0.44509112448253535,0.42774502459880825,0.43815842126987614,0.4660188864869943,0.48208079931111425,0.5280195402355349,0.4897779017699384,0.4736119214504466,0.5539728854394218,0.4601050426998574,0.46300970594093027,0.5734182485432963,0.4929123817077595,0.5565000157159617,0.4685333737041255,0.43824977412397886,0.486190619097677,0.3807033549076338,0.48456323841566384,0.44267891575057233,0.5178379341422535,0.4377505947089589,0.45043808383482714,0.5401824636678334,0.4907179317526158,0.21762729341290057,0.5323728920021722,0.6173077331355171,0.5596076005061638,0.4811211842811892,0.3299676041527625,0.5138522744952987,0.42683419444409004,0.5270492191587662,0.5466424433868539,0.38646446160787606,0.5394826708572776,0.46690846713775025,0.523467235247212,0.5526998631074431,0.4501059988980653,0.4656036436047405,0.48797770029534615,0.4633199321070881,0.49929227330145,0.4357644025177818,0.5391354515924391,0.587267896599814,0.5457695509994411,0.4866006056016736,0.48181214686207785,0.5741712076219672,0.5584767027211859,0.5379238594214868,0.532202838617405,0.5643215511502694,0.5451659620443741,0.5172459219637737,0.5851819217351449,0.5424317212739389,0.47414930841203684,0.42005281534087047,0.5372915382429909,0.5089807132796614,0.4163309783486774,0.4715914663113567,0.15465625864762272,0.5391295919447333,0.4256256492709107,0.545325275676335,0.46030793817253357,0.48464993262439604,0.5447006042564679,0.46815919144850504,0.5757237170139211,0.6113047259053832,0.5766833907501999,0.36064097335673534,0.5276752749589623,0.4814611770949234,0.48052166096975757,0.4577558278370323,0.45530343608611396,0.5002137064155656,0.5000270089745701,0.4636624767912325,0.5232807075408431,0.4924932707089624,0.5421372897969847,0.5126379065845025,0.5321911071542326,0.5183916583920278,0.47967448170447496,0.5401178236568359,0.5464364821582756,0.37216560522976694,0.49247011377506184,0.4293772864734581,0.40214855806291255,0.48277339419294457,0.5132508333623333,0.511655809864209,0.44177203233996826,0.5293206990787156,0.453263753941999,0.5965374748173055,0.42686713422972006,0.47425922659577396,0.49445941775311997,0.45195348778597777,0.4680063951375539,0.5863263800513796,0.5235834890849338,0.4534333567010516,0.5439591196786084,0.4627198190273191,0.5032951304788442,0.4733384319541255,0.5235679304814305,0.4654602890919998,0.5282489482761119,0.5451377800548216,0.4352255983182059],\"y\":[0.49099164645354726,0.45646955389215327,0.487616373338169,0.4580167133761157,0.5479863254955668,0.4067787928420985,0.4567348583485746,0.5096645158582941,0.5069193253370333,0.4200710664164985,0.4536563879941655,0.35925149435673476,0.47627468287402075,0.41908904485699067,0.410979803231116,0.393702321348803,0.48193246350882646,0.5228189895152529,0.4388271013785946,0.4667141701014295,0.36893287206136327,0.46017450660272663,0.40270676299096153,0.4227989023730717,0.2943319007604246,0.4438871090176418,0.37776732358660414,0.3375929240264079,0.3941189918132523,0.38316797458649426,0.4831357630270731,0.40016329106712756,0.4032505053357199,0.38206320333812543,0.3239868067113266,0.3730984854218167,0.42135150193984094,0.4109785658111221,0.4129187098635667,0.2357680587288226,0.3833159860464691,0.35080700580482377,0.43937181116987756,0.29174173780928053,0.3090868439482849,0.3545433294756509,0.36353858981566506,0.29215987631658585,0.31343612780820956,0.30316659217175096,0.29916714803562416,0.3095393073261799,0.2753268637083765,0.42384980774648306,0.30884246141285726,0.3249947609548267,0.2945097192961302,0.39224495545646426,0.32620896116846015,0.3214792263192919,0.19930035773637308,0.3607451900637892,0.19166562567118658,0.2673867649290822,0.1921452370966864,0.3032383471047331,0.29936659067801946,0.2928267164358532,0.31458391232188443,0.29212384135457103,0.277582730880499,0.27156555729009973,0.27987813010608825,0.2909790011567756,0.36101584760269473,0.2977467356787744,0.3314794595197733,0.32712746530647724,0.2681740630504154,0.23099803092150425,0.23922785480692568,0.3117834344824284,0.2774825378742081,0.30399317005115123,0.3254090644153859,0.182760374834235,0.29099276173511807,0.27044110718964676,0.29842951774933024,0.3307294085284484,0.28663857782468843,0.29919659321121045,0.274056467955609,0.26199218602857294,0.22646494330877903,0.22743604125419298,0.3052351556680833,0.26370315482792256,0.25296762505101267,0.28121642273464087,0.24091016907717397,0.20489525289509444,0.27227886587500627,0.2546188876788916,0.2652143616421304,0.12129259127172895,0.2344487973377615,0.20983501476745534,0.05033847924984667,0.2294576928210904,0.2535926210932487,0.235622733949838,0.13337799378470305,0.2729523389146351,0.21241427121743842,0.25928059475765397,0.24988652067478853,0.23205264945644052,0.22558650727335774,0.2601830329240995,0.12935094923635557,0.2088861644032286,0.21874598845906282,0.22837779424296767,0.2380517501802737,0.1754071252338861,0.23235945912592215,0.20168019853658717,0.1905568282952654,0.1678817567265895,0.22559568960493795,0.1526991396589075,0.21033351347564397,0.17071397088792928,0.15632988073765378,0.22383006629339303,0.2151157580432924,0.11814668105493652,0.18263772254062832,0.2426768826642033,0.15781874093960632,0.22527920015458197,0.17392307325756975,0.16674584818309687,0.1071705895975265,0.19816110270352735,0.23063876525309368,-0.024872767942487394,0.2278529860821994,0.19928606278265365,0.14870510390372946,0.2276686703703762,0.23659747873715167,0.22082163043367067,0.06772932471704915,0.2186594638405927,0.027560226960719945,0.195272706900155,0.17504162839790405,0.024018894180129195,0.13399849100236086,0.14382227489794766,0.15084433760110724,0.1461320360091525,0.12363305266216663,0.16677706972202974,0.13558256968151147,0.20694436677045402,0.15596077028935462,0.15415189314341737,0.13096740173882218,0.19426968005954634,0.17963356934939562,0.20188793377215453,0.13747106714444898,0.1786286861647821,0.2170737487193752,0.29158700354675793,0.13407780685926948,0.1716919132534688,0.14253420226373806,0.16112875971931523,0.07838067611351089,0.052333619695850764,0.02561633453886866,0.04008312906662214,0.18547644399776692,0.16172884094166143,0.14950747756824437,0.17066042312591664,0.09455918954771755,0.17407842763022516,0.05602711338053718,0.14996843678796898,0.10831190160375816,0.08587895470705692,0.08273475838886764,0.16996355310167496,0.04844839837056364,0.09602051256402448,0.1575473850937416,0.15659434364118416,0.1479128641002437,0.14586031874780414,0.11150556758829692,0.11248519803176711,0.1871351358401606,0.16091281656546075,0.05963890914056861,0.14103847833284366,0.006266395637560315,0.17203165763350306,0.08698084905694353,0.13054964374204622,0.14086421800992205,0.07205186901331828,0.056953147765852884,0.15962904065704706,0.0929677858233825,0.11184756690387565,0.1275566098059418,0.13335984517327884,0.0560396566063994,0.11869002366435595,0.08662788859058464,0.028485658273083168,0.05926494786926289,0.024885618787087716,0.022281836942314875,0.12147571646387698,0.07497557560047127,-0.008705563756826068,0.008613546647448836,0.050974791121430614,0.14959040735590082,-0.0018375273888626333,-0.00434077523778195,0.14010687209011718,0.09050380059767073,0.11957312579123675,0.11809144515569779,0.11280651690401064,0.08617757222951525,0.14109417304822044,0.14168766505910746,0.06687485641946661,0.002877355018690939,0.13362239542682405,0.11025879059698361,0.0077340577044415345,0.1253905863338559,0.16725802384300795,0.07407073213936108,0.12075111749031271,0.15067221217731624,0.1357774321910271,0.11600341735703187,0.17621039684982706,0.125272764581463,0.045609549806025475,0.08581496311883982,0.15006289831684902,0.08545360776638602,0.05777068426057915,0.16269905153802933,-0.025677320049952497,0.005434081398985543,0.11343733550042624,0.11128780974821663,0.098110896907542,0.0358519157383544,0.1227842770195009,0.13389953864872353,0.061747794333403355,0.15059741368551746,0.12595335915162262,0.15777939747938044,0.06976488491449591,0.14185296690678478,0.05186343243912737,0.0791927003305058,0.11153923703367996,0.034601338862480194,0.11273839253145611,0.11608613869463044,0.10469291326585947,0.05038848845798919,0.10806013868075795,-0.03133667323609857,0.10414306536932791,0.09965149219090458,0.051053036409186,0.0008139417387299184,0.017406806791364745,0.03978886278742897,-0.015859871656370303,0.038230986328773704,0.064677777403278,0.16416257549672228,0.04364167357173019,-0.15199430868328861,0.11758731093587355,0.1444671923791493,0.04510896935336438,0.10131795840326202,0.02833601013942568,0.09239310188451788,0.1349035949625398,0.04586188058337828,0.11068146522271337,0.1926865277618189,0.1673847025642897,0.07432269811927956,0.04077421631914012,0.0823098512621493,0.11071317620213991,0.009630134680805645,0.04122142148429121,0.12420372710605536,0.011694500446364726,0.05009931146847282,-0.0093807378174275,0.031117397635948944,0.11525791987670185,0.0402414811170658,0.1429121820172422,-0.01940739419681794,-0.047855920382059464,0.009071141180985178,0.08647281166198445,-0.029706869166565886,0.13426699155515137,0.043644941630504204,0.03023335722004402,0.12331795705989998,0.10090144802942833,0.07928618421382988,0.11344898071361002,0.13763962831394846,-0.018481487709077246,0.04440311330631203,0.1495055934822795,0.07168369771245715,-0.06935098249889222,0.10164811610611349,0.01949046919416175,0.13055011334208028,-0.07319460781344478,0.07527064515367295,0.004199976873119575,0.0559121953683,0.015719734084642552,0.03971615382315069,0.05949157905011968,0.08472694823161728,0.02055086856339285,0.037157071103303956,-0.0293203031037588,0.11125078313465793,0.08551492244067334,0.07091098420136416,0.016927721241585196,-0.04592507233800187,0.07844009026331976,0.11535339404523891,0.01191991940349689,-0.015952554404922683,0.014291986014279976,0.06837039519494063,0.020265290787098503,-0.06864528550991063,0.040686434486964775,0.06869845943262749,0.1310243576412693,0.08751221165653494,0.12509353448478894,0.12359828423061855,0.10304731514017695,-0.050673289428796474,0.092936524959074,0.1301674218644733,0.04001739754505454,-0.00042464594397849105,0.13543870141700695,0.1366045756988995,0.10403098646416474,0.012461696152156905,0.01328084094688089,0.07943462053182528,0.045676090184805014,-0.041257990586488075,0.08878083091051729,-0.022044418756101056,0.11875575761039803,0.00263766345852819,-0.06927199871015888,0.03920038252972701,-0.08987053893060967,0.07444258960961793,0.03284417068483832,-0.0643411858631993,0.01706122705763071,0.01362180535678251,0.03134098701879866,0.07707445030261334,0.07654185011527244,-0.036107934622184576,0.05677054371496777,0.003311978450908664,-0.005354776750282925,0.0654201207359169,0.04427540725550593,-0.07693803043066141,0.012175790598434412,0.008636514189820853,-0.019047300615250364,0.11297195299840819,0.03999358655413303,0.04157450060681942,0.030338520693844916,0.03459375538264145,-0.04421273473558975,0.11057828705989534,0.00762830577116994,0.03297235506044961,-0.008812971750770497,0.07133260814676179,0.0009745500655293688,-0.042367003570505664,0.027148501280512584,0.037326388762982964,0.048490584196400774,-0.020664908318314825,0.12831675256821926,0.11522993410058434,0.002130909552230327,0.033718804294842475,0.012049741396179385,-0.020221183392927212,-0.014629958482108072,0.10322861454484152,0.05834119414707763,0.047463114718966616,0.02769193191251211,-0.11710527831520064,-0.03381774388908515,-0.002660369660448071,0.023956160283916318,-0.01548506307242535,-0.016033620267541605,-0.03403753540393518,0.019252149532873585,-0.006686478805225208,0.09249346090218383,0.08388288066937666,-0.03831546813735466,-0.04451429415355172,-0.04918191324844068,0.0665807051729414,0.010853830744753027,0.12808574034583114,0.02933298689543381,0.02136255327127549,0.07483931650343417,0.03445276077279918,0.0031422517491878073,0.11365627260045587,0.09150038962403297,0.06846776711515822,0.09106785787134512,0.03746345954801705,-0.012613444233180955,0.04422718441512789,-0.01706833663811498,-0.05174568746962737,-0.005145773481276129,0.060989090626518444,0.0834832231697193,0.051347349082484506,0.1298548790690771,0.05186711314199447,0.03612692069511313,-0.02131112472051541,0.06870494699000285,-0.016276996668138158,-0.13222746381657116,-0.007811355794220645,0.00017067163827171958,-0.07578070043970123,0.015328452880523211,0.13611807299573397,0.06327214219853608,-0.04360022411888798,-0.02987494900616842,0.08716721681747579,0.006576402579035268,-0.020048181580057205,-0.07494377828464546,0.03881182056002793,0.07364026177955094,-0.09031522433030366,0.0945947880915504,-0.11480608733255648,-0.08203296523398437,-0.067078467815646,0.06391685763128149,-0.008094188685297203,-0.1073995007382008,0.07221733672903416,-0.003540819492140252,0.04500177319234694,0.0007198938480375175,-0.012585058301630888,-0.0022611335249829983,0.07508362271590564,-0.03898065657871542,-0.00842702728398325,0.07207642644060518,0.10651100995125279,0.04184011114877902,0.012452523439041435,-0.08131880888322023,-0.024264894438241157,0.027037316351493788,0.008460182915214358,0.004739256736329983,-0.03563395951196716,0.009583411911777716,-0.05387573679789738,-0.02121293260268573,0.003961243580345831,-0.05878377446770878,-0.04337800560392956,0.015855059628001125,0.022264494786653516,-0.023473377609022874,0.04475643864196305,-0.07621616975116807,0.03865367213441959,0.03067184446707015,-0.0033660377113091575,0.04250024436445353,0.0510621018825728,0.01735960373769303,-0.05970717576668403,0.04235082372830291,-0.011899804299423772,-0.0402150205583385,-0.011797186179453075,-0.08634847226582903,0.06317164558743653,0.028917345747448524,-0.016979076319537423,0.025892703488553288,-0.059672135539729144,-0.07099327419323918,-0.019281508836689353,-0.12345145067600086,0.04795785217001777,-0.0035993358140849778,-0.08569822808519055,0.03640244278556807,-0.04875658993953649,-0.027970767217966996,0.09617822163452622,-0.08892557369788955,-0.08458217252035383,-0.0649447688898405,-0.06513244520625885,0.0692814395429996,-0.018584491217047458,-0.005307768468048624,0.011901734722629159,-0.02665831410748761,-0.045619550839892414,-0.022131845311728095,-0.06006723823376894,-0.10097867854329234,0.057237803714758055,0.11190878824088561,-0.027265929003660812,-0.021584967607865085,0.024592283321704364,0.06990475892216075,0.01208347943557505,-0.032936083274348264,-0.03374562578939728,0.031679332681669566,-0.018513973850386205,0.07098410285277344,-0.018426064170600772,0.03820462420269358,-0.08384288351428304,0.04649371001882358,0.10247004373979642,-0.03508252593287594,-0.022497948471832754,-0.034588403768261215,-0.07580777010835892,-0.02952886522631296,0.03713703957941867,0.03901482070882236,-0.0020518138263887075,0.021590545660500653,-0.06417238166977968,-0.0066726417902088775,0.030302244240650533,0.027953028909427094,-0.09067997497075017,-0.05786390061567631,-0.05517703685694881,-0.01808030575769541,-0.024992330519283575,0.04175844842175543,-0.08513276168708574,0.05939901096896043,0.07970683828505151,-0.17534636001026588,-0.028304815076715933,-0.17161324664288705,-0.0047696937429687804,0.05667721509209365,-0.005982713632682187,-0.07192793506281314,0.06905765640805735,-0.11349633961304886,-0.08149637771575424,0.09764232248425875,-0.01771116943121569,-0.08089696765897375,0.018670452056465604,-0.02851797417426987,0.05804460752033382,-0.0528542205001774,0.05657424033658964,0.01490113592101612,-0.13848535363617026,-0.03654770411914217,0.05585492306751738,-0.040496400309005344,-1.2084845185780691e-05,-0.009268621088485869,0.08557238016044426,-0.0005814627200589251,-0.1665038490632139,-0.011938792702009099,-0.026266828837422842,-0.009863047726461176,0.06179553757294496,-0.0628706478200562,0.0788078973850816,0.029176158392934675,0.04397599565068571,-0.004302266238671287,0.007107061463962371,-0.09241329883206992,-0.11473002584231098,-0.07582719616603119,-0.1060054726003885,0.004711487952460828,-0.05518666401413884,-0.08386460382688295,0.052277814712613786,-0.011578683797345213,-0.014078710928475131,-0.04855371607406825,-0.07652813532689641,-0.13430241531962908,-0.08845319899331067,-0.03937074504100262,-0.030597000555297522,-0.1565275238794508,-0.13421367960368283,-0.09083122015615959,-0.07532110737072642,0.03447801577961647,-0.06316683314383499,-0.09388931727483835,-0.004367738234881784,-0.21580051863194044,0.04039521068732029,-0.0027828480658515812,-0.05744317205740182,-0.07359811457812389,-0.06894549910681626,-0.10457572063093933,0.05283886213898703,0.01604784470206307,-0.1017303066278825,0.0049636734717769864,0.033605536492568575,0.006269304269182921,0.030362258055603757,0.012955693501843517,-0.06315147080961994,-0.1103779152302456,-0.054540000766434574,-0.0349967039471579,-0.05503667753552371,-0.002690595995218886,-0.10592342581584804,0.0460405763138833,0.0738937828934736,0.027617047085898634,-0.14424877968918062,-0.0652850885375509,0.07765294614031039,-0.1326153504982352,0.09597064152965447,-0.06511314931213799,0.0033207068283380736,-0.0699703539708567,-0.03151750520893046,-0.008897049180145448,-0.12924688085696942,-0.10584442270390743,-0.011851729536935937,0.04552416088875413,0.012769256428403375,-0.09920850890785897,-0.08742080127836975,0.026807757681682767,-0.040305129871146955,0.02800006471916794,-0.10324116266275918,-0.016984890147912865,0.0067685297330027094,0.08825392463916032,-0.010347583024591213,-0.030876844115985878,-0.10215628291573532,-0.03410566986385469,0.07166530083573354,-0.10889375020337684,-0.13154044955515262,-0.04354110291593588,0.15293154597062128,-0.023440431529201677,-0.04318914205748713,-0.0457372785172347,-0.01690377823474777,-0.03548726288803876,0.013889285822378588,-0.23606478678250187,-0.040594435940694236,0.013283702657094533,0.045447827585635675,-0.17966328627058561,-0.09006858249968415,-0.05820207093601276,-0.09318874397998624,-0.1362790944641611,0.044396338921196654,-0.0575249792561049,0.06888972993238103,-0.13544201522267302,-0.058059204009206986,0.005827780900585713,-0.010824549241226165,-0.0279765848605141,-0.07206603565137125,-0.05022641400680285,0.0005421114201126177,-0.09852219635742038,-0.11354238562923819,-0.04069808800267587,-0.08740733076948805,-0.09911787967533559,-0.1385711011480174,-0.11644602478087214,-0.09051684725024685,-0.07609645246859954,-0.06960176968827228,-0.006261420454807058,-0.10089058142216853,-0.07167885859824458,0.0259203063614293,-0.14143454222072793,-0.0850037012597153,-0.0704438168361928,0.02568522285478794,-0.08355426723011047,-0.0026150909769464513,0.05938197827403598,0.047495357054728876,-0.0072647245068053895,0.023068017779297033,-0.12393022556704977,-0.11490719054399991,0.021769355820618914,-0.10908555673806311,-0.0016036526321633448,-0.09089764742724507,-0.10877655133352811,0.027123489242827745,-0.0431673081888247,-0.06234855611432415,0.021053939267868898,-0.14520633270307448,-0.027290271028761512,-0.019457597425873097,0.03537250363890868,-0.05792996952231293,-0.06482608926479784,-0.04135060019138147,-0.04515941342471924,0.04725528435892585,-0.11434240423295876,-0.008492843569844302,0.028488671394916995,-0.11895482932046335,-0.08530842827390932,-0.029716955417864226,-0.19333560972325847,-0.06526972505375493,-0.05726857561609849,-0.10626072799389061,-0.15226771321600735,-0.08093234001441502,-0.09513113840998526,-0.02957022210776614,-0.03573834836019571,-0.06499932038618242,-0.12651386984732627,-0.11472517558773881,-0.08433233088851362,-0.056968902522143115,-0.12347363348996239,-0.06392642652038766,0.00332858088781171,-0.044436996798732226,-0.11848329724857655,-0.1157019078060139,0.005265754817836851,-0.06585146457874179,-0.06006328934056284,-0.1877112372022113,0.015573332392525317,-0.11176849662178683,-0.06162656954007522,-0.012848875418818823,0.06154757166402897,-0.010504109231646382,-0.06760080898082436,-0.0060618698667197985,-0.04091765929599046,0.012626374324799638,-0.18777758400977945,-0.09240492725279008,-0.043700144165465145,-0.05199116007997312,0.03116792292319565,0.011506417933137517,0.02379346029690233,-0.014349514420851887,0.04301470765758399,-0.09974212325673736,-0.1379939225760995,-0.0404843451147432,-0.14468391002812897,0.031346107701385885,-0.09554733323984012,-0.148932150093607,-0.07912199745202476,-0.032919663894710835,0.052152885141075175,-0.07057941628795657,-0.07463253349882995,-0.07806094225343947,0.028662774100012806,-0.11391133364265311,-0.08852825056116367,-0.0591046983247777,0.0627972644793481,-0.09346729752005864,-0.049889183262207405,0.01028881657811435,0.025367738856081755,-0.06505483616779933,0.03593282232463355,-0.09299807233221236,-0.00412702392728097,-0.13408596395336783,-0.10807144317466125,-0.14251078984170906,-0.0680955949875708,-0.15099936667741742,-0.026349617551585852,-0.1935166488711614,-0.035069623380336847,-0.060793312866302615,0.016152005226762786,0.04335110120409842,-0.08613305291018886,-0.031565432529533276,-0.10562446803584233,0.02183094877625111,-0.051131778358006544,-0.06773583303812575,-0.07693174676395477,-0.20729193652965966,0.010831925073188853,0.021711947009979946,-0.09472469149873465,-0.20159026685636514,-0.10025370324835582,-0.07237041222990816,0.054431132919138064,-0.09756484619894494,-0.04438524882700223,-0.03755642672617254,-0.13203783629193833,0.011888332592464539,-0.11866344631490126,-0.12421758104045591,-0.22103637449001498,-0.09441270623880346,0.015212065058494902,0.04869462811760301,-0.14288295765518663,-0.009566010905776414,-0.17091287484705445,-0.08837149237296768,-0.096732698373123,-0.017178462838743278,-0.17831820996123493,-0.014140667366991,-0.008997616815291926,-0.10712973477296661,-0.02537766917841291,-0.1580124134141228,-0.028265427273413635,-0.09813101681489793,-0.08513968636482606,-0.16027454687386403,-0.13066581724061058,-0.08812421470387384,-0.13189200098227663,-0.00877435423590155,0.01955602610948341,-0.1685263491411852,0.0349806418839449,0.006628639664603727,0.006025889144508899,-0.0922727002313819,-0.05457655829056965,-0.23275075614125318,-0.021809691446174555,-0.1296216511050358,-0.11025331802547503,-0.05153496330798169,-0.1358975285402688,0.005235244464600882,-0.11793040855965656,-0.06928955703070493,-0.12629110777596741,-0.17832430538828034,-0.06389518337931803,0.018181580711895125,-0.03235494222792192,-0.07405644108223378,-0.17214610806307118,0.00518557324065212,0.014285165952910715,-0.1726931508399988,-0.03453063761655969,-0.11550589450746004,-0.09443321655258681,-0.02067204153978081,-0.03511031123560896,-0.12863851326090955,-0.0991436109808935,-0.02748751153557865,-0.06354054451823843,-0.01124019193987181,0.02929327496890941,-0.06834694828343855,-0.022184909640024418,-0.07840663458118366,-0.07910891892534423,-0.06042240487524776,0.014423895191037046,-0.2253850362730191,-0.014617688870000345,-0.18838455904980883,-0.16034331959462783,-0.0866864779721481,-0.07405703687686203,-0.05200221220618543,-0.1785391892120254,-0.1253982692180141,-0.03254332452281989,-0.11467630024463564,-0.04671210299738167,-0.08118945046453784,-0.08936034932875357,-0.16900914561511082,-0.08680500876400232,-0.07248543065734071,0.04495285743735884]}},\"id\":\"944543eb-72f6-489a-80c9-d44d251a0b47\",\"type\":\"ColumnDataSource\"},{\"attributes\":{\"plot\":{\"id\":\"c2faae32-8b4b-4f2b-b453-b584a3a6e65e\",\"subtype\":\"Figure\",\"type\":\"Plot\"}},\"id\":\"ea1031d6-79cb-4822-ab16-e74dd8a583cb\",\"type\":\"ResetTool\"},{\"attributes\":{\"dimension\":1,\"plot\":{\"id\":\"c2faae32-8b4b-4f2b-b453-b584a3a6e65e\",\"subtype\":\"Figure\",\"type\":\"Plot\"},\"ticker\":{\"id\":\"c01e8da2-b6bd-433f-8d8a-d19758f81ec8\",\"type\":\"BasicTicker\"}},\"id\":\"92950ba1-65dd-4582-b3e7-ab6fd3b86f8e\",\"type\":\"Grid\"},{\"attributes\":{\"formatter\":{\"id\":\"c4438c0b-5e9e-40fc-9367-2241901c0c28\",\"type\":\"BasicTickFormatter\"},\"plot\":{\"id\":\"c2faae32-8b4b-4f2b-b453-b584a3a6e65e\",\"subtype\":\"Figure\",\"type\":\"Plot\"},\"ticker\":{\"id\":\"c01e8da2-b6bd-433f-8d8a-d19758f81ec8\",\"type\":\"BasicTicker\"}},\"id\":\"fdad65d3-33d0-4a0a-bf83-37692a28571a\",\"type\":\"LinearAxis\"},{\"attributes\":{},\"id\":\"5d5381a9-ebb5-448b-9f91-01737378a50e\",\"type\":\"BasicTicker\"},{\"attributes\":{\"callback\":null},\"id\":\"67084ddf-1f2f-4ecf-bc79-9b4b4a85dffd\",\"type\":\"DataRange1d\"},{\"attributes\":{\"bottom_units\":\"screen\",\"fill_alpha\":{\"value\":0.5},\"fill_color\":{\"value\":\"lightgrey\"},\"left_units\":\"screen\",\"level\":\"overlay\",\"line_alpha\":{\"value\":1.0},\"line_color\":{\"value\":\"black\"},\"line_dash\":[4,4],\"line_width\":{\"value\":2},\"plot\":null,\"render_mode\":\"css\",\"right_units\":\"screen\",\"top_units\":\"screen\"},\"id\":\"ec5be13f-63ae-41bc-afca-83f50dd8de81\",\"type\":\"BoxAnnotation\"},{\"attributes\":{\"plot\":{\"id\":\"c2faae32-8b4b-4f2b-b453-b584a3a6e65e\",\"subtype\":\"Figure\",\"type\":\"Plot\"}},\"id\":\"9b8ce8c6-2f74-44fc-ba65-4fa81a4ba05a\",\"type\":\"PanTool\"},{\"attributes\":{\"active_drag\":\"auto\",\"active_scroll\":{\"id\":\"24f3ee64-af31-495b-aa0d-be597a4a8af8\",\"type\":\"WheelZoomTool\"},\"active_tap\":\"auto\",\"tools\":[{\"id\":\"ea1031d6-79cb-4822-ab16-e74dd8a583cb\",\"type\":\"ResetTool\"},{\"id\":\"9b8ce8c6-2f74-44fc-ba65-4fa81a4ba05a\",\"type\":\"PanTool\"},{\"id\":\"24f3ee64-af31-495b-aa0d-be597a4a8af8\",\"type\":\"WheelZoomTool\"},{\"id\":\"04150ad5-e2cb-4b50-bf87-638282aea6a5\",\"type\":\"BoxZoomTool\"}]},\"id\":\"48f3ab0e-7063-4eec-b7f9-c967337dc14e\",\"type\":\"Toolbar\"},{\"attributes\":{\"overlay\":{\"id\":\"ec5be13f-63ae-41bc-afca-83f50dd8de81\",\"type\":\"BoxAnnotation\"},\"plot\":{\"id\":\"c2faae32-8b4b-4f2b-b453-b584a3a6e65e\",\"subtype\":\"Figure\",\"type\":\"Plot\"}},\"id\":\"04150ad5-e2cb-4b50-bf87-638282aea6a5\",\"type\":\"BoxZoomTool\"},{\"attributes\":{\"below\":[{\"id\":\"8cace7d4-977a-4bc9-88b7-8e2e4b9bf814\",\"type\":\"LinearAxis\"}],\"left\":[{\"id\":\"fdad65d3-33d0-4a0a-bf83-37692a28571a\",\"type\":\"LinearAxis\"}],\"renderers\":[{\"id\":\"8cace7d4-977a-4bc9-88b7-8e2e4b9bf814\",\"type\":\"LinearAxis\"},{\"id\":\"ae3543e1-cfd4-459b-bac5-11491494115e\",\"type\":\"Grid\"},{\"id\":\"fdad65d3-33d0-4a0a-bf83-37692a28571a\",\"type\":\"LinearAxis\"},{\"id\":\"92950ba1-65dd-4582-b3e7-ab6fd3b86f8e\",\"type\":\"Grid\"},{\"id\":\"ec5be13f-63ae-41bc-afca-83f50dd8de81\",\"type\":\"BoxAnnotation\"},{\"id\":\"45910123-f13e-46e6-a0b3-54d60507e4eb\",\"type\":\"GlyphRenderer\"}],\"title\":{\"id\":\"255b52c4-02b2-4781-b5b4-469cad942adf\",\"type\":\"Title\"},\"tool_events\":{\"id\":\"adcb909e-4f19-4120-a80d-859391befb40\",\"type\":\"ToolEvents\"},\"toolbar\":{\"id\":\"48f3ab0e-7063-4eec-b7f9-c967337dc14e\",\"type\":\"Toolbar\"},\"x_range\":{\"id\":\"67084ddf-1f2f-4ecf-bc79-9b4b4a85dffd\",\"type\":\"DataRange1d\"},\"y_range\":{\"id\":\"3fb3857e-ff80-497c-8db6-27e6fbc17c08\",\"type\":\"DataRange1d\"}},\"id\":\"c2faae32-8b4b-4f2b-b453-b584a3a6e65e\",\"subtype\":\"Figure\",\"type\":\"Plot\"},{\"attributes\":{\"formatter\":{\"id\":\"d481e18d-e794-455e-ac20-0357226c6809\",\"type\":\"BasicTickFormatter\"},\"plot\":{\"id\":\"c2faae32-8b4b-4f2b-b453-b584a3a6e65e\",\"subtype\":\"Figure\",\"type\":\"Plot\"},\"ticker\":{\"id\":\"5d5381a9-ebb5-448b-9f91-01737378a50e\",\"type\":\"BasicTicker\"}},\"id\":\"8cace7d4-977a-4bc9-88b7-8e2e4b9bf814\",\"type\":\"LinearAxis\"},{\"attributes\":{\"text_align\":\"center\",\"text_baseline\":\"middle\",\"text_color\":{\"field\":\"text_color\"},\"x\":{\"field\":\"x\"},\"y\":{\"field\":\"y\"}},\"id\":\"3e7d9a8d-4666-4360-b640-d1feda80ed85\",\"type\":\"Text\"},{\"attributes\":{},\"id\":\"c01e8da2-b6bd-433f-8d8a-d19758f81ec8\",\"type\":\"BasicTicker\"}],\"root_ids\":[\"c2faae32-8b4b-4f2b-b453-b584a3a6e65e\"]},\"title\":\"Bokeh Application\",\"version\":\"0.12.3\"}};\n",
       "            var render_items = [{\"docid\":\"2a181ddc-b603-4f39-8b05-6010609ec4d4\",\"elementid\":\"0cb16870-56c7-48f9-83df-42ba1b056397\",\"modelid\":\"c2faae32-8b4b-4f2b-b453-b584a3a6e65e\"}];\n",
       "            \n",
       "            Bokeh.embed.embed_items(docs_json, render_items);\n",
       "        });\n",
       "      },\n",
       "      function(Bokeh) {\n",
       "      }\n",
       "    ];\n",
       "  \n",
       "    function run_inline_js() {\n",
       "      \n",
       "      if ((window.Bokeh !== undefined) || (force === \"1\")) {\n",
       "        for (var i = 0; i < inline_js.length; i++) {\n",
       "          inline_js[i](window.Bokeh);\n",
       "        }if (force === \"1\") {\n",
       "          display_loaded();\n",
       "        }} else if (Date.now() < window._bokeh_timeout) {\n",
       "        setTimeout(run_inline_js, 100);\n",
       "      } else if (!window._bokeh_failed_load) {\n",
       "        console.log(\"Bokeh: BokehJS failed to load within specified timeout.\");\n",
       "        window._bokeh_failed_load = true;\n",
       "      } else if (!force) {\n",
       "        var cell = $(\"#0cb16870-56c7-48f9-83df-42ba1b056397\").parents('.cell').data().cell;\n",
       "        cell.output_area.append_execute_result(NB_LOAD_WARNING)\n",
       "      }\n",
       "  \n",
       "    }\n",
       "  \n",
       "    if (window._bokeh_is_loading === 0) {\n",
       "      console.log(\"Bokeh: BokehJS loaded, going straight to plotting\");\n",
       "      run_inline_js();\n",
       "    } else {\n",
       "      load_libs(js_urls, function() {\n",
       "        console.log(\"Bokeh: BokehJS plotting callback run at\", now());\n",
       "        run_inline_js();\n",
       "      });\n",
       "    }\n",
       "  }(this));\n",
       "</script>"
      ]
     },
     "metadata": {},
     "output_type": "display_data"
    }
   ],
   "source": [
    "word_colors = collections.defaultdict(lambda: \"black\")\n",
    "word_colors[\"the\"] = \"blue\"\n",
    "word_colors[\"england\"] = \"red\"\n",
    "word_colors[\"soviet\"] = \"red\"\n",
    "plot_wv.plot_wv(Wv, vocab, num_words=1000, word_colors=word_colors)"
   ]
  },
  {
   "cell_type": "markdown",
   "metadata": {},
   "source": [
    "## t-SNE\n",
    "\n",
    "The above visualization just plots the first two dimensions. This is equivalent to doing a TruncatedSVD with k=2, which doesn't always give the most meaningful representation.\n",
    "\n",
    "We can get more intuition by projecting down with [t-SNE](https://en.wikipedia.org/wiki/T-distributed_stochastic_neighbor_embedding). This is a *non*-linear way of embedding high-dimensional data (like our embedding vectors) into a low dimensional space. It works by preserving local distances (like nearby neighbors), at the expense of some global distortion.\n",
    "\n",
    "t-SNE won't be very good if we want to check analogy relationships, but it will help us visualize clusters."
   ]
  },
  {
   "cell_type": "markdown",
   "metadata": {},
   "source": [
    "Scikit-learn includes a t-SNE implementation in [`sklearn.manifold.TSNE`](http://scikit-learn.org/stable/modules/generated/sklearn.manifold.TSNE.html), but the implementation is slow and tends to crash by using too much (>4 GB) memory.\n",
    "\n",
    "Instead, we'll use the excellent [`bhtsne`](https://github.com/dominiek/python-bhtsne) package. Install with:\n",
    "```\n",
    "sudo apt-get install gcc g++\n",
    "pip install bhtsne\n",
    "```\n",
    "\n",
    "The cell below will take around 2 minutes to run on a 2 CPU Cloud Compute instance."
   ]
  },
  {
   "cell_type": "code",
   "execution_count": 26,
   "metadata": {
    "collapsed": false
   },
   "outputs": [
    {
     "name": "stdout",
     "output_type": "stream",
     "text": [
      "Collecting bhtsne\n",
      "  Using cached bhtsne-0.1.9.tar.gz\n",
      "    Complete output from command python setup.py egg_info:\n",
      "    Traceback (most recent call last):\n",
      "      File \"<string>\", line 1, in <module>\n",
      "      File \"/tmp/pip-build-9aYIHE/bhtsne/setup.py\", line 4, in <module>\n",
      "        from Cython.Build import cythonize\n",
      "    ImportError: No module named Cython.Build\n",
      "    \n",
      "    ----------------------------------------\n",
      "\u001b[31mCommand \"python setup.py egg_info\" failed with error code 1 in /tmp/pip-build-9aYIHE/bhtsne/\u001b[0m\n"
     ]
    },
    {
     "ename": "ImportError",
     "evalue": "No module named bhtsne",
     "output_type": "error",
     "traceback": [
      "\u001b[1;31m---------------------------------------------------------------------------\u001b[0m",
      "\u001b[1;31mImportError\u001b[0m                               Traceback (most recent call last)",
      "\u001b[1;32m<ipython-input-26-76c1d632c88f>\u001b[0m in \u001b[0;36m<module>\u001b[1;34m()\u001b[0m\n\u001b[0;32m      1\u001b[0m \u001b[0mget_ipython\u001b[0m\u001b[1;33m(\u001b[0m\u001b[1;33m)\u001b[0m\u001b[1;33m.\u001b[0m\u001b[0msystem\u001b[0m\u001b[1;33m(\u001b[0m\u001b[1;34mu'pip install --upgrade bhtsne'\u001b[0m\u001b[1;33m)\u001b[0m\u001b[1;33m\u001b[0m\u001b[0m\n\u001b[1;32m----> 2\u001b[1;33m \u001b[1;32mimport\u001b[0m \u001b[0mbhtsne\u001b[0m\u001b[1;33m\u001b[0m\u001b[0m\n\u001b[0m\u001b[0;32m      3\u001b[0m \u001b[1;33m\u001b[0m\u001b[0m\n\u001b[0;32m      4\u001b[0m \u001b[0mt0\u001b[0m \u001b[1;33m=\u001b[0m \u001b[0mtime\u001b[0m\u001b[1;33m.\u001b[0m\u001b[0mtime\u001b[0m\u001b[1;33m(\u001b[0m\u001b[1;33m)\u001b[0m\u001b[1;33m\u001b[0m\u001b[0m\n\u001b[0;32m      5\u001b[0m \u001b[1;32mprint\u001b[0m \u001b[1;34m\"Running Barnes-Hut t-SNE on word vectors; matrix shape = %s\"\u001b[0m \u001b[1;33m%\u001b[0m \u001b[0mstr\u001b[0m\u001b[1;33m(\u001b[0m\u001b[0mWv\u001b[0m\u001b[1;33m.\u001b[0m\u001b[0mshape\u001b[0m\u001b[1;33m)\u001b[0m\u001b[1;33m\u001b[0m\u001b[0m\n",
      "\u001b[1;31mImportError\u001b[0m: No module named bhtsne"
     ]
    }
   ],
   "source": [
    "!pip install --upgrade bhtsne\n",
    "import bhtsne\n",
    "\n",
    "t0 = time.time()\n",
    "print \"Running Barnes-Hut t-SNE on word vectors; matrix shape = %s\" % str(Wv.shape)\n",
    "Wv2 = bhtsne.tsne(Wv)\n",
    "print \"Transformed in %s\" % data_utils.pretty_timedelta(since=t0)\n",
    "\n",
    "## Uncomment below if you need to use sklearn implementation\n",
    "## (not recommended)\n",
    "# from sklearn.manifold import TSNE\n",
    "# transformer = TSNE(n_components=2, verbose=2)\n",
    "# Wv2 = transformer.fit_transform(Wv)"
   ]
  },
  {
   "cell_type": "code",
   "execution_count": 27,
   "metadata": {
    "collapsed": false
   },
   "outputs": [
    {
     "ename": "NameError",
     "evalue": "name 'Wv2' is not defined",
     "output_type": "error",
     "traceback": [
      "\u001b[1;31m---------------------------------------------------------------------------\u001b[0m",
      "\u001b[1;31mNameError\u001b[0m                                 Traceback (most recent call last)",
      "\u001b[1;32m<ipython-input-27-43065daf71e8>\u001b[0m in \u001b[0;36m<module>\u001b[1;34m()\u001b[0m\n\u001b[1;32m----> 1\u001b[1;33m \u001b[0mplot_wv\u001b[0m\u001b[1;33m.\u001b[0m\u001b[0mplot_wv\u001b[0m\u001b[1;33m(\u001b[0m\u001b[0mWv2\u001b[0m\u001b[1;33m,\u001b[0m \u001b[0mvocab\u001b[0m\u001b[1;33m,\u001b[0m \u001b[0mnum_words\u001b[0m\u001b[1;33m=\u001b[0m\u001b[1;36m1000\u001b[0m\u001b[1;33m)\u001b[0m\u001b[1;33m\u001b[0m\u001b[0m\n\u001b[0m",
      "\u001b[1;31mNameError\u001b[0m: name 'Wv2' is not defined"
     ]
    }
   ],
   "source": [
    "plot_wv.plot_wv(Wv2, vocab, num_words=1000)"
   ]
  },
  {
   "cell_type": "code",
   "execution_count": 28,
   "metadata": {
    "collapsed": false
   },
   "outputs": [
    {
     "ename": "NameError",
     "evalue": "name 'Wv2' is not defined",
     "output_type": "error",
     "traceback": [
      "\u001b[1;31m---------------------------------------------------------------------------\u001b[0m",
      "\u001b[1;31mNameError\u001b[0m                                 Traceback (most recent call last)",
      "\u001b[1;32m<ipython-input-28-f72b703587e8>\u001b[0m in \u001b[0;36m<module>\u001b[1;34m()\u001b[0m\n\u001b[1;32m----> 1\u001b[1;33m plot_wv.plot_wv(Wv2, vocab, num_words=vocab_size, inline=False, \n\u001b[0m\u001b[0;32m      2\u001b[0m                 filename=\"plots/wordvectors_tsne.html\")\n",
      "\u001b[1;31mNameError\u001b[0m: name 'Wv2' is not defined"
     ]
    }
   ],
   "source": [
    "plot_wv.plot_wv(Wv2, vocab, num_words=vocab_size, inline=False, \n",
    "                filename=\"plots/wordvectors_tsne.html\")"
   ]
  },
  {
   "cell_type": "markdown",
   "metadata": {},
   "source": [
    "# Exploration\n",
    "\n",
    "Use the cells below to experiment with word embeddings. Things to try:\n",
    "\n",
    "- Experiment with different window sizes. How do the word clusters change if you use a window of $\\pm 1$ word, versus $\\pm 3$, or full-sentence?\n",
    "- Look at a few \"target\" words of interest, using `word_colors` to highlight, or the `show_nns` function below. What are their nearest neighbors, and how does this change with the way you construct the embeddings?\n",
    "\n",
    "Feel free to modify any of the code below, or to write your own!"
   ]
  },
  {
   "cell_type": "code",
   "execution_count": 29,
   "metadata": {
    "collapsed": true
   },
   "outputs": [],
   "source": [
    "def find_nn_cos(word_id, Wv, k=10):\n",
    "    \"\"\"Find nearest neighbors, by cosine distance.\"\"\"\n",
    "    v = Wv[word_id]\n",
    "    Z = np.linalg.norm(Wv, axis=1) * np.linalg.norm(v)\n",
    "    ds = np.dot(Wv, v.T) / Z\n",
    "    nns = np.argsort(-1*ds)[:k]  # sort descending, take best\n",
    "    return nns, ds[nns]  # word indices, distances\n",
    "\n",
    "def show_nns(word, Wv, vocab, k=10):\n",
    "    print \"Nearest neighbors for \\\"%s\\\"\" % word\n",
    "    for i, d in zip(*find_nn_cos(vocab.word_to_id[word], Wv, k)):\n",
    "        w = vocab.id_to_word[i]\n",
    "        print \"%.03f : \\\"%s\\\"\" % (d, w)"
   ]
  },
  {
   "cell_type": "code",
   "execution_count": 30,
   "metadata": {
    "collapsed": false
   },
   "outputs": [
    {
     "name": "stdout",
     "output_type": "stream",
     "text": [
      "Counting pairs (i, i ± 1) ...\n",
      "Co-occurrence matrix: 10000 words x 10000 words\n",
      "  5.5e+05 nonzero elements\n"
     ]
    },
    {
     "ename": "NameError",
     "evalue": "name 'bhtsne' is not defined",
     "output_type": "error",
     "traceback": [
      "\u001b[1;31m---------------------------------------------------------------------------\u001b[0m",
      "\u001b[1;31mNameError\u001b[0m                                 Traceback (most recent call last)",
      "\u001b[1;32m<ipython-input-30-d7dc57f95599>\u001b[0m in \u001b[0;36m<module>\u001b[1;34m()\u001b[0m\n\u001b[0;32m     10\u001b[0m \u001b[0mWv\u001b[0m\u001b[1;33m,\u001b[0m \u001b[0m_\u001b[0m \u001b[1;33m=\u001b[0m \u001b[0mSVD\u001b[0m\u001b[1;33m(\u001b[0m\u001b[0mPPMI\u001b[0m\u001b[1;33m(\u001b[0m\u001b[0mC\u001b[0m\u001b[1;33m)\u001b[0m\u001b[1;33m,\u001b[0m \u001b[0mk\u001b[0m\u001b[1;33m=\u001b[0m\u001b[1;36m100\u001b[0m\u001b[1;33m)\u001b[0m\u001b[1;33m\u001b[0m\u001b[0m\n\u001b[0;32m     11\u001b[0m \u001b[1;33m\u001b[0m\u001b[0m\n\u001b[1;32m---> 12\u001b[1;33m \u001b[0mWv2\u001b[0m \u001b[1;33m=\u001b[0m \u001b[0mbhtsne\u001b[0m\u001b[1;33m.\u001b[0m\u001b[0mtsne\u001b[0m\u001b[1;33m(\u001b[0m\u001b[0mWv\u001b[0m\u001b[1;33m)\u001b[0m\u001b[1;33m\u001b[0m\u001b[0m\n\u001b[0m",
      "\u001b[1;31mNameError\u001b[0m: name 'bhtsne' is not defined"
     ]
    }
   ],
   "source": [
    "# Input lists\n",
    "sentence_ids = [vocab.words_to_ids(data_utils.canonicalize_words(s)) \n",
    "                for s in corpus.sents()]\n",
    "ids = list(flatten(sentence_ids))\n",
    "\n",
    "# Compute co-occurence matrix and word vectors\n",
    "C = cooccurrence_matrix(ids, vocab, window_size=1)\n",
    "# C = cooccurrence_matrix_sentences(sentence_ids, vocab)\n",
    "\n",
    "Wv, _ = SVD(PPMI(C), k=100)\n",
    "\n",
    "Wv2 = bhtsne.tsne(Wv)"
   ]
  },
  {
   "cell_type": "code",
   "execution_count": 31,
   "metadata": {
    "collapsed": false
   },
   "outputs": [
    {
     "name": "stdout",
     "output_type": "stream",
     "text": [
      "Nearest neighbors for \"close\"\n",
      "1.000 : \"close\"\n",
      "0.698 : \"hard\"\n",
      "0.646 : \"fast\"\n",
      "0.633 : \"near\"\n",
      "0.591 : \"quietly\"\n",
      "0.588 : \"soon\"\n",
      "0.581 : \"easy\"\n",
      "0.578 : \"quickly\"\n",
      "0.575 : \"hot\"\n",
      "0.574 : \"bad\"\n"
     ]
    }
   ],
   "source": [
    "show_nns(\"close\", Wv, vocab)"
   ]
  }
 ],
 "metadata": {
  "kernelspec": {
   "display_name": "Python 2",
   "language": "python",
   "name": "python2"
  },
  "language_info": {
   "codemirror_mode": {
    "name": "ipython",
    "version": 2
   },
   "file_extension": ".py",
   "mimetype": "text/x-python",
   "name": "python",
   "nbconvert_exporter": "python",
   "pygments_lexer": "ipython2",
   "version": "2.7.6"
  }
 },
 "nbformat": 4,
 "nbformat_minor": 0
}
