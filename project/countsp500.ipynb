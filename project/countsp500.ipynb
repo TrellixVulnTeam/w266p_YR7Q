{
 "cells": [
  {
   "cell_type": "code",
   "execution_count": 3,
   "metadata": {
    "collapsed": false
   },
   "outputs": [
    {
     "name": "stdout",
     "output_type": "stream",
     "text": [
      "405\n"
     ]
    }
   ],
   "source": [
    "import os\n",
    "import sys\n",
    "from sets import Set\n",
    "\n",
    "t = Set([])\n",
    "\n",
    "f = open('sp500.orgs.txt', 'r')\n",
    "\n",
    "for line in f:\n",
    "    t.add(line.split('|')[0])\n",
    "\n",
    "print len(t)\n",
    "    "
   ]
  }
 ],
 "metadata": {
  "kernelspec": {
   "display_name": "Python 2",
   "language": "python",
   "name": "python2"
  },
  "language_info": {
   "codemirror_mode": {
    "name": "ipython",
    "version": 2
   },
   "file_extension": ".py",
   "mimetype": "text/x-python",
   "name": "python",
   "nbconvert_exporter": "python",
   "pygments_lexer": "ipython2",
   "version": "2.7.6"
  }
 },
 "nbformat": 4,
 "nbformat_minor": 0
}
