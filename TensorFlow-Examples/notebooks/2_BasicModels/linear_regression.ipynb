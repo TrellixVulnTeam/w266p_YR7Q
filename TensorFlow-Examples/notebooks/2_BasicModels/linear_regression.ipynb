{
 "cells": [
  {
   "cell_type": "code",
   "execution_count": 1,
   "metadata": {
    "collapsed": false
   },
   "outputs": [],
   "source": [
    "# A linear regression learning algorithm example using TensorFlow library.\n",
    "\n",
    "# Author: Aymeric Damien\n",
    "# Project: https://github.com/aymericdamien/TensorFlow-Examples/"
   ]
  },
  {
   "cell_type": "code",
   "execution_count": 7,
   "metadata": {
    "collapsed": true
   },
   "outputs": [],
   "source": [
    "import tensorflow as tf\n",
    "import numpy\n",
    "import matplotlib.pyplot as plt\n",
    "%matplotlib inline\n",
    "rng = numpy.random"
   ]
  },
  {
   "cell_type": "code",
   "execution_count": 29,
   "metadata": {
    "collapsed": false
   },
   "outputs": [
    {
     "name": "stdout",
     "output_type": "stream",
     "text": [
      "[ 0.09999247  0.45571007  0.03617933  0.46681447  0.78856028  0.41786086\n",
      "  0.380367    0.41552965  0.59432135  0.29353125]\n"
     ]
    }
   ],
   "source": [
    "\n",
    "Z = tf.Variable(rng.rand(10), name=\"Z\")\n",
    "init = tf.initialize_all_variables()\n",
    "with tf.Session() as sess:\n",
    "    sess.run(init)\n",
    "    print sess.run(Z)"
   ]
  },
  {
   "cell_type": "code",
   "execution_count": 75,
   "metadata": {
    "collapsed": true
   },
   "outputs": [],
   "source": [
    "# Parameters\n",
    "tf.reset_default_graph()\n",
    "learning_rate = 0.01\n",
    "training_epochs = 5000\n",
    "display_step = 50"
   ]
  },
  {
   "cell_type": "code",
   "execution_count": 78,
   "metadata": {
    "collapsed": false
   },
   "outputs": [
    {
     "name": "stdout",
     "output_type": "stream",
     "text": [
      "[  3.3     4.4     5.5     6.71    6.93    4.168   9.779   6.182   7.59\n",
      "   2.167   7.042  10.791   5.313   7.997   5.654   9.27    3.1  ]\n"
     ]
    }
   ],
   "source": [
    "# Training Data\n",
    "train_X = numpy.asarray([3.3,4.4,5.5,6.71,6.93,4.168,9.779,6.182,7.59,2.167,\n",
    "                         7.042,10.791,5.313,7.997,5.654,9.27,3.1])\n",
    "train_Y = numpy.asarray([1.7,2.76,2.09,3.19,1.694,1.573,3.366,2.596,2.53,1.221,\n",
    "                         2.827,3.465,1.65,2.904,2.42,2.94,1.3])\n",
    "n_samples = train_X.shape[0]\n",
    "print train_X"
   ]
  },
  {
   "cell_type": "code",
   "execution_count": 89,
   "metadata": {
    "collapsed": false
   },
   "outputs": [
    {
     "name": "stdout",
     "output_type": "stream",
     "text": [
      "Automatically created module for IPython interactive environment\n",
      "('Coefficients: \\n', array([ 0.25163494]))\n",
      "('Residues: \\n', 2.6155804587124871)\n",
      "('Intercept: \\n', 0.7988012261753894)\n",
      "Mean squared error: 0.15\n",
      "Variance score: 0.69\n"
     ]
    },
    {
     "name": "stderr",
     "output_type": "stream",
     "text": [
      "/usr/local/lib/python2.7/dist-packages/sklearn/utils/deprecation.py:70: DeprecationWarning: Function residues_ is deprecated; ``residues_`` is deprecated and will be removed in 0.19\n",
      "  warnings.warn(msg, category=DeprecationWarning)\n"
     ]
    },
    {
     "data": {
      "image/png": "[encoded data removed]",
      "text/plain": [
       "<matplotlib.figure.Figure at 0x7ff9987c7250>"
      ]
     },
     "metadata": {},
     "output_type": "display_data"
    }
   ],
   "source": [
    "print(__doc__)\n",
    "\n",
    "\n",
    "# Code source: Jaques Grobler\n",
    "# License: BSD 3 clause\n",
    "\n",
    "\n",
    "import matplotlib.pyplot as plt\n",
    "import numpy as np\n",
    "from sklearn import linear_model\n",
    "\n",
    "# Load the diabetes dataset\n",
    "#diabetes = datasets.load_diabetes()\n",
    "train_X = numpy.asarray([3.3,4.4,5.5,6.71,6.93,4.168,9.779,6.182,7.59,2.167,\n",
    "                         7.042,10.791,5.313,7.997,5.654,9.27,3.1])\n",
    "train_Y = numpy.asarray([1.7,2.76,2.09,3.19,1.694,1.573,3.366,2.596,2.53,1.221,\n",
    "                         2.827,3.465,1.65,2.904,2.42,2.94,1.3])\n",
    "\n",
    "# Use only one feature\n",
    "diabetes_X_train = [[_] for _ in train_X]\n",
    "diabetes_y_train= train_Y\n",
    "\n",
    "# Split the data into training/testing sets\n",
    "#diabetes_X_train = diabetes_X[:-20]\n",
    "#diabetes_X_test = diabetes_X[-20:]\n",
    "\n",
    "# Split the targets into training/testing sets\n",
    "#diabetes_y_train = diabetes.target[:-20]\n",
    "#diabetes_y_test = diabetes.target[-20:]\n",
    "#print diabetes_X_train, '\\n', diabetes_y_train\n",
    "\n",
    "# Create linear regression object\n",
    "regr = linear_model.LinearRegression()\n",
    "\n",
    "# Train the model using the training sets\n",
    "regr.fit(diabetes_X_train, diabetes_y_train)\n",
    "\n",
    "# The coefficients\n",
    "print('Coefficients: \\n', regr.coef_)\n",
    "print('Residues: \\n', regr.residues_)\n",
    "print('Intercept: \\n', regr.intercept_)\n",
    "# The mean squared error\n",
    "print(\"Mean squared error: %.2f\"\n",
    "      % np.mean((regr.predict(diabetes_X_train) - diabetes_y_train) ** 2))\n",
    "# Explained variance score: 1 is perfect prediction\n",
    "print('Variance score: %.2f' % regr.score(diabetes_X_train, diabetes_y_train))\n",
    "\n",
    "# Plot outputs\n",
    "plt.scatter(diabetes_X_train, diabetes_y_train,  color='black')\n",
    "plt.plot(diabetes_X_train, regr.predict(diabetes_X_train), color='blue',\n",
    "         linewidth=3)\n",
    "\n",
    "plt.xticks(())\n",
    "plt.yticks(())\n",
    "\n",
    "plt.show()"
   ]
  },
  {
   "cell_type": "code",
   "execution_count": 67,
   "metadata": {
    "collapsed": true
   },
   "outputs": [],
   "source": [
    "# tf Graph Input\n",
    "X = tf.placeholder(\"float\")\n",
    "Y = tf.placeholder(\"float\")\n",
    "\n",
    "# Set model weights\n",
    "W = tf.Variable(rng.randn(), name=\"weight\")\n",
    "b = tf.Variable(rng.randn(), name=\"bias\")"
   ]
  },
  {
   "cell_type": "code",
   "execution_count": 68,
   "metadata": {
    "collapsed": true
   },
   "outputs": [],
   "source": [
    "# Construct a linear model\n",
    "pred = tf.add(tf.mul(X, W), b)"
   ]
  },
  {
   "cell_type": "code",
   "execution_count": 69,
   "metadata": {
    "collapsed": true
   },
   "outputs": [],
   "source": [
    "# Mean squared error\n",
    "cost = tf.reduce_sum(tf.pow(pred-Y, 2))/(2*n_samples)\n",
    "# Gradient descent\n",
    "optimizer = tf.train.GradientDescentOptimizer(learning_rate).minimize(cost)"
   ]
  },
  {
   "cell_type": "code",
   "execution_count": 70,
   "metadata": {
    "collapsed": true
   },
   "outputs": [],
   "source": [
    "# Initializing the variables\n",
    "init = tf.initialize_all_variables()"
   ]
  },
  {
   "cell_type": "code",
   "execution_count": 71,
   "metadata": {
    "collapsed": false
   },
   "outputs": [
    {
     "name": "stdout",
     "output_type": "stream",
     "text": [
      "Epoch: 0050 cost= 0.077220567 W= 0.241357 b= 0.860718\n",
      "Epoch: 0100 cost= 0.077194743 W= 0.241847 b= 0.857194\n",
      "Epoch: 0150 cost= 0.077171832 W= 0.242308 b= 0.85388\n",
      "Epoch: 0200 cost= 0.077151544 W= 0.242741 b= 0.850762\n",
      "Epoch: 0250 cost= 0.077133574 W= 0.243149 b= 0.84783\n",
      "Epoch: 0300 cost= 0.077117614 W= 0.243532 b= 0.845072\n",
      "Epoch: 0350 cost= 0.077103481 W= 0.243893 b= 0.842479\n",
      "Epoch: 0400 cost= 0.077090934 W= 0.244232 b= 0.840039\n",
      "Epoch: 0450 cost= 0.077079833 W= 0.244551 b= 0.837744\n",
      "Epoch: 0500 cost= 0.077069953 W= 0.244851 b= 0.835587\n",
      "Epoch: 0550 cost= 0.077061221 W= 0.245133 b= 0.833557\n",
      "Epoch: 0600 cost= 0.077053480 W= 0.245398 b= 0.831648\n",
      "Epoch: 0650 cost= 0.077046573 W= 0.245648 b= 0.829852\n",
      "Epoch: 0700 cost= 0.077040464 W= 0.245882 b= 0.828164\n",
      "Epoch: 0750 cost= 0.077035040 W= 0.246103 b= 0.826575\n",
      "Epoch: 0800 cost= 0.077030212 W= 0.246311 b= 0.825081\n",
      "Epoch: 0850 cost= 0.077025935 W= 0.246506 b= 0.823675\n",
      "Epoch: 0900 cost= 0.077022135 W= 0.24669 b= 0.822354\n",
      "Epoch: 0950 cost= 0.077018760 W= 0.246863 b= 0.821112\n",
      "Epoch: 1000 cost= 0.077015743 W= 0.247025 b= 0.819942\n",
      "Epoch: 1050 cost= 0.077013075 W= 0.247178 b= 0.818842\n",
      "Epoch: 1100 cost= 0.077010676 W= 0.247322 b= 0.817806\n",
      "Epoch: 1150 cost= 0.077008590 W= 0.247457 b= 0.816835\n",
      "Epoch: 1200 cost= 0.077006705 W= 0.247584 b= 0.815921\n",
      "Epoch: 1250 cost= 0.077005044 W= 0.247704 b= 0.815061\n",
      "Epoch: 1300 cost= 0.077003539 W= 0.247816 b= 0.814252\n",
      "Epoch: 1350 cost= 0.077002212 W= 0.247922 b= 0.813489\n",
      "Epoch: 1400 cost= 0.077001043 W= 0.248022 b= 0.812774\n",
      "Epoch: 1450 cost= 0.076999977 W= 0.248116 b= 0.812099\n",
      "Epoch: 1500 cost= 0.076999038 W= 0.248204 b= 0.811464\n",
      "Epoch: 1550 cost= 0.076998204 W= 0.248286 b= 0.81087\n",
      "Epoch: 1600 cost= 0.076997459 W= 0.248364 b= 0.810311\n",
      "Epoch: 1650 cost= 0.076996781 W= 0.248437 b= 0.809785\n",
      "Epoch: 1700 cost= 0.076996177 W= 0.248506 b= 0.809289\n",
      "Epoch: 1750 cost= 0.076995656 W= 0.248571 b= 0.808825\n",
      "Epoch: 1800 cost= 0.076995172 W= 0.248632 b= 0.808386\n",
      "Epoch: 1850 cost= 0.076994732 W= 0.248689 b= 0.807974\n",
      "Epoch: 1900 cost= 0.076994359 W= 0.248743 b= 0.807585\n",
      "Epoch: 1950 cost= 0.076994024 W= 0.248794 b= 0.80722\n",
      "Epoch: 2000 cost= 0.076993711 W= 0.248841 b= 0.806877\n",
      "Epoch: 2050 cost= 0.076993428 W= 0.248887 b= 0.806553\n",
      "Epoch: 2100 cost= 0.076993175 W= 0.248929 b= 0.80625\n",
      "Epoch: 2150 cost= 0.076992959 W= 0.248968 b= 0.805964\n",
      "Epoch: 2200 cost= 0.076992743 W= 0.249006 b= 0.805694\n",
      "Epoch: 2250 cost= 0.076992571 W= 0.249041 b= 0.80544\n",
      "Epoch: 2300 cost= 0.076992407 W= 0.249075 b= 0.805199\n",
      "Epoch: 2350 cost= 0.076992266 W= 0.249106 b= 0.804976\n",
      "Epoch: 2400 cost= 0.076992117 W= 0.249135 b= 0.804766\n",
      "Epoch: 2450 cost= 0.076992013 W= 0.249162 b= 0.804572\n",
      "Epoch: 2500 cost= 0.076991923 W= 0.249187 b= 0.804388\n",
      "Epoch: 2550 cost= 0.076991811 W= 0.249211 b= 0.804215\n",
      "Epoch: 2600 cost= 0.076991715 W= 0.249234 b= 0.804052\n",
      "Epoch: 2650 cost= 0.076991625 W= 0.249256 b= 0.803898\n",
      "Epoch: 2700 cost= 0.076991558 W= 0.249276 b= 0.80375\n",
      "Epoch: 2750 cost= 0.076991506 W= 0.249295 b= 0.803614\n",
      "Epoch: 2800 cost= 0.076991431 W= 0.249313 b= 0.803488\n",
      "Epoch: 2850 cost= 0.076991372 W= 0.249329 b= 0.803368\n",
      "Epoch: 2900 cost= 0.076991335 W= 0.249345 b= 0.803255\n",
      "Epoch: 2950 cost= 0.076991290 W= 0.24936 b= 0.803149\n",
      "Epoch: 3000 cost= 0.076991245 W= 0.249374 b= 0.803046\n",
      "Epoch: 3050 cost= 0.076991215 W= 0.249388 b= 0.802947\n",
      "Epoch: 3100 cost= 0.076991171 W= 0.2494 b= 0.802857\n",
      "Epoch: 3150 cost= 0.076991141 W= 0.249412 b= 0.802775\n",
      "Epoch: 3200 cost= 0.076991118 W= 0.249422 b= 0.8027\n",
      "Epoch: 3250 cost= 0.076991089 W= 0.249432 b= 0.802628\n",
      "Epoch: 3300 cost= 0.076991051 W= 0.249441 b= 0.802562\n",
      "Epoch: 3350 cost= 0.076991037 W= 0.249451 b= 0.802495\n",
      "Epoch: 3400 cost= 0.076991029 W= 0.249459 b= 0.802435\n",
      "Epoch: 3450 cost= 0.076991007 W= 0.249467 b= 0.802377\n",
      "Epoch: 3500 cost= 0.076990999 W= 0.249475 b= 0.80232\n",
      "Epoch: 3550 cost= 0.076990977 W= 0.249482 b= 0.802267\n",
      "Epoch: 3600 cost= 0.076990962 W= 0.249489 b= 0.802221\n",
      "Epoch: 3650 cost= 0.076990947 W= 0.249495 b= 0.802177\n",
      "Epoch: 3700 cost= 0.076990917 W= 0.249501 b= 0.802131\n",
      "Epoch: 3750 cost= 0.076990902 W= 0.249507 b= 0.802088\n",
      "Epoch: 3800 cost= 0.076990910 W= 0.249512 b= 0.802051\n",
      "Epoch: 3850 cost= 0.076990895 W= 0.249517 b= 0.802018\n",
      "Epoch: 3900 cost= 0.076990902 W= 0.249521 b= 0.801986\n",
      "Epoch: 3950 cost= 0.076990888 W= 0.249526 b= 0.801956\n",
      "Epoch: 4000 cost= 0.076990888 W= 0.24953 b= 0.801926\n",
      "Epoch: 4050 cost= 0.076990865 W= 0.249533 b= 0.801902\n",
      "Epoch: 4100 cost= 0.076990873 W= 0.249536 b= 0.801881\n",
      "Epoch: 4150 cost= 0.076990858 W= 0.249539 b= 0.80186\n",
      "Epoch: 4200 cost= 0.076990858 W= 0.249542 b= 0.801838\n",
      "Epoch: 4250 cost= 0.076990843 W= 0.249545 b= 0.801814\n",
      "Epoch: 4300 cost= 0.076990858 W= 0.249549 b= 0.801789\n",
      "Epoch: 4350 cost= 0.076990835 W= 0.249552 b= 0.801769\n",
      "Epoch: 4400 cost= 0.076990843 W= 0.249554 b= 0.801754\n",
      "Epoch: 4450 cost= 0.076990820 W= 0.249556 b= 0.801739\n",
      "Epoch: 4500 cost= 0.076990828 W= 0.249557 b= 0.801726\n",
      "Epoch: 4550 cost= 0.076990828 W= 0.249559 b= 0.801716\n",
      "Epoch: 4600 cost= 0.076990798 W= 0.24956 b= 0.801707\n",
      "Epoch: 4650 cost= 0.076990820 W= 0.249561 b= 0.801698\n",
      "Epoch: 4700 cost= 0.076990813 W= 0.249563 b= 0.801689\n",
      "Epoch: 4750 cost= 0.076990813 W= 0.249564 b= 0.801678\n",
      "Epoch: 4800 cost= 0.076990806 W= 0.249566 b= 0.801666\n",
      "Epoch: 4850 cost= 0.076990813 W= 0.249568 b= 0.801654\n",
      "Epoch: 4900 cost= 0.076990798 W= 0.249569 b= 0.801642\n",
      "Epoch: 4950 cost= 0.076990798 W= 0.249571 b= 0.801631\n",
      "Epoch: 5000 cost= 0.076990791 W= 0.249572 b= 0.801622\n",
      "Optimization Finished!\n",
      "Training cost= 0.0769908 W= 0.249572 b= 0.801622 \n",
      "\n"
     ]
    },
    {
     "data": {
      "image/png": "[encoded data removed]",
      "text/plain": [
       "<matplotlib.figure.Figure at 0x7ff9b9b72b50>"
      ]
     },
     "metadata": {},
     "output_type": "display_data"
    }
   ],
   "source": [
    "# Launch the graph\n",
    "\n",
    "with tf.Session() as sess:\n",
    "    sess.run(init)\n",
    "\n",
    "    # Fit all training data\n",
    "    for epoch in range(training_epochs):\n",
    "        for (x, y) in zip(train_X, train_Y):\n",
    "            sess.run(optimizer, feed_dict={X: x, Y: y})\n",
    "\n",
    "        #Display logs per epoch step\n",
    "        if (epoch+1) % display_step == 0:\n",
    "            c = sess.run(cost, feed_dict={X: train_X, Y:train_Y})\n",
    "            print \"Epoch:\", '%04d' % (epoch+1), \"cost=\", \"{:.9f}\".format(c), \\\n",
    "                \"W=\", sess.run(W), \"b=\", sess.run(b)\n",
    "\n",
    "    print \"Optimization Finished!\"\n",
    "    training_cost = sess.run(cost, feed_dict={X: train_X, Y: train_Y})\n",
    "    print \"Training cost=\", training_cost, \"W=\", sess.run(W), \"b=\", sess.run(b), '\\n'\n",
    "\n",
    "    #Graphic display\n",
    "    plt.plot(train_X, train_Y, 'ro', label='Original data')\n",
    "    plt.plot(train_X, sess.run(W) * train_X + sess.run(b), label='Fitted line')\n",
    "    plt.legend()\n",
    "    plt.show()"
   ]
  },
  {
   "cell_type": "code",
   "execution_count": 15,
   "metadata": {
    "collapsed": false
   },
   "outputs": [],
   "source": [
    "# Regression result"
   ]
  },
  {
   "cell_type": "code",
   "execution_count": null,
   "metadata": {
    "collapsed": true
   },
   "outputs": [],
   "source": []
  }
 ],
 "metadata": {
  "kernelspec": {
   "display_name": "Python 2",
   "language": "python",
   "name": "python2"
  },
  "language_info": {
   "codemirror_mode": {
    "name": "ipython",
    "version": 2
   },
   "file_extension": ".py",
   "mimetype": "text/x-python",
   "name": "python",
   "nbconvert_exporter": "python",
   "pygments_lexer": "ipython2",
   "version": "2.7.6"
  }
 },
 "nbformat": 4,
 "nbformat_minor": 0
}
